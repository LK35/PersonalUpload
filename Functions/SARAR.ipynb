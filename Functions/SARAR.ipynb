{
 "cells": [
  {
   "cell_type": "code",
   "execution_count": 25,
   "id": "ab5121b7",
   "metadata": {},
   "outputs": [],
   "source": [
    "import numpy as np\n",
    "import plotly.graph_objects as go\n",
    "from scipy.optimize import minimize\n",
    "from tqdm import tqdm\n",
    "from scipy.stats import t, multivariate_normal, multivariate_t\n",
    "from scipy.special import logsumexp, gamma, gammaln\n",
    "from numpy.linalg import inv, det, slogdet, LinAlgError\n",
    "from plotly.subplots import make_subplots\n",
    "\n",
    "from simulation import * "
   ]
  },
  {
   "cell_type": "code",
   "execution_count": null,
   "id": "827118a3",
   "metadata": {},
   "outputs": [],
   "source": [
    "# def gas_general_filter(\n",
    "#     params,\n",
    "#     Y,\n",
    "#     X,\n",
    "#     W1=None,\n",
    "#     W2=None,\n",
    "#     cL=None,\n",
    "#     cK=None,\n",
    "#     fix_nu=None\n",
    "# ):\n",
    "#     \"\"\"\n",
    "#     General multivariate GAS filter with optional fixed nu and intercept omega.\n",
    "\n",
    "#     Parameters:\n",
    "#     -----------\n",
    "#     params : ndarray\n",
    "#         Flattened parameter vector.\n",
    "#     Y : ndarray (T, R)\n",
    "#         Response matrix.\n",
    "#     X : ndarray (T, R, P)\n",
    "#         Regressor array.\n",
    "#     W1, W2 : ignored (only included for compatibility).\n",
    "#     cL, cK : int\n",
    "#         Lengths of lambda and kappa vectors (usually = R).\n",
    "#     fix_nu : float or None\n",
    "#         If provided, fixes the degrees of freedom nu.\n",
    "#     phi_type : str\n",
    "#         \"scalar\" or \"matrix\" for phi.\n",
    "\n",
    "#     Returns:\n",
    "#     --------\n",
    "#     Negative log-likelihood.\n",
    "#     \"\"\"\n",
    "#     T, R = Y.shape\n",
    "#     P = X.shape[2]\n",
    "\n",
    "#     idx = 0\n",
    "#     Phi = params[idx:idx + R * R].reshape(R, R); idx += R * R\n",
    "#     omega = params[idx:idx + R]; idx += R\n",
    "#     beta = params[idx:idx + P * R].reshape(P, R); idx += P * R\n",
    "#     lambda_vec = params[idx:idx + cL]; idx += cL\n",
    "#     kappa_vec = params[idx:idx + cK]; idx += cK\n",
    "#     if fix_nu is not None:\n",
    "#             nu = fix_nu\n",
    "#     else:\n",
    "#             nu = params[-1] #; idx += 1\n",
    "#     Lambda = np.diag(np.exp(2 * lambda_vec))\n",
    "#     Kappa = np.diag(kappa_vec)\n",
    "\n",
    "#     mu = np.zeros((T + 1, R))\n",
    "#     mu[0] = omega.copy()\n",
    "#     u = np.zeros((T, R))\n",
    "#     loglik = 0.0\n",
    "#     Lambda_inv = np.linalg.inv(Lambda)\n",
    "\n",
    "#     for t in range(T):\n",
    "#         dev_t = Y[t] - X[t] @ beta - mu[t]\n",
    "#         alpha_t = 1 + (1 / nu) * (dev_t.T @ Lambda_inv @ dev_t)\n",
    "#         u[t] = dev_t / alpha_t\n",
    "#         mu[t + 1] = omega + Phi @ (mu[t] - omega) + Kappa @ u[t]\n",
    "\n",
    "#         term1 = gammaln((nu + R) / 2) - gammaln(nu / 2)\n",
    "#         term2 = -0.5 * R * np.log(nu) - 0.5 * R * np.log(np.pi)\n",
    "#         term3 = -0.5 * np.log(det(Lambda))\n",
    "#         term4 = -0.5 * (nu + R) * np.log(alpha_t)\n",
    "#         loglik += term1 + term2 + term3 + term4\n",
    "    \n",
    "#     return -loglik\n",
    "\n",
    "def gas_general_filter(params, Y, X, cL, cK, fix_nu=None):\n",
    "    \"\"\"\n",
    "    Multivariate GAS filter with optional fixed nu and intercept omega.\n",
    "\n",
    "    Parameters:\n",
    "    -----------\n",
    "    params : ndarray\n",
    "        Parameter vector (flattened): [Phi, omega, beta, lambda, kappa, (nu)]\n",
    "    Y : ndarray (T, R)\n",
    "        Observed data\n",
    "    X : ndarray (T, P, R)\n",
    "        Regressor array with intercept included (broadcasted over R)\n",
    "    cL : int\n",
    "        Length of lambda vector (typically R)\n",
    "    cK : int\n",
    "        Length of kappa vector (typically R)\n",
    "    fix_nu : float or None\n",
    "        If provided, uses this fixed value for nu\n",
    "\n",
    "    Returns:\n",
    "    --------\n",
    "    neg_loglik : float\n",
    "        Negative log-likelihood (to minimize)\n",
    "    \"\"\"\n",
    "    T, R = Y.shape\n",
    "    P = X.shape[1]\n",
    "\n",
    "    idx = 0\n",
    "    Phi = params[idx:idx + R * R].reshape(R, R); idx += R * R\n",
    "    omega = params[idx:idx + R]; idx += R\n",
    "    beta = params[idx:idx + P * R].reshape(P, R); idx += P * R\n",
    "    lambda_vec = params[idx:idx + cL]; idx += cL\n",
    "    kappa_vec = params[idx:idx + cK]; idx += cK\n",
    "\n",
    "    if fix_nu is not None:\n",
    "        nu = fix_nu\n",
    "    else:\n",
    "        nu = params[idx]\n",
    "        if nu <= 2.01 or nu > 300:\n",
    "            return 1e10  # Penalize invalid nu\n",
    "\n",
    "    Lambda = np.diag(np.exp(2 * lambda_vec))\n",
    "    Kappa = np.diag(kappa_vec)\n",
    "    Lambda_inv = inv(Lambda)\n",
    "\n",
    "    mu = np.zeros((T + 1, R))\n",
    "    mu[0] = omega.copy()\n",
    "    loglik = 0.0\n",
    "\n",
    "    for t in range(T):\n",
    "        # Ensure all vectors are 1D\n",
    "        x_beta = X[t] @ beta  # (R,)\n",
    "        resid = (Y[t] - x_beta - mu[t]).flatten()\n",
    "\n",
    "        alpha_t = 1 + (1 / nu) * (resid.T @ Lambda_inv @ resid)\n",
    "        u_t = (Lambda_inv @ resid) / alpha_t\n",
    "\n",
    "        mu[t + 1] = omega + Phi @ (mu[t] - omega) + Kappa @ u_t\n",
    "\n",
    "        # Log-likelihood contribution\n",
    "        term1 = gammaln((nu + R) / 2) - gammaln(nu / 2)\n",
    "        term2 = -0.5 * R * np.log(nu) - 0.5 * R * np.log(np.pi)\n",
    "        term3 = -0.5 * np.log(det(Lambda))\n",
    "        term4 = -0.5 * (nu + R) * np.log(alpha_t)\n",
    "        loglik += term1 + term2 + term3 + term4\n",
    "\n",
    "    return -loglik  # for minimization\n"
   ]
  },
  {
   "cell_type": "code",
   "execution_count": null,
   "id": "72124a41",
   "metadata": {},
   "outputs": [],
   "source": [
    "# import numpy as np\n",
    "# from scipy.special import gammaln\n",
    "# from numpy.linalg import det\n",
    "\n",
    "\n",
    "# def gas_general_filter(\n",
    "#     params,\n",
    "#     Y,\n",
    "#     X,\n",
    "#     cL,\n",
    "#     cK,\n",
    "#     fix_nu=None,\n",
    "#     kappa_type=\"diagonal\"\n",
    "# ):\n",
    "#     \"\"\"\n",
    "#     General multivariate GAS filter log-likelihood.\n",
    "\n",
    "#     Parameters:\n",
    "#     -----------\n",
    "#     params : ndarray\n",
    "#         Flattened parameter vector.\n",
    "#     Y : ndarray (T, R)\n",
    "#         Response matrix.\n",
    "#     X : ndarray (T, P)\n",
    "#         Regressor matrix (including intercept if used).\n",
    "#     cL : int\n",
    "#         Length of lambda vector (usually = R).\n",
    "#     cK : int\n",
    "#         Length of kappa vector or matrix (depends on type).\n",
    "#     fix_nu : float or None\n",
    "#         If provided, fixes the degrees of freedom nu.\n",
    "#     kappa_type : str\n",
    "#         'diagonal' or 'full' for Kappa structure.\n",
    "\n",
    "#     Returns:\n",
    "#     --------\n",
    "#     Negative log-likelihood.\n",
    "#     \"\"\"\n",
    "#     T, R = Y.shape\n",
    "#     P = X.shape[1]  # num regressors (with intercept)\n",
    "\n",
    "#     idx = 0\n",
    "#     Phi = params[idx:idx + R * R].reshape(R, R); idx += R * R\n",
    "#     omega = params[idx:idx + R]; idx += R\n",
    "#     beta = params[idx:idx + P * R].reshape(P, R); idx += P * R\n",
    "#     lambda_vec = params[idx:idx + cL]; idx += cL\n",
    "\n",
    "#     if kappa_type == \"diagonal\":\n",
    "#         kappa_vec = params[idx:idx + R]; idx += R\n",
    "#         Kappa = np.diag(kappa_vec)\n",
    "#     elif kappa_type == \"full\":\n",
    "#         kappa_vec = params[idx:idx + R * R]; idx += R * R\n",
    "#         Kappa = kappa_vec.reshape(R, R)\n",
    "#     else:\n",
    "#         raise ValueError(\"kappa_type must be 'diagonal' or 'full'\")\n",
    "\n",
    "#     if fix_nu is not None:\n",
    "#         nu = fix_nu\n",
    "#     else:\n",
    "#         nu = params[idx]\n",
    "\n",
    "#     Lambda = np.diag(np.exp(2 * lambda_vec))\n",
    "#     Lambda_inv = np.linalg.inv(Lambda)\n",
    "\n",
    "#     mu = np.zeros((T + 1, R))\n",
    "#     mu[0] = omega.copy()\n",
    "\n",
    "#     loglik = 0.0\n",
    "\n",
    "#     for t in range(T):\n",
    "#         x_beta = X[t] @ beta  # shape (R,)\n",
    "#         resid = Y[t] - x_beta - mu[t]  # shape (R,)\n",
    "#         alpha_t = 1 + (1 / nu) * (resid.T @ Lambda_inv @ resid)\n",
    "#         u_t = (Lambda_inv @ resid) / alpha_t\n",
    "\n",
    "#         mu[t + 1] = omega + Phi @ (mu[t] - omega) + Kappa @ u_t\n",
    "\n",
    "#         term1 = gammaln((nu + R) / 2) - gammaln(nu / 2)\n",
    "#         term2 = -0.5 * R * np.log(nu) - 0.5 * R * np.log(np.pi)\n",
    "#         term3 = -0.5 * np.log(det(Lambda))\n",
    "#         term4 = -0.5 * (nu + R) * np.log(alpha_t)\n",
    "\n",
    "#         loglik += term1 + term2 + term3 + term4\n",
    "\n",
    "#     return -loglik\n"
   ]
  },
  {
   "cell_type": "code",
   "execution_count": 3,
   "id": "b4355d4d",
   "metadata": {},
   "outputs": [],
   "source": [
    "def gas_general_filter(\n",
    "    params,\n",
    "    Y,\n",
    "    X,\n",
    "    cL,\n",
    "    cK,\n",
    "    fix_nu=None,\n",
    "    kappa_type=\"diagonal\"\n",
    "):\n",
    "    \"\"\"\n",
    "    General multivariate GAS filter log-likelihood.\n",
    "\n",
    "    Parameters:\n",
    "    -----------\n",
    "    params : ndarray\n",
    "        Flattened parameter vector.\n",
    "    Y : ndarray (T, R)\n",
    "        Response matrix.\n",
    "    X : ndarray (T, P)\n",
    "        Regressor matrix (including intercept if used).\n",
    "    cL : int\n",
    "        Length of lambda vector (usually = R).\n",
    "    cK : int\n",
    "        Length of kappa vector or matrix (depends on type).\n",
    "    fix_nu : float or None\n",
    "        If provided, fixes the degrees of freedom nu.\n",
    "    kappa_type : str\n",
    "        'diagonal' or 'full' for Kappa structure.\n",
    "\n",
    "    Returns:\n",
    "    --------\n",
    "    Negative log-likelihood.\n",
    "    \"\"\"\n",
    "    T, R = Y.shape\n",
    "    P = X.shape[1]  # num regressors (with intercept)\n",
    "\n",
    "    idx = 0\n",
    "    Phi = params[idx:idx + R * R].reshape(R, R); idx += R * R\n",
    "    omega = params[idx:idx + R]; idx += R\n",
    "    beta = params[idx:idx + P * R].reshape(P, R); idx += P * R\n",
    "    lambda_vec = params[idx:idx + cL]; idx += cL\n",
    "\n",
    "    if kappa_type == \"diagonal\":\n",
    "        kappa_vec = params[idx:idx + R]; idx += R\n",
    "        Kappa = np.diag(kappa_vec)\n",
    "    elif kappa_type == \"full\":\n",
    "        kappa_vec = params[idx:idx + R * R]; idx += R * R\n",
    "        Kappa = kappa_vec.reshape(R, R)\n",
    "    else:\n",
    "        raise ValueError(\"kappa_type must be 'diagonal' or 'full'\")\n",
    "\n",
    "    if fix_nu is not None:\n",
    "        nu = fix_nu\n",
    "    else:\n",
    "        nu = params[idx]\n",
    "\n",
    "    Lambda = np.diag(np.exp(2 * lambda_vec))\n",
    "    Lambda_inv = np.linalg.inv(Lambda)\n",
    "\n",
    "    mu = np.zeros((T + 1, R))\n",
    "    mu[0] = omega.copy()\n",
    "\n",
    "    loglik = 0.0\n",
    "\n",
    "    for t in range(T):\n",
    "        x_beta = X[t] @ beta  # shape (R,)\n",
    "        resid = Y[t] - x_beta - mu[t]  # shape (R,)\n",
    "        alpha_t = 1 + (1 / nu) * (resid.T @ Lambda_inv @ resid)\n",
    "        u_t = (Lambda_inv @ resid) / alpha_t\n",
    "\n",
    "        mu[t + 1] = omega + Phi @ (mu[t] - omega) + Kappa @ u_t\n",
    "\n",
    "        term1 = gammaln((nu + R) / 2) - gammaln(nu / 2)\n",
    "        term2 = -0.5 * R * np.log(nu) - 0.5 * R * np.log(np.pi)\n",
    "        term3 = -0.5 * np.log(det(Lambda))\n",
    "        term4 = -0.5 * (nu + R) * np.log(alpha_t)\n",
    "\n",
    "        loglik += term1 + term2 + term3 + term4\n",
    "\n",
    "    return -loglik\n",
    "    "
   ]
  },
  {
   "cell_type": "markdown",
   "id": "fa1c8914",
   "metadata": {},
   "source": [
    "## Build own student_t_logpdf \n",
    "need some safeguards for numerical stability"
   ]
  },
  {
   "cell_type": "code",
   "execution_count": 27,
   "id": "9818fd50",
   "metadata": {},
   "outputs": [],
   "source": [
    "# def student_t_logpdf(y, mu, Omega, nu, log_output = True, min_det = 1e-50):\n",
    "#     \"\"\"\n",
    "#     Log-density of multivariate Student-t distribution.\n",
    "\n",
    "#     Parameters:\n",
    "#     -----------\n",
    "#     y : ndarray (R,)\n",
    "#         Observation\n",
    "#     mu : ndarray (R,)\n",
    "#         Mean vector\n",
    "#     Omega : ndarray (R, R)\n",
    "#         Scale matrix (positive definite)\n",
    "#     nu : float\n",
    "#         Degrees of freedom\n",
    "#     log_output : bool\n",
    "#         Whether to return log-density\n",
    "#     min_det : float\n",
    "#         Minimum determinant value to avoid numerical instability\n",
    "\n",
    "#     Returns:\n",
    "#     --------\n",
    "#     log_pdf : float\n",
    "#     \"\"\"\n",
    "#     R = Omega.shape[0]\n",
    "#     diff = y - mu\n",
    "#     try:\n",
    "#         sign, logdet_Omega = slogdet(Omega)\n",
    "#         if sign <= 0 or logdet_Omega < np.log(min_det):     # Avoid negative or zero determinant\n",
    "#             logdet_Omega = np.log(min_det)\n",
    "#     except:\n",
    "#         logdet_Omega = np.log(min_det)\n",
    "    \n",
    "#     inv_sqrt_Omega = inv(np.linalg.cholesky(Omega).T)\n",
    "#     eps = inv_sqrt_Omega @ diff\n",
    "#     w = 1 + (1 / nu) * (eps.T @ eps)\n",
    "\n",
    "#     log_pdf = (\n",
    "#         gammaln((nu + R) / 2)\n",
    "#         - gammaln(nu / 2)\n",
    "#         - (R / 2) * np.log(np.pi)\n",
    "#         - (R / 2) * np.log(nu)\n",
    "#         - 0.5 * logdet_Omega\n",
    "#         - ((nu + R) / 2) * np.log(w)\n",
    "#     )\n",
    "#     return log_pdf if log_output else np.exp(log_pdf)\n",
    "\n",
    "def student_t_logpdf(y, mu, Omega, nu, log_output=True, min_det=1e-50):\n",
    "    R = Omega.shape[0]\n",
    "    diff = y - mu\n",
    "\n",
    "    try:\n",
    "        sign, logdet_Omega = slogdet(Omega)\n",
    "        if sign <= 0 or logdet_Omega < np.log(min_det):\n",
    "            logdet_Omega = np.log(min_det)\n",
    "\n",
    "        L = np.linalg.cholesky(Omega)\n",
    "        inv_sqrt_Omega = inv(L.T)\n",
    "    except np.linalg.LinAlgError:\n",
    "        return -1e12\n",
    "\n",
    "    eps = inv_sqrt_Omega @ diff\n",
    "    w = 1 + (1 / nu) * (eps.T @ eps)\n",
    "\n",
    "    log_pdf = (\n",
    "        gammaln((nu + R) / 2)\n",
    "        - gammaln(nu / 2)\n",
    "        - (R / 2) * np.log(np.pi)\n",
    "        - (R / 2) * np.log(nu)\n",
    "        - 0.5 * logdet_Omega\n",
    "        - ((nu + R) / 2) * np.log(w)\n",
    "    )\n",
    "\n",
    "    if not np.isfinite(log_pdf):\n",
    "        return -1e12\n",
    "\n",
    "    return log_pdf if log_output else np.exp(log_pdf)"
   ]
  },
  {
   "cell_type": "code",
   "execution_count": 28,
   "id": "11223122",
   "metadata": {},
   "outputs": [],
   "source": [
    "def gas_general_filter(\n",
    "    params,\n",
    "    Y,\n",
    "    X,\n",
    "    cL,\n",
    "    cK,\n",
    "    fix_nu=None,\n",
    "    kappa_type=\"diagonal\"\n",
    "):\n",
    "    \"\"\"\n",
    "    General multivariate GAS filter log-likelihood.\n",
    "\n",
    "    Parameters:\n",
    "    -----------\n",
    "    params : ndarray\n",
    "        Flattened parameter vector.\n",
    "    Y : ndarray (T, R)\n",
    "        Response matrix.\n",
    "    X : ndarray (T, P)\n",
    "        Regressor matrix (including intercept if used).\n",
    "    cL : int\n",
    "        Length of lambda vector (usually = R).\n",
    "    cK : int\n",
    "        Length of kappa vector or matrix (depends on type).\n",
    "    fix_nu : float or None\n",
    "        If provided, fixes the degrees of freedom nu.\n",
    "    kappa_type : str\n",
    "        'diagonal' or 'full' for Kappa structure.\n",
    "\n",
    "    Returns:\n",
    "    --------\n",
    "    Negative log-likelihood.\n",
    "    \"\"\"\n",
    "    T, R = Y.shape\n",
    "    P = X.shape[1]  # num regressors (with intercept)\n",
    "\n",
    "    idx = 0\n",
    "    Phi = params[idx:idx + R * R].reshape(R, R); idx += R * R\n",
    "    omega = params[idx:idx + R]; idx += R\n",
    "    beta = params[idx:idx + P * R].reshape(P, R); idx += P * R\n",
    "    lambda_vec = params[idx:idx + cL]; idx += cL\n",
    "\n",
    "    if kappa_type == \"diagonal\":\n",
    "        kappa_vec = params[idx:idx + R]; idx += R\n",
    "        Kappa = np.diag(kappa_vec)\n",
    "    elif kappa_type == \"full\":\n",
    "        kappa_vec = params[idx:idx + R * R]; idx += R * R\n",
    "        Kappa = kappa_vec.reshape(R, R)\n",
    "    else:\n",
    "        raise ValueError(\"kappa_type must be 'diagonal' or 'full'\")\n",
    "\n",
    "    if fix_nu is not None:\n",
    "        nu = fix_nu\n",
    "    else:\n",
    "        nu = params[idx]\n",
    "\n",
    "    Lambda = np.diag(np.exp(2 * lambda_vec))\n",
    "    Lambda_inv = np.linalg.inv(Lambda)\n",
    "\n",
    "    mu = np.zeros((T + 1, R))\n",
    "    mu[0] = omega.copy()\n",
    "\n",
    "    loglik = 0.0\n",
    "\n",
    "    for t in range(T):\n",
    "        x_beta = X[t] @ beta  # shape (R,)\n",
    "        resid = Y[t] - x_beta - mu[t]  # shape (R,)\n",
    "        alpha_t = 1 + (1 / nu) * (resid.T @ Lambda_inv @ resid)\n",
    "        u_t = (Lambda_inv @ resid) / alpha_t\n",
    "\n",
    "        mu[t + 1] = omega + Phi @ (mu[t] - omega) + Kappa @ u_t\n",
    "\n",
    "        # term1 = gammaln((nu + R) / 2) - gammaln(nu / 2)\n",
    "        # term2 = -0.5 * R * np.log(nu) - 0.5 * R * np.log(np.pi)\n",
    "        # term3 = -0.5 * np.log(det(Lambda))\n",
    "        # term4 = -0.5 * (nu + R) * np.log(alpha_t)\n",
    "        # loglik += term1 + term2 + term3 + term4\n",
    "        loglik += student_t_logpdf(Y[t], x_beta + mu[t], Lambda, nu)\n",
    "\n",
    "\n",
    "    return -loglik"
   ]
  },
  {
   "cell_type": "code",
   "execution_count": 5,
   "id": "bf14c5d4",
   "metadata": {},
   "outputs": [],
   "source": [
    "def gas_filter_eval(params, Y, X, cL, cK, fix_nu=None, kappa_type=\"diagonal\"):\n",
    "    \"\"\"\n",
    "    Run the GAS filter and return filtered mu, scaled scores u, and residuals.\n",
    "    \n",
    "    Parameters:\n",
    "    -----------\n",
    "    params : ndarray\n",
    "        Flattened parameter vector.\n",
    "    Y : ndarray (T, R)\n",
    "        Response matrix.\n",
    "    X : ndarray (T, P)\n",
    "        Regressor matrix.\n",
    "    cL : int\n",
    "        Length of lambda vector.\n",
    "    cK : int\n",
    "        Length of kappa vector or matrix.\n",
    "    fix_nu : float or None\n",
    "        If provided, fixes the degrees of freedom.\n",
    "    kappa_type : str\n",
    "        'diagonal' or 'full'.\n",
    "    \n",
    "    Returns:\n",
    "    --------\n",
    "    mu : ndarray (T, R)\n",
    "        Filtered latent states.\n",
    "    u : ndarray (T, R)\n",
    "        Scaled score vectors.\n",
    "    resid : ndarray (T, R)\n",
    "        Residuals.\n",
    "    \"\"\"\n",
    "    T, R = Y.shape\n",
    "    P = X.shape[1]  # Number of regressors (including intercept)\n",
    "\n",
    "    idx = 0\n",
    "    Phi = params[idx:idx + R * R].reshape(R, R); idx += R * R\n",
    "    omega = params[idx:idx + R]; idx += R\n",
    "    beta = params[idx:idx + P * R].reshape(P, R); idx += P * R\n",
    "    lambda_vec = params[idx:idx + cL]; idx += cL\n",
    "\n",
    "    if kappa_type == \"diagonal\":\n",
    "        kappa_vec = params[idx:idx + R]; idx += R\n",
    "        Kappa = np.diag(kappa_vec)\n",
    "    elif kappa_type == \"full\":\n",
    "        kappa_vec = params[idx:idx + R * R]; idx += R * R\n",
    "        Kappa = kappa_vec.reshape(R, R)\n",
    "    else:\n",
    "        raise ValueError(\"kappa_type must be 'diagonal' or 'full'\")\n",
    "\n",
    "    if fix_nu is not None:\n",
    "        nu = fix_nu\n",
    "    else:\n",
    "        nu = params[idx]\n",
    "\n",
    "    Lambda = np.diag(np.exp(2 * lambda_vec))\n",
    "    Lambda_inv = np.linalg.inv(Lambda)\n",
    "\n",
    "    mu = np.zeros((T + 1, R))\n",
    "    mu[0] = omega.copy()\n",
    "\n",
    "    u = np.zeros((T, R))\n",
    "    resid = np.zeros((T, R))\n",
    "\n",
    "    for t in range(T):\n",
    "        x_beta = X[t] @ beta\n",
    "        resid[t] = Y[t] - x_beta - mu[t]\n",
    "        alpha_t = 1 + (1 / nu) * (resid[t].T @ Lambda_inv @ resid[t])\n",
    "        u[t] = (Lambda_inv @ resid[t]) / alpha_t\n",
    "        mu[t + 1] = omega + Phi @ (mu[t] - omega) + Kappa @ u[t]\n",
    "\n",
    "    return mu[1:], u, resid\n"
   ]
  },
  {
   "cell_type": "code",
   "execution_count": 29,
   "id": "d2c194e1",
   "metadata": {},
   "outputs": [],
   "source": [
    "def simulate_multivariate_t_gas(T, N, omega, Phi, K_mat, Omega, nu, beta=None, seed=None):\n",
    "    \"\"\"\n",
    "    Simulate multivariate GAS model data, optionally with regressors.\n",
    "\n",
    "    Model:\n",
    "        y_t = mu_t + X_t @ beta + eps_t, eps_t ~ t_nu(0, Omega)\n",
    "        mu_{t+1} = omega + Phi(mu_t - omega) + K_mat * u_t\n",
    "\n",
    "    Scaled score:\n",
    "        u_t = ((nu + N) * inv_Omega @ residual) / (nu + residual' @ inv_Omega @ residual)\n",
    "\n",
    "    Parameters:\n",
    "    -----------\n",
    "    T : int\n",
    "        Number of observations.\n",
    "    N : int\n",
    "        Dimension of the response vector.\n",
    "    omega : ndarray (N,)\n",
    "        GAS intercept.\n",
    "    Phi : ndarray (N, N)\n",
    "        GAS transition matrix.\n",
    "    K_mat : ndarray (N, N)\n",
    "        GAS updating matrix.\n",
    "    Omega : ndarray (N, N)\n",
    "        Covariance matrix (positive definite).\n",
    "    nu : float\n",
    "        Degrees of freedom for Student's t-distribution.\n",
    "    beta : ndarray ((K+1), N) or None, optional\n",
    "        Regression coefficient matrix including intercept. If None, no regressors included.\n",
    "    seed : int or None, optional\n",
    "        Random seed for reproducibility.\n",
    "\n",
    "    Returns:\n",
    "    --------\n",
    "    y : ndarray (T, N)\n",
    "        Simulated observations.\n",
    "    mu : ndarray (T, N)\n",
    "        Simulated latent states.\n",
    "    X : ndarray (T, K+1) or None\n",
    "        Simulated regressors including intercept (first column), if beta provided.\n",
    "    errors : ndarray (T, N)\n",
    "        Simulated residuals (eps_t).\n",
    "    \"\"\"\n",
    "    if seed is not None:\n",
    "        np.random.seed(seed)\n",
    "\n",
    "    omega = np.asarray(omega).reshape(N,)\n",
    "    Phi = np.asarray(Phi).reshape(N, N)\n",
    "    K_mat = np.asarray(K_mat).reshape(N, N)\n",
    "    Omega = np.asarray(Omega).reshape(N, N)\n",
    "    inv_Omega = np.linalg.inv(Omega)\n",
    "\n",
    "    # Generate regressors with intercept if beta is provided\n",
    "    if beta is not None:\n",
    "        beta = np.asarray(beta)\n",
    "        K_plus_1 = beta.shape[0]  # includes intercept\n",
    "        X = np.random.normal(size=(T, K_plus_1 - 1))\n",
    "        X = np.hstack((np.ones((T, 1)), X))  # prepend intercept column\n",
    "    else:\n",
    "        X = None\n",
    "\n",
    "    mu = np.zeros((T, N))\n",
    "    y = np.zeros((T, N))\n",
    "    errors = np.zeros((T, N))\n",
    "    mu[0] = omega.copy()\n",
    "\n",
    "    # First observation\n",
    "    if beta is not None:\n",
    "        y[0] = mu[0] + X[0] @ beta + multivariate_t.rvs(df=nu, loc=np.zeros(N), shape=Omega)\n",
    "    else:\n",
    "        y[0] = mu[0] + multivariate_t.rvs(df=nu, loc=np.zeros(N), shape=Omega)\n",
    "\n",
    "    errors[0] = y[0] - (X[0] @ beta + mu[0] if beta is not None else mu[0])\n",
    "\n",
    "    for i in tqdm(range(1, T)):\n",
    "        pred = mu[i - 1] + (X[i] @ beta if beta is not None else 0)\n",
    "        eps_t = multivariate_t.rvs(df=nu, loc=np.zeros(N), shape=Omega)\n",
    "        y[i] = pred + eps_t\n",
    "\n",
    "        resid = y[i] - pred\n",
    "        mahalanobis = resid @ inv_Omega @ resid\n",
    "        weight = (nu + N) / (nu + mahalanobis)\n",
    "        u_t = weight * (inv_Omega @ resid)\n",
    "\n",
    "        mu[i] = omega + Phi @ (mu[i - 1] - omega) + K_mat @ u_t\n",
    "        errors[i] = eps_t\n",
    "\n",
    "    return y, mu, X, errors"
   ]
  },
  {
   "cell_type": "code",
   "execution_count": 30,
   "id": "aeb5cc60",
   "metadata": {},
   "outputs": [],
   "source": [
    "import numpy as np\n",
    "\n",
    "def simulate_multivariate_state_space(T, N, c, Phi, Q, R, beta=None, seed=None):\n",
    "    \"\"\"\n",
    "    Simulate a multivariate linear Gaussian state-space model with optional regressors.\n",
    "\n",
    "    Observation equation:\n",
    "        y_t = mu_t + X_t @ beta + eps_t, eps_t ~ N(0, R)\n",
    "\n",
    "    State equation:\n",
    "        mu_{t+1} = c + Phi @ mu_t + eta_t, eta_t ~ N(0, Q)\n",
    "\n",
    "    Parameters:\n",
    "    -----------\n",
    "    T : int\n",
    "        Number of time steps.\n",
    "    N : int\n",
    "        Number of response series (dimensionality).\n",
    "    c : ndarray (N,)\n",
    "        State intercept vector.\n",
    "    Phi : ndarray (N, N)\n",
    "        State transition matrix.\n",
    "    Q : ndarray (N, N)\n",
    "        Covariance of state noise.\n",
    "    R : ndarray (N, N)\n",
    "        Covariance of observation noise.\n",
    "    beta : ndarray (K+1, N) or None\n",
    "        Regression coefficients (first row is intercept).\n",
    "    seed : int or None\n",
    "        Seed for reproducibility.\n",
    "\n",
    "    Returns:\n",
    "    --------\n",
    "    y : ndarray (T, N)\n",
    "        Simulated observations.\n",
    "    mu : ndarray (T, N)\n",
    "        Simulated latent states.\n",
    "    X : ndarray (T, K+1) or None\n",
    "        Regressor matrix (first column is intercept).\n",
    "    \"\"\"\n",
    "    if seed is not None:\n",
    "        np.random.seed(seed)\n",
    "\n",
    "    # Validate shapes\n",
    "    c = np.asarray(c).reshape(N,)\n",
    "    Phi = np.asarray(Phi).reshape(N, N)\n",
    "    Q = np.asarray(Q).reshape(N, N)\n",
    "    R = np.asarray(R).reshape(N, N)\n",
    "\n",
    "    # Regressor matrix with intercept\n",
    "    if beta is not None:\n",
    "        beta = np.asarray(beta)\n",
    "        K_plus1 = beta.shape[0]\n",
    "        K = K_plus1 - 1\n",
    "        X_raw = np.random.normal(size=(T, K))\n",
    "        X = np.ones((T, K_plus1))  # first column = intercept\n",
    "        X[:, 1:] = X_raw\n",
    "    else:\n",
    "        X = None\n",
    "\n",
    "    mu = np.zeros((T, N))\n",
    "    y = np.zeros((T, N))\n",
    "\n",
    "    # Initial state (stationary mean of AR(1) process)\n",
    "    mu[0] = np.linalg.solve(np.eye(N) - Phi, c)\n",
    "\n",
    "    for t in range(T):\n",
    "        # Observation\n",
    "        if beta is not None:\n",
    "            y[t] = mu[t] + X[t] @ beta + np.random.multivariate_normal(mean=np.zeros(N), cov=R)\n",
    "        else:\n",
    "            y[t] = mu[t] + np.random.multivariate_normal(mean=np.zeros(N), cov=R)\n",
    "\n",
    "        # State transition\n",
    "        if t < T - 1:\n",
    "            mu[t + 1] = c + Phi @ mu[t] + np.random.multivariate_normal(mean=np.zeros(N), cov=Q)\n",
    "\n",
    "    return y, mu, X\n"
   ]
  },
  {
   "cell_type": "code",
   "execution_count": 31,
   "id": "dec38eb4",
   "metadata": {},
   "outputs": [
    {
     "name": "stderr",
     "output_type": "stream",
     "text": [
      "100%|██████████| 299/299 [00:00<00:00, 20433.68it/s]"
     ]
    },
    {
     "name": "stderr",
     "output_type": "stream",
     "text": [
      "\n"
     ]
    },
    {
     "data": {
      "application/vnd.plotly.v1+json": {
       "config": {
        "plotlyServerURL": "https://plot.ly"
       },
       "data": [
        {
         "mode": "lines",
         "name": "y_1",
         "type": "scatter",
         "xaxis": "x",
         "y": {
          "bdata": "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",
          "dtype": "f8"
         },
         "yaxis": "y"
        },
        {
         "mode": "lines",
         "name": "mu_1",
         "type": "scatter",
         "xaxis": "x2",
         "y": {
          "bdata": "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",
          "dtype": "f8"
         },
         "yaxis": "y2"
        },
        {
         "mode": "lines",
         "name": "y_2",
         "type": "scatter",
         "xaxis": "x",
         "y": {
          "bdata": "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",
          "dtype": "f8"
         },
         "yaxis": "y"
        },
        {
         "mode": "lines",
         "name": "mu_2",
         "type": "scatter",
         "xaxis": "x2",
         "y": {
          "bdata": "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",
          "dtype": "f8"
         },
         "yaxis": "y2"
        }
       ],
       "layout": {
        "annotations": [
         {
          "font": {
           "size": 16
          },
          "showarrow": false,
          "text": "Observed y",
          "x": 0.5,
          "xanchor": "center",
          "xref": "paper",
          "y": 1,
          "yanchor": "bottom",
          "yref": "paper"
         },
         {
          "font": {
           "size": 16
          },
          "showarrow": false,
          "text": "Filtered mu",
          "x": 0.5,
          "xanchor": "center",
          "xref": "paper",
          "y": 0.375,
          "yanchor": "bottom",
          "yref": "paper"
         }
        ],
        "height": 600,
        "template": {
         "data": {
          "bar": [
           {
            "error_x": {
             "color": "#2a3f5f"
            },
            "error_y": {
             "color": "#2a3f5f"
            },
            "marker": {
             "line": {
              "color": "#E5ECF6",
              "width": 0.5
             },
             "pattern": {
              "fillmode": "overlay",
              "size": 10,
              "solidity": 0.2
             }
            },
            "type": "bar"
           }
          ],
          "barpolar": [
           {
            "marker": {
             "line": {
              "color": "#E5ECF6",
              "width": 0.5
             },
             "pattern": {
              "fillmode": "overlay",
              "size": 10,
              "solidity": 0.2
             }
            },
            "type": "barpolar"
           }
          ],
          "carpet": [
           {
            "aaxis": {
             "endlinecolor": "#2a3f5f",
             "gridcolor": "white",
             "linecolor": "white",
             "minorgridcolor": "white",
             "startlinecolor": "#2a3f5f"
            },
            "baxis": {
             "endlinecolor": "#2a3f5f",
             "gridcolor": "white",
             "linecolor": "white",
             "minorgridcolor": "white",
             "startlinecolor": "#2a3f5f"
            },
            "type": "carpet"
           }
          ],
          "choropleth": [
           {
            "colorbar": {
             "outlinewidth": 0,
             "ticks": ""
            },
            "type": "choropleth"
           }
          ],
          "contour": [
           {
            "colorbar": {
             "outlinewidth": 0,
             "ticks": ""
            },
            "colorscale": [
             [
              0,
              "#0d0887"
             ],
             [
              0.1111111111111111,
              "#46039f"
             ],
             [
              0.2222222222222222,
              "#7201a8"
             ],
             [
              0.3333333333333333,
              "#9c179e"
             ],
             [
              0.4444444444444444,
              "#bd3786"
             ],
             [
              0.5555555555555556,
              "#d8576b"
             ],
             [
              0.6666666666666666,
              "#ed7953"
             ],
             [
              0.7777777777777778,
              "#fb9f3a"
             ],
             [
              0.8888888888888888,
              "#fdca26"
             ],
             [
              1,
              "#f0f921"
             ]
            ],
            "type": "contour"
           }
          ],
          "contourcarpet": [
           {
            "colorbar": {
             "outlinewidth": 0,
             "ticks": ""
            },
            "type": "contourcarpet"
           }
          ],
          "heatmap": [
           {
            "colorbar": {
             "outlinewidth": 0,
             "ticks": ""
            },
            "colorscale": [
             [
              0,
              "#0d0887"
             ],
             [
              0.1111111111111111,
              "#46039f"
             ],
             [
              0.2222222222222222,
              "#7201a8"
             ],
             [
              0.3333333333333333,
              "#9c179e"
             ],
             [
              0.4444444444444444,
              "#bd3786"
             ],
             [
              0.5555555555555556,
              "#d8576b"
             ],
             [
              0.6666666666666666,
              "#ed7953"
             ],
             [
              0.7777777777777778,
              "#fb9f3a"
             ],
             [
              0.8888888888888888,
              "#fdca26"
             ],
             [
              1,
              "#f0f921"
             ]
            ],
            "type": "heatmap"
           }
          ],
          "histogram": [
           {
            "marker": {
             "pattern": {
              "fillmode": "overlay",
              "size": 10,
              "solidity": 0.2
             }
            },
            "type": "histogram"
           }
          ],
          "histogram2d": [
           {
            "colorbar": {
             "outlinewidth": 0,
             "ticks": ""
            },
            "colorscale": [
             [
              0,
              "#0d0887"
             ],
             [
              0.1111111111111111,
              "#46039f"
             ],
             [
              0.2222222222222222,
              "#7201a8"
             ],
             [
              0.3333333333333333,
              "#9c179e"
             ],
             [
              0.4444444444444444,
              "#bd3786"
             ],
             [
              0.5555555555555556,
              "#d8576b"
             ],
             [
              0.6666666666666666,
              "#ed7953"
             ],
             [
              0.7777777777777778,
              "#fb9f3a"
             ],
             [
              0.8888888888888888,
              "#fdca26"
             ],
             [
              1,
              "#f0f921"
             ]
            ],
            "type": "histogram2d"
           }
          ],
          "histogram2dcontour": [
           {
            "colorbar": {
             "outlinewidth": 0,
             "ticks": ""
            },
            "colorscale": [
             [
              0,
              "#0d0887"
             ],
             [
              0.1111111111111111,
              "#46039f"
             ],
             [
              0.2222222222222222,
              "#7201a8"
             ],
             [
              0.3333333333333333,
              "#9c179e"
             ],
             [
              0.4444444444444444,
              "#bd3786"
             ],
             [
              0.5555555555555556,
              "#d8576b"
             ],
             [
              0.6666666666666666,
              "#ed7953"
             ],
             [
              0.7777777777777778,
              "#fb9f3a"
             ],
             [
              0.8888888888888888,
              "#fdca26"
             ],
             [
              1,
              "#f0f921"
             ]
            ],
            "type": "histogram2dcontour"
           }
          ],
          "mesh3d": [
           {
            "colorbar": {
             "outlinewidth": 0,
             "ticks": ""
            },
            "type": "mesh3d"
           }
          ],
          "parcoords": [
           {
            "line": {
             "colorbar": {
              "outlinewidth": 0,
              "ticks": ""
             }
            },
            "type": "parcoords"
           }
          ],
          "pie": [
           {
            "automargin": true,
            "type": "pie"
           }
          ],
          "scatter": [
           {
            "fillpattern": {
             "fillmode": "overlay",
             "size": 10,
             "solidity": 0.2
            },
            "type": "scatter"
           }
          ],
          "scatter3d": [
           {
            "line": {
             "colorbar": {
              "outlinewidth": 0,
              "ticks": ""
             }
            },
            "marker": {
             "colorbar": {
              "outlinewidth": 0,
              "ticks": ""
             }
            },
            "type": "scatter3d"
           }
          ],
          "scattercarpet": [
           {
            "marker": {
             "colorbar": {
              "outlinewidth": 0,
              "ticks": ""
             }
            },
            "type": "scattercarpet"
           }
          ],
          "scattergeo": [
           {
            "marker": {
             "colorbar": {
              "outlinewidth": 0,
              "ticks": ""
             }
            },
            "type": "scattergeo"
           }
          ],
          "scattergl": [
           {
            "marker": {
             "colorbar": {
              "outlinewidth": 0,
              "ticks": ""
             }
            },
            "type": "scattergl"
           }
          ],
          "scattermap": [
           {
            "marker": {
             "colorbar": {
              "outlinewidth": 0,
              "ticks": ""
             }
            },
            "type": "scattermap"
           }
          ],
          "scattermapbox": [
           {
            "marker": {
             "colorbar": {
              "outlinewidth": 0,
              "ticks": ""
             }
            },
            "type": "scattermapbox"
           }
          ],
          "scatterpolar": [
           {
            "marker": {
             "colorbar": {
              "outlinewidth": 0,
              "ticks": ""
             }
            },
            "type": "scatterpolar"
           }
          ],
          "scatterpolargl": [
           {
            "marker": {
             "colorbar": {
              "outlinewidth": 0,
              "ticks": ""
             }
            },
            "type": "scatterpolargl"
           }
          ],
          "scatterternary": [
           {
            "marker": {
             "colorbar": {
              "outlinewidth": 0,
              "ticks": ""
             }
            },
            "type": "scatterternary"
           }
          ],
          "surface": [
           {
            "colorbar": {
             "outlinewidth": 0,
             "ticks": ""
            },
            "colorscale": [
             [
              0,
              "#0d0887"
             ],
             [
              0.1111111111111111,
              "#46039f"
             ],
             [
              0.2222222222222222,
              "#7201a8"
             ],
             [
              0.3333333333333333,
              "#9c179e"
             ],
             [
              0.4444444444444444,
              "#bd3786"
             ],
             [
              0.5555555555555556,
              "#d8576b"
             ],
             [
              0.6666666666666666,
              "#ed7953"
             ],
             [
              0.7777777777777778,
              "#fb9f3a"
             ],
             [
              0.8888888888888888,
              "#fdca26"
             ],
             [
              1,
              "#f0f921"
             ]
            ],
            "type": "surface"
           }
          ],
          "table": [
           {
            "cells": {
             "fill": {
              "color": "#EBF0F8"
             },
             "line": {
              "color": "white"
             }
            },
            "header": {
             "fill": {
              "color": "#C8D4E3"
             },
             "line": {
              "color": "white"
             }
            },
            "type": "table"
           }
          ]
         },
         "layout": {
          "annotationdefaults": {
           "arrowcolor": "#2a3f5f",
           "arrowhead": 0,
           "arrowwidth": 1
          },
          "autotypenumbers": "strict",
          "coloraxis": {
           "colorbar": {
            "outlinewidth": 0,
            "ticks": ""
           }
          },
          "colorscale": {
           "diverging": [
            [
             0,
             "#8e0152"
            ],
            [
             0.1,
             "#c51b7d"
            ],
            [
             0.2,
             "#de77ae"
            ],
            [
             0.3,
             "#f1b6da"
            ],
            [
             0.4,
             "#fde0ef"
            ],
            [
             0.5,
             "#f7f7f7"
            ],
            [
             0.6,
             "#e6f5d0"
            ],
            [
             0.7,
             "#b8e186"
            ],
            [
             0.8,
             "#7fbc41"
            ],
            [
             0.9,
             "#4d9221"
            ],
            [
             1,
             "#276419"
            ]
           ],
           "sequential": [
            [
             0,
             "#0d0887"
            ],
            [
             0.1111111111111111,
             "#46039f"
            ],
            [
             0.2222222222222222,
             "#7201a8"
            ],
            [
             0.3333333333333333,
             "#9c179e"
            ],
            [
             0.4444444444444444,
             "#bd3786"
            ],
            [
             0.5555555555555556,
             "#d8576b"
            ],
            [
             0.6666666666666666,
             "#ed7953"
            ],
            [
             0.7777777777777778,
             "#fb9f3a"
            ],
            [
             0.8888888888888888,
             "#fdca26"
            ],
            [
             1,
             "#f0f921"
            ]
           ],
           "sequentialminus": [
            [
             0,
             "#0d0887"
            ],
            [
             0.1111111111111111,
             "#46039f"
            ],
            [
             0.2222222222222222,
             "#7201a8"
            ],
            [
             0.3333333333333333,
             "#9c179e"
            ],
            [
             0.4444444444444444,
             "#bd3786"
            ],
            [
             0.5555555555555556,
             "#d8576b"
            ],
            [
             0.6666666666666666,
             "#ed7953"
            ],
            [
             0.7777777777777778,
             "#fb9f3a"
            ],
            [
             0.8888888888888888,
             "#fdca26"
            ],
            [
             1,
             "#f0f921"
            ]
           ]
          },
          "colorway": [
           "#636efa",
           "#EF553B",
           "#00cc96",
           "#ab63fa",
           "#FFA15A",
           "#19d3f3",
           "#FF6692",
           "#B6E880",
           "#FF97FF",
           "#FECB52"
          ],
          "font": {
           "color": "#2a3f5f"
          },
          "geo": {
           "bgcolor": "white",
           "lakecolor": "white",
           "landcolor": "#E5ECF6",
           "showlakes": true,
           "showland": true,
           "subunitcolor": "white"
          },
          "hoverlabel": {
           "align": "left"
          },
          "hovermode": "closest",
          "mapbox": {
           "style": "light"
          },
          "paper_bgcolor": "white",
          "plot_bgcolor": "#E5ECF6",
          "polar": {
           "angularaxis": {
            "gridcolor": "white",
            "linecolor": "white",
            "ticks": ""
           },
           "bgcolor": "#E5ECF6",
           "radialaxis": {
            "gridcolor": "white",
            "linecolor": "white",
            "ticks": ""
           }
          },
          "scene": {
           "xaxis": {
            "backgroundcolor": "#E5ECF6",
            "gridcolor": "white",
            "gridwidth": 2,
            "linecolor": "white",
            "showbackground": true,
            "ticks": "",
            "zerolinecolor": "white"
           },
           "yaxis": {
            "backgroundcolor": "#E5ECF6",
            "gridcolor": "white",
            "gridwidth": 2,
            "linecolor": "white",
            "showbackground": true,
            "ticks": "",
            "zerolinecolor": "white"
           },
           "zaxis": {
            "backgroundcolor": "#E5ECF6",
            "gridcolor": "white",
            "gridwidth": 2,
            "linecolor": "white",
            "showbackground": true,
            "ticks": "",
            "zerolinecolor": "white"
           }
          },
          "shapedefaults": {
           "line": {
            "color": "#2a3f5f"
           }
          },
          "ternary": {
           "aaxis": {
            "gridcolor": "white",
            "linecolor": "white",
            "ticks": ""
           },
           "baxis": {
            "gridcolor": "white",
            "linecolor": "white",
            "ticks": ""
           },
           "bgcolor": "#E5ECF6",
           "caxis": {
            "gridcolor": "white",
            "linecolor": "white",
            "ticks": ""
           }
          },
          "title": {
           "x": 0.05
          },
          "xaxis": {
           "automargin": true,
           "gridcolor": "white",
           "linecolor": "white",
           "ticks": "",
           "title": {
            "standoff": 15
           },
           "zerolinecolor": "white",
           "zerolinewidth": 2
          },
          "yaxis": {
           "automargin": true,
           "gridcolor": "white",
           "linecolor": "white",
           "ticks": "",
           "title": {
            "standoff": 15
           },
           "zerolinecolor": "white",
           "zerolinewidth": 2
          }
         }
        },
        "title": {
         "text": "Multivariate t-GAS Simulation with 1 Regressor + Intercept"
        },
        "xaxis": {
         "anchor": "y",
         "domain": [
          0,
          1
         ],
         "matches": "x2",
         "showticklabels": false
        },
        "xaxis2": {
         "anchor": "y2",
         "domain": [
          0,
          1
         ]
        },
        "yaxis": {
         "anchor": "x",
         "domain": [
          0.625,
          1
         ]
        },
        "yaxis2": {
         "anchor": "x2",
         "domain": [
          0,
          0.375
         ]
        }
       }
      }
     },
     "metadata": {},
     "output_type": "display_data"
    }
   ],
   "source": [
    "# Simulate the system GAS\n",
    "T, N = 300, 2\n",
    "omega_true = np.array([0.5, -0.3])\n",
    "Phi_true = np.array([[0.7, 0.1], [0.05, 0.8]])\n",
    "K_true = np.array([[0.2, 0.05], [0.01, 0.25]])\n",
    "Omega_true = np.array([[0.6, 0.1], [0.1, 0.4]])\n",
    "nu_true = 10\n",
    "beta_true = np.array([[1.0, -0.5], [0.3, 0.2]])  # intercept + 1 regressor\n",
    "\n",
    "y_sim, mu_sim, X_sim, _ = simulate_multivariate_t_gas(\n",
    "    T=T,\n",
    "    N=N,\n",
    "    omega=omega_true,\n",
    "    Phi=Phi_true,\n",
    "    K_mat=K_true,\n",
    "    Omega=Omega_true,\n",
    "    nu=nu_true,\n",
    "    beta=beta_true,\n",
    "    seed=123\n",
    ")\n",
    "\n",
    "# T, N = 500, 2\n",
    "# K = 1  # one regressor + intercept\n",
    "\n",
    "# Phi = np.array([[0.6, 0.2], \n",
    "#                 [0.1, 0.8]])\n",
    "# Q = np.eye(N) * 0.2\n",
    "# R = np.eye(N) * 0.3\n",
    "# c = np.array([0.2, -0.1])\n",
    "# beta = np.array([[1.0, -0.5], \n",
    "#                  [0.3, 0.2]])  # (K+1, N) shape: (2, 2)\n",
    "\n",
    "# y_sim, mu_sim, X_sim = simulate_multivariate_state_space(T, N, c, Phi, Q, R, beta, seed=8888)\n",
    "\n",
    "\n",
    "\n",
    "# Plot\n",
    "fig = make_subplots(rows=2, cols=1, shared_xaxes=True, subplot_titles=[\"Observed y\", \"Filtered mu\"])\n",
    "for i in range(N):\n",
    "    fig.add_trace(go.Scatter(y=y_sim[:, i], mode='lines', name=f'y_{i+1}'), row=1, col=1)\n",
    "    fig.add_trace(go.Scatter(y=mu_sim[:, i], mode='lines', name=f'mu_{i+1}'), row=2, col=1)\n",
    "fig.update_layout(height=600, title='Multivariate t-GAS Simulation with 1 Regressor + Intercept')\n",
    "fig.show()"
   ]
  },
  {
   "cell_type": "code",
   "execution_count": 33,
   "id": "4b788e09",
   "metadata": {},
   "outputs": [],
   "source": [
    "from xbbg import blp\n",
    "import pandas as pd\n",
    "\n",
    "# list_to_pull = [\"USGG2YR Index\", \"USGG5YR Index\", \"USGG10YR Index\",]\n",
    "# colnames = ['US2Y', 'US5Y', 'US10Y']\n",
    "# today = pd.Timestamp.today().strftime('%Y-%m-%d') \n",
    "# # yesterday = (pd.Timestamp.today() - pd.Timedelta(days=1)).strftime('%Y-%m-%d')\n",
    "# data = blp.bdh(\n",
    "#     tickers=list_to_pull, \n",
    "#     flds=['PX_LAST'], \n",
    "#     start_date='2000-01-01',\n",
    "#     end_date=today)\n",
    "\n",
    "# data.columns = data.columns.get_level_values(0)\n",
    "# data.index = pd.to_datetime(data.index)\n",
    "# data.columns = colnames\n",
    "list_to_pull = [\"FWISUS55 Index\", \"FWISEU55 Index\", \"USGG10YR Index\", \"CO1 Comdty\"]\n",
    "colnames = ['ILS5Y5Y US','ILS5Y5Y EU', 'US10Y', 'Brent']\n",
    "today = pd.Timestamp.today().strftime('%Y-%m-%d') \n",
    "# yesterday = (pd.Timestamp.today() - pd.Timedelta(days=1)).strftime('%Y-%m-%d')\n",
    "data = blp.bdh(\n",
    "    tickers=list_to_pull, \n",
    "    flds=['PX_LAST'], \n",
    "    start_date='2000-01-01',\n",
    "    end_date=today)\n",
    "\n",
    "data.columns = data.columns.get_level_values(0)\n",
    "data.index = pd.to_datetime(data.index)\n",
    "data.columns = colnames\n",
    "data1 = data['2021-01-01':].ffill().bfill()\n",
    "# y_sim.shape[0]\n",
    "y_sim = data1[['ILS5Y5Y US', 'ILS5Y5Y EU']].values  # Reshape to (T, 1) for single response variable\n",
    "X_sim = np.column_stack((\n",
    "    np.ones(shape=(y_sim.shape[0],)),   # Shape: (T,)\n",
    "    data1[['US10Y', 'Brent']].values       # Shape: (T, 2)\n",
    "))\n",
    "T, N = y_sim.shape[0], 2  # N=1 since we have one response variable (US10Y)"
   ]
  },
  {
   "cell_type": "code",
   "execution_count": 34,
   "id": "d8c4d53f",
   "metadata": {},
   "outputs": [
    {
     "name": "stderr",
     "output_type": "stream",
     "text": [
      "C:\\Users\\vliu_sym\\AppData\\Local\\Temp\\ipykernel_46308\\1385592273.py:68: RuntimeWarning:\n",
      "\n",
      "overflow encountered in matmul\n",
      "\n",
      "C:\\Users\\vliu_sym\\AppData\\Local\\Temp\\ipykernel_46308\\1951859555.py:62: RuntimeWarning:\n",
      "\n",
      "overflow encountered in matmul\n",
      "\n",
      "C:\\Users\\vliu_sym\\AppData\\Local\\Temp\\ipykernel_46308\\1385592273.py:69: RuntimeWarning:\n",
      "\n",
      "overflow encountered in matmul\n",
      "\n",
      "C:\\Users\\vliu_sym\\AppData\\Local\\Temp\\ipykernel_46308\\1385592273.py:69: RuntimeWarning:\n",
      "\n",
      "invalid value encountered in divide\n",
      "\n"
     ]
    },
    {
     "ename": "KeyboardInterrupt",
     "evalue": "",
     "output_type": "error",
     "traceback": [
      "\u001b[31m---------------------------------------------------------------------------\u001b[39m",
      "\u001b[31mKeyboardInterrupt\u001b[39m                         Traceback (most recent call last)",
      "\u001b[36mCell\u001b[39m\u001b[36m \u001b[39m\u001b[32mIn[34]\u001b[39m\u001b[32m, line 30\u001b[39m\n\u001b[32m     20\u001b[39m init_params = np.concatenate([init_phi, init_omega, init_beta, init_lambda, init_kappa, init_nu])\n\u001b[32m     22\u001b[39m \u001b[38;5;66;03m# Estimation\u001b[39;00m\n\u001b[32m     23\u001b[39m \u001b[38;5;66;03m# res = minimize(\u001b[39;00m\n\u001b[32m     24\u001b[39m \u001b[38;5;66;03m#     gas_general_filter,\u001b[39;00m\n\u001b[32m   (...)\u001b[39m\u001b[32m     27\u001b[39m \u001b[38;5;66;03m#     method='L-BFGS-B'\u001b[39;00m\n\u001b[32m     28\u001b[39m \u001b[38;5;66;03m# )\u001b[39;00m\n\u001b[32m---> \u001b[39m\u001b[32m30\u001b[39m res = \u001b[43mminimize\u001b[49m\u001b[43m(\u001b[49m\n\u001b[32m     31\u001b[39m \u001b[43m    \u001b[49m\u001b[43mgas_general_filter\u001b[49m\u001b[43m,\u001b[49m\n\u001b[32m     32\u001b[39m \u001b[43m    \u001b[49m\u001b[43minit_params\u001b[49m\u001b[43m,\u001b[49m\n\u001b[32m     33\u001b[39m \u001b[43m    \u001b[49m\u001b[43margs\u001b[49m\u001b[43m=\u001b[49m\u001b[43m(\u001b[49m\u001b[43my_sim\u001b[49m\u001b[43m,\u001b[49m\u001b[43m \u001b[49m\u001b[43mX_sim\u001b[49m\u001b[43m,\u001b[49m\u001b[43m \u001b[49m\u001b[43mcL\u001b[49m\u001b[43m,\u001b[49m\u001b[43m \u001b[49m\u001b[43mcK\u001b[49m\u001b[43m,\u001b[49m\u001b[43m \u001b[49m\u001b[43mfix_nu\u001b[49m\u001b[43m,\u001b[49m\u001b[43m \u001b[49m\u001b[43mK_type\u001b[49m\u001b[43m)\u001b[49m\u001b[43m,\u001b[49m\u001b[43m  \u001b[49m\u001b[38;5;66;43;03m# or \"diagonal\"\u001b[39;49;00m\n\u001b[32m     34\u001b[39m \u001b[43m    \u001b[49m\u001b[43mmethod\u001b[49m\u001b[43m=\u001b[49m\u001b[33;43m'\u001b[39;49m\u001b[33;43mL-BFGS-B\u001b[39;49m\u001b[33;43m'\u001b[39;49m\n\u001b[32m     35\u001b[39m \u001b[43m)\u001b[49m\n\u001b[32m     37\u001b[39m \u001b[38;5;66;03m# Extract estimated parameters\u001b[39;00m\n\u001b[32m     38\u001b[39m est = res.x\n",
      "\u001b[36mFile \u001b[39m\u001b[32mc:\\Users\\vliu_sym\\Desktop\\Thesis\\Python Implementation\\.venv\\Lib\\site-packages\\scipy\\optimize\\_minimize.py:738\u001b[39m, in \u001b[36mminimize\u001b[39m\u001b[34m(fun, x0, args, method, jac, hess, hessp, bounds, constraints, tol, callback, options)\u001b[39m\n\u001b[32m    735\u001b[39m     res = _minimize_newtoncg(fun, x0, args, jac, hess, hessp, callback,\n\u001b[32m    736\u001b[39m                              **options)\n\u001b[32m    737\u001b[39m \u001b[38;5;28;01melif\u001b[39;00m meth == \u001b[33m'\u001b[39m\u001b[33ml-bfgs-b\u001b[39m\u001b[33m'\u001b[39m:\n\u001b[32m--> \u001b[39m\u001b[32m738\u001b[39m     res = \u001b[43m_minimize_lbfgsb\u001b[49m\u001b[43m(\u001b[49m\u001b[43mfun\u001b[49m\u001b[43m,\u001b[49m\u001b[43m \u001b[49m\u001b[43mx0\u001b[49m\u001b[43m,\u001b[49m\u001b[43m \u001b[49m\u001b[43margs\u001b[49m\u001b[43m,\u001b[49m\u001b[43m \u001b[49m\u001b[43mjac\u001b[49m\u001b[43m,\u001b[49m\u001b[43m \u001b[49m\u001b[43mbounds\u001b[49m\u001b[43m,\u001b[49m\n\u001b[32m    739\u001b[39m \u001b[43m                           \u001b[49m\u001b[43mcallback\u001b[49m\u001b[43m=\u001b[49m\u001b[43mcallback\u001b[49m\u001b[43m,\u001b[49m\u001b[43m \u001b[49m\u001b[43m*\u001b[49m\u001b[43m*\u001b[49m\u001b[43moptions\u001b[49m\u001b[43m)\u001b[49m\n\u001b[32m    740\u001b[39m \u001b[38;5;28;01melif\u001b[39;00m meth == \u001b[33m'\u001b[39m\u001b[33mtnc\u001b[39m\u001b[33m'\u001b[39m:\n\u001b[32m    741\u001b[39m     res = _minimize_tnc(fun, x0, args, jac, bounds, callback=callback,\n\u001b[32m    742\u001b[39m                         **options)\n",
      "\u001b[36mFile \u001b[39m\u001b[32mc:\\Users\\vliu_sym\\Desktop\\Thesis\\Python Implementation\\.venv\\Lib\\site-packages\\scipy\\optimize\\_lbfgsb_py.py:441\u001b[39m, in \u001b[36m_minimize_lbfgsb\u001b[39m\u001b[34m(fun, x0, args, jac, bounds, disp, maxcor, ftol, gtol, eps, maxfun, maxiter, iprint, callback, maxls, finite_diff_rel_step, **unknown_options)\u001b[39m\n\u001b[32m    433\u001b[39m _lbfgsb.setulb(m, x, low_bnd, upper_bnd, nbd, f, g, factr, pgtol, wa,\n\u001b[32m    434\u001b[39m                iwa, task, lsave, isave, dsave, maxls, ln_task)\n\u001b[32m    436\u001b[39m \u001b[38;5;28;01mif\u001b[39;00m task[\u001b[32m0\u001b[39m] == \u001b[32m3\u001b[39m:\n\u001b[32m    437\u001b[39m     \u001b[38;5;66;03m# The minimization routine wants f and g at the current x.\u001b[39;00m\n\u001b[32m    438\u001b[39m     \u001b[38;5;66;03m# Note that interruptions due to maxfun are postponed\u001b[39;00m\n\u001b[32m    439\u001b[39m     \u001b[38;5;66;03m# until the completion of the current minimization iteration.\u001b[39;00m\n\u001b[32m    440\u001b[39m     \u001b[38;5;66;03m# Overwrite f and g:\u001b[39;00m\n\u001b[32m--> \u001b[39m\u001b[32m441\u001b[39m     f, g = \u001b[43mfunc_and_grad\u001b[49m\u001b[43m(\u001b[49m\u001b[43mx\u001b[49m\u001b[43m)\u001b[49m\n\u001b[32m    442\u001b[39m \u001b[38;5;28;01melif\u001b[39;00m task[\u001b[32m0\u001b[39m] == \u001b[32m1\u001b[39m:\n\u001b[32m    443\u001b[39m     \u001b[38;5;66;03m# new iteration\u001b[39;00m\n\u001b[32m    444\u001b[39m     n_iterations += \u001b[32m1\u001b[39m\n",
      "\u001b[36mFile \u001b[39m\u001b[32mc:\\Users\\vliu_sym\\Desktop\\Thesis\\Python Implementation\\.venv\\Lib\\site-packages\\scipy\\optimize\\_differentiable_functions.py:345\u001b[39m, in \u001b[36mScalarFunction.fun_and_grad\u001b[39m\u001b[34m(self, x)\u001b[39m\n\u001b[32m    343\u001b[39m     \u001b[38;5;28mself\u001b[39m._update_x(x)\n\u001b[32m    344\u001b[39m \u001b[38;5;28mself\u001b[39m._update_fun()\n\u001b[32m--> \u001b[39m\u001b[32m345\u001b[39m \u001b[38;5;28;43mself\u001b[39;49m\u001b[43m.\u001b[49m\u001b[43m_update_grad\u001b[49m\u001b[43m(\u001b[49m\u001b[43m)\u001b[49m\n\u001b[32m    346\u001b[39m \u001b[38;5;28;01mreturn\u001b[39;00m \u001b[38;5;28mself\u001b[39m.f, \u001b[38;5;28mself\u001b[39m.g\n",
      "\u001b[36mFile \u001b[39m\u001b[32mc:\\Users\\vliu_sym\\Desktop\\Thesis\\Python Implementation\\.venv\\Lib\\site-packages\\scipy\\optimize\\_differentiable_functions.py:307\u001b[39m, in \u001b[36mScalarFunction._update_grad\u001b[39m\u001b[34m(self)\u001b[39m\n\u001b[32m    305\u001b[39m \u001b[38;5;28;01mif\u001b[39;00m \u001b[38;5;28mself\u001b[39m._orig_grad \u001b[38;5;129;01min\u001b[39;00m FD_METHODS:\n\u001b[32m    306\u001b[39m     \u001b[38;5;28mself\u001b[39m._update_fun()\n\u001b[32m--> \u001b[39m\u001b[32m307\u001b[39m \u001b[38;5;28mself\u001b[39m.g = \u001b[38;5;28;43mself\u001b[39;49m\u001b[43m.\u001b[49m\u001b[43m_wrapped_grad\u001b[49m\u001b[43m(\u001b[49m\u001b[38;5;28;43mself\u001b[39;49m\u001b[43m.\u001b[49m\u001b[43mx\u001b[49m\u001b[43m,\u001b[49m\u001b[43m \u001b[49m\u001b[43mf0\u001b[49m\u001b[43m=\u001b[49m\u001b[38;5;28;43mself\u001b[39;49m\u001b[43m.\u001b[49m\u001b[43mf\u001b[49m\u001b[43m)\u001b[49m\n\u001b[32m    308\u001b[39m \u001b[38;5;28mself\u001b[39m.g_updated = \u001b[38;5;28;01mTrue\u001b[39;00m\n",
      "\u001b[36mFile \u001b[39m\u001b[32mc:\\Users\\vliu_sym\\Desktop\\Thesis\\Python Implementation\\.venv\\Lib\\site-packages\\scipy\\optimize\\_differentiable_functions.py:48\u001b[39m, in \u001b[36m_wrapper_grad.<locals>.wrapped1\u001b[39m\u001b[34m(x, f0)\u001b[39m\n\u001b[32m     46\u001b[39m \u001b[38;5;28;01mdef\u001b[39;00m\u001b[38;5;250m \u001b[39m\u001b[34mwrapped1\u001b[39m(x, f0=\u001b[38;5;28;01mNone\u001b[39;00m):\n\u001b[32m     47\u001b[39m     ncalls[\u001b[32m0\u001b[39m] += \u001b[32m1\u001b[39m\n\u001b[32m---> \u001b[39m\u001b[32m48\u001b[39m     \u001b[38;5;28;01mreturn\u001b[39;00m \u001b[43mapprox_derivative\u001b[49m\u001b[43m(\u001b[49m\n\u001b[32m     49\u001b[39m \u001b[43m        \u001b[49m\u001b[43mfun\u001b[49m\u001b[43m,\u001b[49m\u001b[43m \u001b[49m\u001b[43mx\u001b[49m\u001b[43m,\u001b[49m\u001b[43m \u001b[49m\u001b[43mf0\u001b[49m\u001b[43m=\u001b[49m\u001b[43mf0\u001b[49m\u001b[43m,\u001b[49m\u001b[43m \u001b[49m\u001b[43m*\u001b[49m\u001b[43m*\u001b[49m\u001b[43mfinite_diff_options\u001b[49m\n\u001b[32m     50\u001b[39m \u001b[43m    \u001b[49m\u001b[43m)\u001b[49m\n",
      "\u001b[36mFile \u001b[39m\u001b[32mc:\\Users\\vliu_sym\\Desktop\\Thesis\\Python Implementation\\.venv\\Lib\\site-packages\\scipy\\optimize\\_numdiff.py:523\u001b[39m, in \u001b[36mapprox_derivative\u001b[39m\u001b[34m(fun, x0, method, rel_step, abs_step, f0, bounds, sparsity, as_linear_operator, args, kwargs)\u001b[39m\n\u001b[32m    520\u001b[39m     use_one_sided = \u001b[38;5;28;01mFalse\u001b[39;00m\n\u001b[32m    522\u001b[39m \u001b[38;5;28;01mif\u001b[39;00m sparsity \u001b[38;5;129;01mis\u001b[39;00m \u001b[38;5;28;01mNone\u001b[39;00m:\n\u001b[32m--> \u001b[39m\u001b[32m523\u001b[39m     \u001b[38;5;28;01mreturn\u001b[39;00m \u001b[43m_dense_difference\u001b[49m\u001b[43m(\u001b[49m\u001b[43mfun_wrapped\u001b[49m\u001b[43m,\u001b[49m\u001b[43m \u001b[49m\u001b[43mx0\u001b[49m\u001b[43m,\u001b[49m\u001b[43m \u001b[49m\u001b[43mf0\u001b[49m\u001b[43m,\u001b[49m\u001b[43m \u001b[49m\u001b[43mh\u001b[49m\u001b[43m,\u001b[49m\n\u001b[32m    524\u001b[39m \u001b[43m                             \u001b[49m\u001b[43muse_one_sided\u001b[49m\u001b[43m,\u001b[49m\u001b[43m \u001b[49m\u001b[43mmethod\u001b[49m\u001b[43m)\u001b[49m\n\u001b[32m    525\u001b[39m \u001b[38;5;28;01melse\u001b[39;00m:\n\u001b[32m    526\u001b[39m     \u001b[38;5;28;01mif\u001b[39;00m \u001b[38;5;129;01mnot\u001b[39;00m issparse(sparsity) \u001b[38;5;129;01mand\u001b[39;00m \u001b[38;5;28mlen\u001b[39m(sparsity) == \u001b[32m2\u001b[39m:\n",
      "\u001b[36mFile \u001b[39m\u001b[32mc:\\Users\\vliu_sym\\Desktop\\Thesis\\Python Implementation\\.venv\\Lib\\site-packages\\scipy\\optimize\\_numdiff.py:596\u001b[39m, in \u001b[36m_dense_difference\u001b[39m\u001b[34m(fun, x0, f0, h, use_one_sided, method)\u001b[39m\n\u001b[32m    594\u001b[39m     x1[i] += h[i]\n\u001b[32m    595\u001b[39m     dx = x1[i] - x0[i]  \u001b[38;5;66;03m# Recompute dx as exactly representable number.\u001b[39;00m\n\u001b[32m--> \u001b[39m\u001b[32m596\u001b[39m     df = \u001b[43mfun\u001b[49m\u001b[43m(\u001b[49m\u001b[43mx1\u001b[49m\u001b[43m)\u001b[49m - f0\n\u001b[32m    597\u001b[39m \u001b[38;5;28;01melif\u001b[39;00m method == \u001b[33m'\u001b[39m\u001b[33m3-point\u001b[39m\u001b[33m'\u001b[39m \u001b[38;5;129;01mand\u001b[39;00m use_one_sided[i]:\n\u001b[32m    598\u001b[39m     x1[i] += h[i]\n",
      "\u001b[36mFile \u001b[39m\u001b[32mc:\\Users\\vliu_sym\\Desktop\\Thesis\\Python Implementation\\.venv\\Lib\\site-packages\\scipy\\optimize\\_numdiff.py:474\u001b[39m, in \u001b[36mapprox_derivative.<locals>.fun_wrapped\u001b[39m\u001b[34m(x)\u001b[39m\n\u001b[32m    471\u001b[39m \u001b[38;5;28;01mif\u001b[39;00m xp.isdtype(x.dtype, \u001b[33m\"\u001b[39m\u001b[33mreal floating\u001b[39m\u001b[33m\"\u001b[39m):\n\u001b[32m    472\u001b[39m     x = xp.astype(x, x0.dtype)\n\u001b[32m--> \u001b[39m\u001b[32m474\u001b[39m f = np.atleast_1d(\u001b[43mfun\u001b[49m\u001b[43m(\u001b[49m\u001b[43mx\u001b[49m\u001b[43m,\u001b[49m\u001b[43m \u001b[49m\u001b[43m*\u001b[49m\u001b[43margs\u001b[49m\u001b[43m,\u001b[49m\u001b[43m \u001b[49m\u001b[43m*\u001b[49m\u001b[43m*\u001b[49m\u001b[43mkwargs\u001b[49m\u001b[43m)\u001b[49m)\n\u001b[32m    475\u001b[39m \u001b[38;5;28;01mif\u001b[39;00m f.ndim > \u001b[32m1\u001b[39m:\n\u001b[32m    476\u001b[39m     \u001b[38;5;28;01mraise\u001b[39;00m \u001b[38;5;167;01mRuntimeError\u001b[39;00m(\u001b[33m\"\u001b[39m\u001b[33m`fun` return value has \u001b[39m\u001b[33m\"\u001b[39m\n\u001b[32m    477\u001b[39m                        \u001b[33m\"\u001b[39m\u001b[33mmore than 1 dimension.\u001b[39m\u001b[33m\"\u001b[39m)\n",
      "\u001b[36mFile \u001b[39m\u001b[32mc:\\Users\\vliu_sym\\Desktop\\Thesis\\Python Implementation\\.venv\\Lib\\site-packages\\scipy\\optimize\\_differentiable_functions.py:21\u001b[39m, in \u001b[36m_wrapper_fun.<locals>.wrapped\u001b[39m\u001b[34m(x)\u001b[39m\n\u001b[32m     17\u001b[39m ncalls[\u001b[32m0\u001b[39m] += \u001b[32m1\u001b[39m\n\u001b[32m     18\u001b[39m \u001b[38;5;66;03m# Send a copy because the user may overwrite it.\u001b[39;00m\n\u001b[32m     19\u001b[39m \u001b[38;5;66;03m# Overwriting results in undefined behaviour because\u001b[39;00m\n\u001b[32m     20\u001b[39m \u001b[38;5;66;03m# fun(self.x) will change self.x, with the two no longer linked.\u001b[39;00m\n\u001b[32m---> \u001b[39m\u001b[32m21\u001b[39m fx = \u001b[43mfun\u001b[49m\u001b[43m(\u001b[49m\u001b[43mnp\u001b[49m\u001b[43m.\u001b[49m\u001b[43mcopy\u001b[49m\u001b[43m(\u001b[49m\u001b[43mx\u001b[49m\u001b[43m)\u001b[49m\u001b[43m,\u001b[49m\u001b[43m \u001b[49m\u001b[43m*\u001b[49m\u001b[43margs\u001b[49m\u001b[43m)\u001b[49m\n\u001b[32m     22\u001b[39m \u001b[38;5;66;03m# Make sure the function returns a true scalar\u001b[39;00m\n\u001b[32m     23\u001b[39m \u001b[38;5;28;01mif\u001b[39;00m \u001b[38;5;129;01mnot\u001b[39;00m np.isscalar(fx):\n",
      "\u001b[36mCell\u001b[39m\u001b[36m \u001b[39m\u001b[32mIn[28]\u001b[39m\u001b[32m, line 78\u001b[39m, in \u001b[36mgas_general_filter\u001b[39m\u001b[34m(params, Y, X, cL, cK, fix_nu, kappa_type)\u001b[39m\n\u001b[32m     71\u001b[39m     mu[t + \u001b[32m1\u001b[39m] = omega + Phi @ (mu[t] - omega) + Kappa @ u_t\n\u001b[32m     73\u001b[39m     \u001b[38;5;66;03m# term1 = gammaln((nu + R) / 2) - gammaln(nu / 2)\u001b[39;00m\n\u001b[32m     74\u001b[39m     \u001b[38;5;66;03m# term2 = -0.5 * R * np.log(nu) - 0.5 * R * np.log(np.pi)\u001b[39;00m\n\u001b[32m     75\u001b[39m     \u001b[38;5;66;03m# term3 = -0.5 * np.log(det(Lambda))\u001b[39;00m\n\u001b[32m     76\u001b[39m     \u001b[38;5;66;03m# term4 = -0.5 * (nu + R) * np.log(alpha_t)\u001b[39;00m\n\u001b[32m     77\u001b[39m     \u001b[38;5;66;03m# loglik += term1 + term2 + term3 + term4\u001b[39;00m\n\u001b[32m---> \u001b[39m\u001b[32m78\u001b[39m     loglik += \u001b[43mstudent_t_logpdf\u001b[49m\u001b[43m(\u001b[49m\u001b[43mY\u001b[49m\u001b[43m[\u001b[49m\u001b[43mt\u001b[49m\u001b[43m]\u001b[49m\u001b[43m,\u001b[49m\u001b[43m \u001b[49m\u001b[43mx_beta\u001b[49m\u001b[43m \u001b[49m\u001b[43m+\u001b[49m\u001b[43m \u001b[49m\u001b[43mmu\u001b[49m\u001b[43m[\u001b[49m\u001b[43mt\u001b[49m\u001b[43m]\u001b[49m\u001b[43m,\u001b[49m\u001b[43m \u001b[49m\u001b[43mLambda\u001b[49m\u001b[43m,\u001b[49m\u001b[43m \u001b[49m\u001b[43mnu\u001b[49m\u001b[43m)\u001b[49m\n\u001b[32m     81\u001b[39m \u001b[38;5;28;01mreturn\u001b[39;00m -loglik\n",
      "\u001b[36mCell\u001b[39m\u001b[36m \u001b[39m\u001b[32mIn[27]\u001b[39m\u001b[32m, line 52\u001b[39m, in \u001b[36mstudent_t_logpdf\u001b[39m\u001b[34m(y, mu, Omega, nu, log_output, min_det)\u001b[39m\n\u001b[32m     49\u001b[39m diff = y - mu\n\u001b[32m     51\u001b[39m \u001b[38;5;28;01mtry\u001b[39;00m:\n\u001b[32m---> \u001b[39m\u001b[32m52\u001b[39m     sign, logdet_Omega = \u001b[43mslogdet\u001b[49m\u001b[43m(\u001b[49m\u001b[43mOmega\u001b[49m\u001b[43m)\u001b[49m\n\u001b[32m     53\u001b[39m     \u001b[38;5;28;01mif\u001b[39;00m sign <= \u001b[32m0\u001b[39m \u001b[38;5;129;01mor\u001b[39;00m logdet_Omega < np.log(min_det):\n\u001b[32m     54\u001b[39m         logdet_Omega = np.log(min_det)\n",
      "\u001b[36mFile \u001b[39m\u001b[32mc:\\Users\\vliu_sym\\Desktop\\Thesis\\Python Implementation\\.venv\\Lib\\site-packages\\numpy\\linalg\\_linalg.py:2295\u001b[39m, in \u001b[36mslogdet\u001b[39m\u001b[34m(a)\u001b[39m\n\u001b[32m   2289\u001b[39m     \u001b[38;5;28;01mreturn\u001b[39;00m wrap(res)\n\u001b[32m   2292\u001b[39m \u001b[38;5;66;03m# Determinant\u001b[39;00m\n\u001b[32m-> \u001b[39m\u001b[32m2295\u001b[39m \u001b[38;5;129m@array_function_dispatch\u001b[39m(_unary_dispatcher)\n\u001b[32m   2296\u001b[39m \u001b[38;5;28;01mdef\u001b[39;00m\u001b[38;5;250m \u001b[39m\u001b[34mslogdet\u001b[39m(a):\n\u001b[32m   2297\u001b[39m \u001b[38;5;250m    \u001b[39m\u001b[33;03m\"\"\"\u001b[39;00m\n\u001b[32m   2298\u001b[39m \u001b[33;03m    Compute the sign and (natural) logarithm of the determinant of an array.\u001b[39;00m\n\u001b[32m   2299\u001b[39m \n\u001b[32m   (...)\u001b[39m\u001b[32m   2366\u001b[39m \n\u001b[32m   2367\u001b[39m \u001b[33;03m    \"\"\"\u001b[39;00m\n\u001b[32m   2368\u001b[39m     a = asarray(a)\n",
      "\u001b[31mKeyboardInterrupt\u001b[39m: "
     ]
    }
   ],
   "source": [
    "# GAS estimation settings\n",
    "K_type = \"diagonal\"\n",
    "\n",
    "P = X_sim.shape[1]\n",
    "cL =  N  # Lambda and Kappa are diagonal\n",
    "\n",
    "cK = N  if K_type == \"diagonal\" else N * N  # Kappa is diagonal or full matrix\n",
    "fix_nu = None  # fix degrees of freedom\n",
    "\n",
    "\n",
    "# Initial parameter vector\n",
    "init_phi = 0.5 * np.eye(N).flatten()          # (N*N,)\n",
    "init_omega = np.zeros(N)                      # (N,)\n",
    "init_beta = np.zeros((P, N)).flatten()        # (P*N,)\n",
    "init_lambda = np.zeros(N)                     # (N,)\n",
    "init_kappa = np.ones(N) if K_type == \"diagonal\" else np.eye(N).flatten()       # (N,) for diagonal, (N*N,) for full\n",
    "# init_kappa = np.eye(N).flatten()  # for full\n",
    "\n",
    "init_nu = [5.0]                                  # degrees of freedom\n",
    "init_params = np.concatenate([init_phi, init_omega, init_beta, init_lambda, init_kappa, init_nu])\n",
    "\n",
    "# Estimation\n",
    "# res = minimize(\n",
    "#     gas_general_filter,\n",
    "#     init_params,\n",
    "#     args=(y_sim, X_sim, cL, cK, fix_nu),\n",
    "#     method='L-BFGS-B'\n",
    "# )\n",
    "\n",
    "res = minimize(\n",
    "    gas_general_filter,\n",
    "    init_params,\n",
    "    args=(y_sim, X_sim, cL, cK, fix_nu, K_type),  # or \"diagonal\"\n",
    "    method='L-BFGS-B'\n",
    ")\n",
    "\n",
    "# Extract estimated parameters\n",
    "est = res.x\n",
    "idx = 0\n",
    "Phi_est = est[idx:idx + N * N].reshape(N, N); idx += N * N\n",
    "omega_est = est[idx:idx + N]; idx += N\n",
    "beta_est = est[idx:idx + P * N].reshape(P, N); idx += P * N\n",
    "lambda_est = est[idx:idx + cL]; idx += cL\n",
    "# kappa_est = est[idx:idx + cK]; idx += cK\n",
    "# After extracting lambda\n",
    "kappa_est = est[idx:idx + cK]; idx += cK\n",
    "\n",
    "Kappa_est = (np.diag(kappa_est) if K_type == \"diagonal\" else kappa_est.reshape(N, N))\n",
    "\n",
    "Omega_est = np.diag(np.exp(2 * lambda_est))\n",
    "# Kappa_est = np.diag(kappa_est)\n",
    "nu_est = est[idx]\n",
    "\n",
    "\n",
    "# Print estimates\n",
    "print(\"Estimated Phi:\\n\", Phi_est)\n",
    "print(\"Estimated omega:\\n\", omega_est)\n",
    "print(\"Estimated beta:\\n\", beta_est)\n",
    "print(\"Estimated Omega (from lambda):\\n\", Omega_est)\n",
    "print(\"Estimated Kappa:\\n\", Kappa_est)\n",
    "print(\"Estimated nu:\\n\", nu_est)\n"
   ]
  },
  {
   "cell_type": "code",
   "execution_count": 11,
   "id": "5b7f544a",
   "metadata": {},
   "outputs": [],
   "source": [
    "mu_filtered, u_filtered, resid_filtered = gas_filter_eval(\n",
    "    params=res.x,\n",
    "    Y=y_sim,\n",
    "    X=X_sim,\n",
    "    cL=N,\n",
    "    cK=N,\n",
    "    fix_nu=None,\n",
    "    kappa_type= \"diagonal\"  # or \"diagonal\"\n",
    ")"
   ]
  },
  {
   "cell_type": "code",
   "execution_count": null,
   "id": "543af8e9",
   "metadata": {},
   "outputs": [],
   "source": [
    "from Functions.filters_old import multivariate_KF_with_estimation"
   ]
  },
  {
   "cell_type": "code",
   "execution_count": 13,
   "id": "256bdd65",
   "metadata": {},
   "outputs": [
    {
     "name": "stdout",
     "output_type": "stream",
     "text": [
      "✅ Explicit Kalman estimation completed successfully.\n",
      "Estimated parameters explicitly:\n",
      "c: [ 0.41589294 -0.21416674]\n",
      "Phi: \n",
      "[[0.61650351 0.10059712]\n",
      " [0.15068527 0.83357426]]\n",
      "beta: \n",
      "[[ 0.54899371 -0.34285282]\n",
      " [ 0.32542271  0.18781649]]\n",
      "Q: \n",
      "[[ 0.24369622 -0.0269515 ]\n",
      " [-0.0269515   0.18341019]]\n",
      "R: \n",
      "[[0.50807087 0.15581062]\n",
      " [0.15581062 0.21382193]]\n"
     ]
    }
   ],
   "source": [
    "kf_res = multivariate_KF_with_estimation(\n",
    "    y = y_sim, \n",
    "    X=  X_sim, \n",
    "    initial_params=None, verbose=True, max_iter=1000\n",
    ")"
   ]
  },
  {
   "cell_type": "code",
   "execution_count": 14,
   "id": "9991994e",
   "metadata": {},
   "outputs": [],
   "source": [
    "mu_kf = kf_res['mu_filtered']"
   ]
  },
  {
   "cell_type": "code",
   "execution_count": 15,
   "id": "7b631ab4",
   "metadata": {},
   "outputs": [
    {
     "data": {
      "text/plain": [
       "array([[ 0.41107322, -0.10348979],\n",
       "       [-0.10180801,  0.6010301 ]])"
      ]
     },
     "execution_count": 15,
     "metadata": {},
     "output_type": "execute_result"
    }
   ],
   "source": [
    "kf_res['kalman_gain'][-1]"
   ]
  },
  {
   "cell_type": "code",
   "execution_count": 16,
   "id": "e7076b15",
   "metadata": {},
   "outputs": [
    {
     "data": {
      "text/plain": [
       "array([0.28200405, 0.30956314])"
      ]
     },
     "execution_count": 16,
     "metadata": {},
     "output_type": "execute_result"
    }
   ],
   "source": [
    "kappa_est"
   ]
  },
  {
   "cell_type": "code",
   "execution_count": 17,
   "id": "45de9da9",
   "metadata": {},
   "outputs": [],
   "source": [
    "# T, N = 300, 2\n",
    "# omega_true = np.array([0.5, -0.3])\n",
    "# Phi_true = np.array([[0.7, 0.1], [0.05, 0.8]])\n",
    "# K_true = np.array([[0.2, 0.05], [0.01, 0.25]])\n",
    "# Omega_true = np.array([[0.6, 0.1], [0.1, 0.4]])\n",
    "# nu_true = 8\n",
    "# beta_true = np.array([[1.0, -0.5], [0.3, 0.2]])  # intercept + 1 regressor"
   ]
  },
  {
   "cell_type": "code",
   "execution_count": 18,
   "id": "a2f31b43",
   "metadata": {},
   "outputs": [
    {
     "data": {
      "text/plain": [
       "((300, 2), (300, 2), (300, 2))"
      ]
     },
     "execution_count": 18,
     "metadata": {},
     "output_type": "execute_result"
    }
   ],
   "source": [
    "mu_sim.shape, mu_filtered.shape, mu_kf.shape"
   ]
  },
  {
   "cell_type": "code",
   "execution_count": 22,
   "id": "334ea10d",
   "metadata": {},
   "outputs": [
    {
     "data": {
      "application/vnd.plotly.v1+json": {
       "config": {
        "plotlyServerURL": "https://plot.ly"
       },
       "data": [
        {
         "line": {
          "dash": "solid"
         },
         "mode": "lines",
         "name": "Observed",
         "type": "scatter",
         "xaxis": "x",
         "y": {
          "bdata": "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",
          "dtype": "f8"
         },
         "yaxis": "y"
        },
        {
         "line": {
          "dash": "solid"
         },
         "mode": "lines",
         "name": "mu_1 (true)",
         "type": "scatter",
         "xaxis": "x",
         "y": {
          "bdata": "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",
          "dtype": "f8"
         },
         "yaxis": "y"
        },
        {
         "line": {
          "dash": "dot"
         },
         "mode": "lines",
         "name": "mu_1 (filtered)",
         "type": "scatter",
         "xaxis": "x",
         "y": {
          "bdata": "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",
          "dtype": "f8"
         },
         "yaxis": "y"
        },
        {
         "line": {
          "dash": "dash"
         },
         "mode": "lines",
         "name": "mu_1 (KF)",
         "type": "scatter",
         "xaxis": "x",
         "y": {
          "bdata": "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",
          "dtype": "f8"
         },
         "yaxis": "y"
        },
        {
         "line": {
          "dash": "solid"
         },
         "mode": "lines",
         "name": "Observed",
         "type": "scatter",
         "xaxis": "x2",
         "y": {
          "bdata": "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",
          "dtype": "f8"
         },
         "yaxis": "y2"
        },
        {
         "line": {
          "dash": "solid"
         },
         "mode": "lines",
         "name": "mu_2 (true)",
         "type": "scatter",
         "xaxis": "x2",
         "y": {
          "bdata": "MzMzMzMz07/QED75rprEP2pjIKwoeNk/RmzkArivsD8PgOIpopLhvxKVsMNlSO+/BtmaVi+U5L/AscuHYbm6P8Pnjh6z2s8/1hX/UNW34L9WCm5M9dfYv8l5GxlpBNO/DjPLlkiU47+IXhsd7t/hv8TXSV1qmdu/6MJ7iuCapb9fcpA+WUzTv+NCtpiWVNK/5KQ9pYp3wj8yyqvc94rQP3xSeZVM4au/gDhef2z6bj8HBpwdyP7ZPwN8uLb+VMk/e7nvneqz2j8QCyKcgwnePwjcEClmR+c/1CutJjuV7z9p/WarJMv3P4/HOzmpePY/+pqJqryh8z8S78kYqbj5P/PdYjVxWf0/TFZtKvJ6+j/Km7ZFzgj7P4p437YawOc/NH8vfghu5j8Vx+slkW/cP5A+IcjgaZW/SsUP9CtG4r+4ZXNHaufBPwwHvFc70uM/5nzSZHVC4T8Dt4wNjuPaP3xSBxVIteY/i32qPgG90T8QRTBd34rivwAnmRBAyYK/v8ojkzKB0r8LQgywCxDKvzdnAnMba8y/qgcoTiXE2L9QfHQqCvzEPySgDTMHUpy/nBEU/Qx0pL9OaEi3e6XRPySUQSSaD9k/D/e1Uegs0T+45gknvCeVP80AKmPndMQ/6yTf03hH0j90gPYGW+WkP3qUJmRExtY/WjwPPg/I6z+ynG0m/Q3gP3L1vUuxuM+/mGwuRtF9oz8Z/zJYRrzFP518e7Sq++g/7Icli7zI6j/VVqZEAbXlP+5xg1WpwOY/+E34Baejrj8WjFCGm4Kxvy5I7ihWy9k/sAB+YLMljD88KNNSy3Dhv3hWyuyt/PC/ch7SSnsu5r9ATuR3S8Dxv59xZogwcfe/0mBkp+97/L85zmdn3Nn+v06UvLqBYvK/n4MuwIBG8b+E6JMCSZnxvyZ3jFtjOvK/jQOsL0k28r86o/T8hW3zvxuosTvAD/i/JkmTsjXE/r8SR2UkWsLxvzZCX+GapfC/WRdow8bT77/CqS/4fi/3v69OSSFrSu2/AAIyVxnD7L+0yzah6XP1v6D4Szdhjt6/MqzPiQpZ3L+8YSwmfVO6v3BOpUbkvcI/EtCufx/v4z925YkihrLDv1xljLta7dg/76bx1V644T+sUPCbOxrAv8Xvxt0NlsG//DMFmEywp7/wH0jfd4alv5x/jeMiytg/9FLHeK4z2j/QV2O66EyfPzDJgElFNYM/4iysLDSP3D+7wBK/hqbhP6AWD9cE1o2/4sMVFSgU2T8TC8vb5QvXv9rWHjw1ZPC/K05rlHOB5r8pzODc0Ovlv4As4XaAN5O/AZmWV4+Txj/IJRW3beuEv+DPv0g1JuA/P/flg07W3z8aVgwm1zvkPzRkH93M9rI/HPwX2JZs479EM1JzRwLIP4lJMiZS8OY/O7at4FDS5T9wYlCC3wbhP6CkNiGVD4C/8hL/pZYAub++5/WsuEi9v4HZ+WT9Yd0/t3MTM8J32T9QVsjrpEbrP1kGW4E/De0/RUpJknSk4T+bbiwCGO/TP1svXtHqGeU/jrVaAb255D9kl+FrrkfNP1D+sqfnKrc/0tVHvmWgxT+KgWEwVUrkv7ubrlyhueO/vlhMTGno1b9Ird7wcYXmv4x7koMIiM+/YocHojWA4r/ybDScDbvMv84RdM52/NU/FGbJblKV0z8LbMefWhXMPzZwAB6Ofrm/YAEfT1ef17+8toFXm4bpv8wVljPlNfW/jpAlUeWx37+VA+wKQvbgv6jkyvtJmLg/chpzFwHi0D9LzAUlBwDcPySJd7sV/Nk/1fRRQffG4z/PpDvYy2zQv/TX75qV4bM/wEzU4sWztz/LzOKMUTfgP+bpUsbTS+0/HtaEa3fW8D/A1sv2xLm6P26aTbUDVbK/dF3vzXAQyr9mjFpskuLKPwDvN/MC8eC/8Y+lAh66679BOwDT2t7kvyRvxPtj39m/XyEL/VP/7b/AyJG4ZI3Zv/yWpM1Gyuq/2r0no4rd8r9qhJseivLlv359DxXidOC/goHJQ9Yt7L9q9krzomXSvxnJdN/Gbta/hN1hf307zz+e3/LFPpjFv/vspIUQ0uG/L8/ur1Io4r8E32VcJnfwv/WJNyVi8OG/2IdSu0Xxrr9wLShphEXRv4hNXIBsup2/KEj0Moj+iT/bzvqNaFrDP0zjEiM0reO/EIl6rC0o679MZ+JFjJ3qv2R9gubymuy/gkQ/tanh8r92nv3CimT3v9BChikKd+e/tJP1KJM95L/UcAEGzj/ovzhdIOzCUuG/VMjt50tI8b/eLzpR7oXSv8xHnVJ12tE/D4BC6b8M3D84iK52bd3FPyCdcj+k1Nm/ZoHdLpJgzD/QP7tEs6XTv7BtSuFR5ea/tDkj+cHzw7/A3fXvjgLTvwMe6h/UOtW//EUveTFjs7/4dAV71pvVP1owrKArWtk/MC7aBI213j+EJZ8+roHfP5q/xzFPHeI//gozTOJM5z8QJkHTJ+rBPybWQI098M4/bDuX2PDE0z/dCWmRiB7Xv3a4FIc31te/0Aa3dItx679BE3kLgAHVvyRMsLvoNd+/iPjC2EbItr+deEZxET/dvxciCiki6uG/T1Ilgcki27+C2zQkyfPhv2MiOTC2bOC/kLvTR9anoz+KmbFp93LIv2an0kyJ4uO/IRxvtO5Q6r9SMkG7NjDvv1KnyzmFcOq/W07h1chp1r9qR3wNwWzpv6ePnncwHPO/aKcHW3j8+79C3w9pMgr0v/zWR/+Gj/m/JeKzNmqJAMC+O3bKunD3v1qB41JwovK/VKkly4tR9r+rN5SvuXz3vzPpOaQny+2/mlgrXxMK6798Ldcx4PLrv+KO7sKYB+O/aWPu6v//8r8ov9ZMpNL3v2oMGwZTn/y/1+mtOWS6879WmSxqkg/yv5BevcOcUt+/lmS9HbQ24b/1XllaqY7Tv3+Z0tSHc9O/yP+aTgmtsL+Xuq+9wNjYv59NZoR5p+G/I+XRLB9u7r8GYimhxEj3vwxhPVf+SPC/bhxQ+2tE7r/Hyqejt0rtv0TgpSABSO+/hnDz3PAo6b8QrKDSsYzYvxo6Uaxyq+a/noxhtsYe8L9e6ytJy+j1vwN4UExxpOC/J5DSw2FQ5b/EB+5TL3PhvwamwfrgMuK/+LIM4bEf67867EN4OzHgv8rkk8pxNuu/1mbs87aX5L8Q88Pq4duuPyhTo1lXZLa/",
          "dtype": "f8"
         },
         "yaxis": "y2"
        },
        {
         "line": {
          "dash": "dot"
         },
         "mode": "lines",
         "name": "mu_2 (filtered)",
         "type": "scatter",
         "xaxis": "x2",
         "y": {
          "bdata": "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",
          "dtype": "f8"
         },
         "yaxis": "y2"
        },
        {
         "line": {
          "dash": "dash"
         },
         "mode": "lines",
         "name": "mu_2 (KF)",
         "type": "scatter",
         "xaxis": "x2",
         "y": {
          "bdata": "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",
          "dtype": "f8"
         },
         "yaxis": "y2"
        }
       ],
       "layout": {
        "annotations": [
         {
          "font": {
           "size": 16
          },
          "showarrow": false,
          "text": "mu_1: true vs filtered",
          "x": 0.5,
          "xanchor": "center",
          "xref": "paper",
          "y": 1,
          "yanchor": "bottom",
          "yref": "paper"
         },
         {
          "font": {
           "size": 16
          },
          "showarrow": false,
          "text": "mu_2: true vs filtered",
          "x": 0.5,
          "xanchor": "center",
          "xref": "paper",
          "y": 0.375,
          "yanchor": "bottom",
          "yref": "paper"
         }
        ],
        "height": 600,
        "showlegend": true,
        "template": {
         "data": {
          "bar": [
           {
            "error_x": {
             "color": "#2a3f5f"
            },
            "error_y": {
             "color": "#2a3f5f"
            },
            "marker": {
             "line": {
              "color": "#E5ECF6",
              "width": 0.5
             },
             "pattern": {
              "fillmode": "overlay",
              "size": 10,
              "solidity": 0.2
             }
            },
            "type": "bar"
           }
          ],
          "barpolar": [
           {
            "marker": {
             "line": {
              "color": "#E5ECF6",
              "width": 0.5
             },
             "pattern": {
              "fillmode": "overlay",
              "size": 10,
              "solidity": 0.2
             }
            },
            "type": "barpolar"
           }
          ],
          "carpet": [
           {
            "aaxis": {
             "endlinecolor": "#2a3f5f",
             "gridcolor": "white",
             "linecolor": "white",
             "minorgridcolor": "white",
             "startlinecolor": "#2a3f5f"
            },
            "baxis": {
             "endlinecolor": "#2a3f5f",
             "gridcolor": "white",
             "linecolor": "white",
             "minorgridcolor": "white",
             "startlinecolor": "#2a3f5f"
            },
            "type": "carpet"
           }
          ],
          "choropleth": [
           {
            "colorbar": {
             "outlinewidth": 0,
             "ticks": ""
            },
            "type": "choropleth"
           }
          ],
          "contour": [
           {
            "colorbar": {
             "outlinewidth": 0,
             "ticks": ""
            },
            "colorscale": [
             [
              0,
              "#0d0887"
             ],
             [
              0.1111111111111111,
              "#46039f"
             ],
             [
              0.2222222222222222,
              "#7201a8"
             ],
             [
              0.3333333333333333,
              "#9c179e"
             ],
             [
              0.4444444444444444,
              "#bd3786"
             ],
             [
              0.5555555555555556,
              "#d8576b"
             ],
             [
              0.6666666666666666,
              "#ed7953"
             ],
             [
              0.7777777777777778,
              "#fb9f3a"
             ],
             [
              0.8888888888888888,
              "#fdca26"
             ],
             [
              1,
              "#f0f921"
             ]
            ],
            "type": "contour"
           }
          ],
          "contourcarpet": [
           {
            "colorbar": {
             "outlinewidth": 0,
             "ticks": ""
            },
            "type": "contourcarpet"
           }
          ],
          "heatmap": [
           {
            "colorbar": {
             "outlinewidth": 0,
             "ticks": ""
            },
            "colorscale": [
             [
              0,
              "#0d0887"
             ],
             [
              0.1111111111111111,
              "#46039f"
             ],
             [
              0.2222222222222222,
              "#7201a8"
             ],
             [
              0.3333333333333333,
              "#9c179e"
             ],
             [
              0.4444444444444444,
              "#bd3786"
             ],
             [
              0.5555555555555556,
              "#d8576b"
             ],
             [
              0.6666666666666666,
              "#ed7953"
             ],
             [
              0.7777777777777778,
              "#fb9f3a"
             ],
             [
              0.8888888888888888,
              "#fdca26"
             ],
             [
              1,
              "#f0f921"
             ]
            ],
            "type": "heatmap"
           }
          ],
          "histogram": [
           {
            "marker": {
             "pattern": {
              "fillmode": "overlay",
              "size": 10,
              "solidity": 0.2
             }
            },
            "type": "histogram"
           }
          ],
          "histogram2d": [
           {
            "colorbar": {
             "outlinewidth": 0,
             "ticks": ""
            },
            "colorscale": [
             [
              0,
              "#0d0887"
             ],
             [
              0.1111111111111111,
              "#46039f"
             ],
             [
              0.2222222222222222,
              "#7201a8"
             ],
             [
              0.3333333333333333,
              "#9c179e"
             ],
             [
              0.4444444444444444,
              "#bd3786"
             ],
             [
              0.5555555555555556,
              "#d8576b"
             ],
             [
              0.6666666666666666,
              "#ed7953"
             ],
             [
              0.7777777777777778,
              "#fb9f3a"
             ],
             [
              0.8888888888888888,
              "#fdca26"
             ],
             [
              1,
              "#f0f921"
             ]
            ],
            "type": "histogram2d"
           }
          ],
          "histogram2dcontour": [
           {
            "colorbar": {
             "outlinewidth": 0,
             "ticks": ""
            },
            "colorscale": [
             [
              0,
              "#0d0887"
             ],
             [
              0.1111111111111111,
              "#46039f"
             ],
             [
              0.2222222222222222,
              "#7201a8"
             ],
             [
              0.3333333333333333,
              "#9c179e"
             ],
             [
              0.4444444444444444,
              "#bd3786"
             ],
             [
              0.5555555555555556,
              "#d8576b"
             ],
             [
              0.6666666666666666,
              "#ed7953"
             ],
             [
              0.7777777777777778,
              "#fb9f3a"
             ],
             [
              0.8888888888888888,
              "#fdca26"
             ],
             [
              1,
              "#f0f921"
             ]
            ],
            "type": "histogram2dcontour"
           }
          ],
          "mesh3d": [
           {
            "colorbar": {
             "outlinewidth": 0,
             "ticks": ""
            },
            "type": "mesh3d"
           }
          ],
          "parcoords": [
           {
            "line": {
             "colorbar": {
              "outlinewidth": 0,
              "ticks": ""
             }
            },
            "type": "parcoords"
           }
          ],
          "pie": [
           {
            "automargin": true,
            "type": "pie"
           }
          ],
          "scatter": [
           {
            "fillpattern": {
             "fillmode": "overlay",
             "size": 10,
             "solidity": 0.2
            },
            "type": "scatter"
           }
          ],
          "scatter3d": [
           {
            "line": {
             "colorbar": {
              "outlinewidth": 0,
              "ticks": ""
             }
            },
            "marker": {
             "colorbar": {
              "outlinewidth": 0,
              "ticks": ""
             }
            },
            "type": "scatter3d"
           }
          ],
          "scattercarpet": [
           {
            "marker": {
             "colorbar": {
              "outlinewidth": 0,
              "ticks": ""
             }
            },
            "type": "scattercarpet"
           }
          ],
          "scattergeo": [
           {
            "marker": {
             "colorbar": {
              "outlinewidth": 0,
              "ticks": ""
             }
            },
            "type": "scattergeo"
           }
          ],
          "scattergl": [
           {
            "marker": {
             "colorbar": {
              "outlinewidth": 0,
              "ticks": ""
             }
            },
            "type": "scattergl"
           }
          ],
          "scattermap": [
           {
            "marker": {
             "colorbar": {
              "outlinewidth": 0,
              "ticks": ""
             }
            },
            "type": "scattermap"
           }
          ],
          "scattermapbox": [
           {
            "marker": {
             "colorbar": {
              "outlinewidth": 0,
              "ticks": ""
             }
            },
            "type": "scattermapbox"
           }
          ],
          "scatterpolar": [
           {
            "marker": {
             "colorbar": {
              "outlinewidth": 0,
              "ticks": ""
             }
            },
            "type": "scatterpolar"
           }
          ],
          "scatterpolargl": [
           {
            "marker": {
             "colorbar": {
              "outlinewidth": 0,
              "ticks": ""
             }
            },
            "type": "scatterpolargl"
           }
          ],
          "scatterternary": [
           {
            "marker": {
             "colorbar": {
              "outlinewidth": 0,
              "ticks": ""
             }
            },
            "type": "scatterternary"
           }
          ],
          "surface": [
           {
            "colorbar": {
             "outlinewidth": 0,
             "ticks": ""
            },
            "colorscale": [
             [
              0,
              "#0d0887"
             ],
             [
              0.1111111111111111,
              "#46039f"
             ],
             [
              0.2222222222222222,
              "#7201a8"
             ],
             [
              0.3333333333333333,
              "#9c179e"
             ],
             [
              0.4444444444444444,
              "#bd3786"
             ],
             [
              0.5555555555555556,
              "#d8576b"
             ],
             [
              0.6666666666666666,
              "#ed7953"
             ],
             [
              0.7777777777777778,
              "#fb9f3a"
             ],
             [
              0.8888888888888888,
              "#fdca26"
             ],
             [
              1,
              "#f0f921"
             ]
            ],
            "type": "surface"
           }
          ],
          "table": [
           {
            "cells": {
             "fill": {
              "color": "#EBF0F8"
             },
             "line": {
              "color": "white"
             }
            },
            "header": {
             "fill": {
              "color": "#C8D4E3"
             },
             "line": {
              "color": "white"
             }
            },
            "type": "table"
           }
          ]
         },
         "layout": {
          "annotationdefaults": {
           "arrowcolor": "#2a3f5f",
           "arrowhead": 0,
           "arrowwidth": 1
          },
          "autotypenumbers": "strict",
          "coloraxis": {
           "colorbar": {
            "outlinewidth": 0,
            "ticks": ""
           }
          },
          "colorscale": {
           "diverging": [
            [
             0,
             "#8e0152"
            ],
            [
             0.1,
             "#c51b7d"
            ],
            [
             0.2,
             "#de77ae"
            ],
            [
             0.3,
             "#f1b6da"
            ],
            [
             0.4,
             "#fde0ef"
            ],
            [
             0.5,
             "#f7f7f7"
            ],
            [
             0.6,
             "#e6f5d0"
            ],
            [
             0.7,
             "#b8e186"
            ],
            [
             0.8,
             "#7fbc41"
            ],
            [
             0.9,
             "#4d9221"
            ],
            [
             1,
             "#276419"
            ]
           ],
           "sequential": [
            [
             0,
             "#0d0887"
            ],
            [
             0.1111111111111111,
             "#46039f"
            ],
            [
             0.2222222222222222,
             "#7201a8"
            ],
            [
             0.3333333333333333,
             "#9c179e"
            ],
            [
             0.4444444444444444,
             "#bd3786"
            ],
            [
             0.5555555555555556,
             "#d8576b"
            ],
            [
             0.6666666666666666,
             "#ed7953"
            ],
            [
             0.7777777777777778,
             "#fb9f3a"
            ],
            [
             0.8888888888888888,
             "#fdca26"
            ],
            [
             1,
             "#f0f921"
            ]
           ],
           "sequentialminus": [
            [
             0,
             "#0d0887"
            ],
            [
             0.1111111111111111,
             "#46039f"
            ],
            [
             0.2222222222222222,
             "#7201a8"
            ],
            [
             0.3333333333333333,
             "#9c179e"
            ],
            [
             0.4444444444444444,
             "#bd3786"
            ],
            [
             0.5555555555555556,
             "#d8576b"
            ],
            [
             0.6666666666666666,
             "#ed7953"
            ],
            [
             0.7777777777777778,
             "#fb9f3a"
            ],
            [
             0.8888888888888888,
             "#fdca26"
            ],
            [
             1,
             "#f0f921"
            ]
           ]
          },
          "colorway": [
           "#636efa",
           "#EF553B",
           "#00cc96",
           "#ab63fa",
           "#FFA15A",
           "#19d3f3",
           "#FF6692",
           "#B6E880",
           "#FF97FF",
           "#FECB52"
          ],
          "font": {
           "color": "#2a3f5f"
          },
          "geo": {
           "bgcolor": "white",
           "lakecolor": "white",
           "landcolor": "#E5ECF6",
           "showlakes": true,
           "showland": true,
           "subunitcolor": "white"
          },
          "hoverlabel": {
           "align": "left"
          },
          "hovermode": "closest",
          "mapbox": {
           "style": "light"
          },
          "paper_bgcolor": "white",
          "plot_bgcolor": "#E5ECF6",
          "polar": {
           "angularaxis": {
            "gridcolor": "white",
            "linecolor": "white",
            "ticks": ""
           },
           "bgcolor": "#E5ECF6",
           "radialaxis": {
            "gridcolor": "white",
            "linecolor": "white",
            "ticks": ""
           }
          },
          "scene": {
           "xaxis": {
            "backgroundcolor": "#E5ECF6",
            "gridcolor": "white",
            "gridwidth": 2,
            "linecolor": "white",
            "showbackground": true,
            "ticks": "",
            "zerolinecolor": "white"
           },
           "yaxis": {
            "backgroundcolor": "#E5ECF6",
            "gridcolor": "white",
            "gridwidth": 2,
            "linecolor": "white",
            "showbackground": true,
            "ticks": "",
            "zerolinecolor": "white"
           },
           "zaxis": {
            "backgroundcolor": "#E5ECF6",
            "gridcolor": "white",
            "gridwidth": 2,
            "linecolor": "white",
            "showbackground": true,
            "ticks": "",
            "zerolinecolor": "white"
           }
          },
          "shapedefaults": {
           "line": {
            "color": "#2a3f5f"
           }
          },
          "ternary": {
           "aaxis": {
            "gridcolor": "white",
            "linecolor": "white",
            "ticks": ""
           },
           "baxis": {
            "gridcolor": "white",
            "linecolor": "white",
            "ticks": ""
           },
           "bgcolor": "#E5ECF6",
           "caxis": {
            "gridcolor": "white",
            "linecolor": "white",
            "ticks": ""
           }
          },
          "title": {
           "x": 0.05
          },
          "xaxis": {
           "automargin": true,
           "gridcolor": "white",
           "linecolor": "white",
           "ticks": "",
           "title": {
            "standoff": 15
           },
           "zerolinecolor": "white",
           "zerolinewidth": 2
          },
          "yaxis": {
           "automargin": true,
           "gridcolor": "white",
           "linecolor": "white",
           "ticks": "",
           "title": {
            "standoff": 15
           },
           "zerolinecolor": "white",
           "zerolinewidth": 2
          }
         }
        },
        "title": {
         "text": "Comparison of True vs Filtered mu_t (GAS Filter)"
        },
        "xaxis": {
         "anchor": "y",
         "domain": [
          0,
          1
         ],
         "matches": "x2",
         "showticklabels": false
        },
        "xaxis2": {
         "anchor": "y2",
         "domain": [
          0,
          1
         ]
        },
        "yaxis": {
         "anchor": "x",
         "domain": [
          0.625,
          1
         ]
        },
        "yaxis2": {
         "anchor": "x2",
         "domain": [
          0,
          0.375
         ]
        }
       }
      }
     },
     "metadata": {},
     "output_type": "display_data"
    }
   ],
   "source": [
    "# Plot\n",
    "fig = make_subplots(\n",
    "    rows=N, cols=1,\n",
    "    subplot_titles=[f\"mu_{i+1}: true vs filtered\" for i in range(N)],\n",
    "    shared_xaxes=True\n",
    ")\n",
    "\n",
    "for i in range(N):\n",
    "    fig.add_trace(\n",
    "        go.Scatter(y=y_sim[:, i], mode=\"lines\", name=f\"Observed\", line=dict(dash='solid')),\n",
    "        row=i+1, col=1\n",
    "    )\n",
    "    fig.add_trace(\n",
    "        go.Scatter(y=mu_sim[:, i], mode=\"lines\", name=f\"mu_{i+1} (true)\", line=dict(dash='solid')),\n",
    "        row=i+1, col=1\n",
    "    )\n",
    "    fig.add_trace(\n",
    "        go.Scatter(y=mu_filtered[:, i], mode=\"lines\", name=f\"mu_{i+1} (filtered)\", line=dict(dash='dot')),\n",
    "        row=i+1, col=1\n",
    "    )\n",
    "    fig.add_trace(\n",
    "        go.Scatter(y=mu_kf[:, i], mode=\"lines\", name=f\"mu_{i+1} (KF)\", line=dict(dash='dash')),\n",
    "        row=i+1, col=1\n",
    "    )\n",
    "\n",
    "fig.update_layout(\n",
    "    height=300 * N,\n",
    "    title=\"Comparison of True vs Filtered mu_t (GAS Filter)\",\n",
    "    showlegend=True\n",
    ")\n",
    "\n",
    "fig.show()"
   ]
  },
  {
   "cell_type": "code",
   "execution_count": null,
   "id": "4592734b",
   "metadata": {},
   "outputs": [],
   "source": []
  }
 ],
 "metadata": {
  "kernelspec": {
   "display_name": ".venv",
   "language": "python",
   "name": "python3"
  },
  "language_info": {
   "codemirror_mode": {
    "name": "ipython",
    "version": 3
   },
   "file_extension": ".py",
   "mimetype": "text/x-python",
   "name": "python",
   "nbconvert_exporter": "python",
   "pygments_lexer": "ipython3",
   "version": "3.11.9"
  }
 },
 "nbformat": 4,
 "nbformat_minor": 5
}
