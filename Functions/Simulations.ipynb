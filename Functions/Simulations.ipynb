{
 "cells": [
  {
   "cell_type": "code",
   "execution_count": 1,
   "id": "ab672384",
   "metadata": {},
   "outputs": [],
   "source": [
    "import numpy as np\n",
    "from scipy.optimize import minimize\n",
    "from tqdm import tqdm\n",
    "from scipy.stats import t, multivariate_normal, multivariate_t\n",
    "\n",
    "\n",
    "import plotly.graph_objects as go\n",
    "from plotly.subplots import make_subplots\n",
    "\n",
    "\n",
    "# from simulation import *"
   ]
  },
  {
   "cell_type": "markdown",
   "id": "1320377a",
   "metadata": {},
   "source": [
    "# Univariate Linear State Space Model"
   ]
  },
  {
   "cell_type": "code",
   "execution_count": 12,
   "id": "0075f700",
   "metadata": {},
   "outputs": [],
   "source": [
    "# def simulate_univariate_t_gas(T, phi, kappa, sigma, nu, beta=None, seed=None):\n",
    "#     \"\"\"\n",
    "#     Simulate univariate GAS model data explicitly, optionally including regressors.\n",
    "\n",
    "#     Model explicitly stated:\n",
    "#         y_t = mu_t + X_t @ beta + eps_t, eps_t ~ t_nu(0, sigma^2)\n",
    "#         mu_{t+1} = phi * mu_t + kappa * u_t,\n",
    "#         with:\n",
    "#         u_t = ((nu + 1) * (y_t - mu_t - X_t @ beta)) / (nu * sigma^2 + (y_t - mu_t - X_t @ beta)^2)\n",
    "\n",
    "#     Parameters:\n",
    "#     -----------\n",
    "#     T : int\n",
    "#         Number of observations explicitly.\n",
    "#     phi : float\n",
    "#         AR(1) parameter explicitly.\n",
    "#     kappa : float\n",
    "#         GAS updating parameter explicitly.\n",
    "#     sigma : float\n",
    "#         Scale parameter explicitly of the Student's t-distribution.\n",
    "#     nu : float\n",
    "#         Degrees of freedom explicitly for the Student's t-distribution.\n",
    "#     beta : ndarray (K,) or None, optional\n",
    "#         Explicit coefficient vector for regressors. If None, explicitly no regressors included.\n",
    "#     seed : int or None, optional\n",
    "#         Explicit random seed for reproducibility.\n",
    "\n",
    "#     Returns:\n",
    "#     --------\n",
    "#     y : ndarray (T,)\n",
    "#         Simulated observations explicitly.\n",
    "#     mu : ndarray (T,)\n",
    "#         Simulated latent states explicitly.\n",
    "#     X : ndarray (T, K) or None\n",
    "#         Simulated regressors explicitly if provided; otherwise None explicitly.\n",
    "#     \"\"\"\n",
    "\n",
    "#     if seed is not None:\n",
    "#         np.random.seed(seed)\n",
    "\n",
    "#     # Explicitly handle optional regressors\n",
    "#     if beta is not None:\n",
    "#         beta = np.asarray(beta)\n",
    "#         K = len(beta)\n",
    "#         X = np.random.randn(T, K)\n",
    "#     else:\n",
    "#         K = 0\n",
    "#         X = None\n",
    "\n",
    "#     mu = np.zeros(T)\n",
    "#     y = np.zeros(T)\n",
    "\n",
    "#     for i in range(1, T):\n",
    "#         # Explicitly set prediction with or without regressors\n",
    "#         if beta is not None:\n",
    "#             pred = mu[i-1] + X[i] @ beta\n",
    "#         else:\n",
    "#             pred = mu[i-1]\n",
    "\n",
    "#         # Explicitly generate Student's t noise\n",
    "#         eps_i = t.rvs(df=nu) * sigma\n",
    "#         y[i] = pred + eps_i\n",
    "\n",
    "#         # Compute residual explicitly\n",
    "#         v_i = y[i] - pred\n",
    "\n",
    "#         # Explicit GAS scaled score update (correct form)\n",
    "#         u_i =  1 / (1+ (v_i**2)/ (nu + sigma** 2)) # ((nu + 1) * v_i) / (nu * sigma**2 + v_i**2)\n",
    "\n",
    "#         # Explicit GAS latent state update\n",
    "#         mu[i] = phi * mu[i-1] + kappa * u_i\n",
    "\n",
    "#     return y, mu, X\n",
    "\n",
    "import numpy as np\n",
    "\n",
    "def simulate_univariate_state_space(T, K, c, phi, beta, Q, R, seed=None, use_intercept=True):\n",
    "    \"\"\"\n",
    "    Simulate a univariate linear Gaussian state-space model with optional intercept in regressors.\n",
    "\n",
    "    Model:\n",
    "        y_t = mu_t + X_t @ beta + epsilon_t, epsilon_t ~ N(0, R)\n",
    "        mu_{t+1} = c + phi * mu_t + eta_t, eta_t ~ N(0, Q)\n",
    "\n",
    "    Parameters:\n",
    "    -----------\n",
    "    T : int\n",
    "        Number of time points.\n",
    "    K : int\n",
    "        Number of regressors (including intercept if use_intercept=True).\n",
    "    c : float\n",
    "        State intercept.\n",
    "    phi : float\n",
    "        State AR(1) parameter.\n",
    "    beta : ndarray (K,)\n",
    "        Regressor coefficients. First element is intercept if use_intercept is True.\n",
    "    Q : float\n",
    "        State noise variance.\n",
    "    R : float\n",
    "        Observation noise variance.\n",
    "    seed : int or None\n",
    "        Random seed.\n",
    "    use_intercept : bool\n",
    "        If True, treat the first element of beta as intercept and prepend a column of ones to X.\n",
    "\n",
    "    Returns:\n",
    "    --------\n",
    "    y : ndarray (T,)\n",
    "        Simulated observations.\n",
    "    mu : ndarray (T,)\n",
    "        Latent states.\n",
    "    X : ndarray (T, K)\n",
    "        Simulated regressors (with intercept if used).\n",
    "    \"\"\"\n",
    "    if seed is not None:\n",
    "        np.random.seed(seed)\n",
    "\n",
    "    beta = np.asarray(beta)\n",
    "    assert beta.shape == (K,), f\"Expected beta of shape ({K},), got {beta.shape}\"\n",
    "\n",
    "    if use_intercept:\n",
    "        X_raw = np.random.normal(size=(T, K - 1))\n",
    "        X = np.ones((T, K))\n",
    "        X[:, 1:] = X_raw\n",
    "    else:\n",
    "        X = np.random.normal(size=(T, K))\n",
    "\n",
    "    mu = np.zeros(T)\n",
    "    y = np.zeros(T)\n",
    "\n",
    "    mu[0] = c / (1 - phi)\n",
    "\n",
    "    for t in range(T):\n",
    "        y[t] = mu[t] + X[t] @ beta + np.random.normal(scale=np.sqrt(R))\n",
    "        if t < T - 1:\n",
    "            mu[t + 1] = c + phi * mu[t] + np.random.normal(scale=np.sqrt(Q))\n",
    "\n",
    "    return y, mu, X\n",
    "\n",
    "\n"
   ]
  },
  {
   "cell_type": "code",
   "execution_count": 18,
   "id": "4ec6b3fb",
   "metadata": {},
   "outputs": [],
   "source": [
    "T = 300\n",
    "phi = 0.7\n",
    "c = 0.2\n",
    "Q = 0.1\n",
    "R = 0.3\n",
    "beta = np.array([1.0, 0.5, -0.3])  # intercept + 2 regressors\n",
    "K = len(beta)\n",
    "\n",
    "y_uss, mu_uss, X_uss = simulate_univariate_state_space(T, K, c, phi, beta, Q, R, seed=123, use_intercept=True)\n"
   ]
  },
  {
   "cell_type": "code",
   "execution_count": 20,
   "id": "713ab08e",
   "metadata": {},
   "outputs": [
    {
     "data": {
      "application/vnd.plotly.v1+json": {
       "config": {
        "plotlyServerURL": "https://plot.ly"
       },
       "data": [
        {
         "line": {
          "width": 1.5
         },
         "mode": "lines",
         "name": "Simulated Observations (y)",
         "type": "scatter",
         "x": {
          "bdata": "AAABAAIAAwAEAAUABgAHAAgACQAKAAsADAANAA4ADwAQABEAEgATABQAFQAWABcAGAAZABoAGwAcAB0AHgAfACAAIQAiACMAJAAlACYAJwAoACkAKgArACwALQAuAC8AMAAxADIAMwA0ADUANgA3ADgAOQA6ADsAPAA9AD4APwBAAEEAQgBDAEQARQBGAEcASABJAEoASwBMAE0ATgBPAFAAUQBSAFMAVABVAFYAVwBYAFkAWgBbAFwAXQBeAF8AYABhAGIAYwBkAGUAZgBnAGgAaQBqAGsAbABtAG4AbwBwAHEAcgBzAHQAdQB2AHcAeAB5AHoAewB8AH0AfgB/AIAAgQCCAIMAhACFAIYAhwCIAIkAigCLAIwAjQCOAI8AkACRAJIAkwCUAJUAlgCXAJgAmQCaAJsAnACdAJ4AnwCgAKEAogCjAKQApQCmAKcAqACpAKoAqwCsAK0ArgCvALAAsQCyALMAtAC1ALYAtwC4ALkAugC7ALwAvQC+AL8AwADBAMIAwwDEAMUAxgDHAMgAyQDKAMsAzADNAM4AzwDQANEA0gDTANQA1QDWANcA2ADZANoA2wDcAN0A3gDfAOAA4QDiAOMA5ADlAOYA5wDoAOkA6gDrAOwA7QDuAO8A8ADxAPIA8wD0APUA9gD3APgA+QD6APsA/AD9AP4A/wAAAQEBAgEDAQQBBQEGAQcBCAEJAQoBCwEMAQ0BDgEPARABEQESARMBFAEVARYBFwEYARkBGgEbARwBHQEeAR8BIAEhASIBIwEkASUBJgEnASgBKQEqASsB",
          "dtype": "i2"
         },
         "y": {
          "bdata": "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",
          "dtype": "f8"
         }
        },
        {
         "line": {
          "dash": "dash",
          "width": 2
         },
         "mode": "lines",
         "name": "Latent State (μ)",
         "type": "scatter",
         "x": {
          "bdata": "AAABAAIAAwAEAAUABgAHAAgACQAKAAsADAANAA4ADwAQABEAEgATABQAFQAWABcAGAAZABoAGwAcAB0AHgAfACAAIQAiACMAJAAlACYAJwAoACkAKgArACwALQAuAC8AMAAxADIAMwA0ADUANgA3ADgAOQA6ADsAPAA9AD4APwBAAEEAQgBDAEQARQBGAEcASABJAEoASwBMAE0ATgBPAFAAUQBSAFMAVABVAFYAVwBYAFkAWgBbAFwAXQBeAF8AYABhAGIAYwBkAGUAZgBnAGgAaQBqAGsAbABtAG4AbwBwAHEAcgBzAHQAdQB2AHcAeAB5AHoAewB8AH0AfgB/AIAAgQCCAIMAhACFAIYAhwCIAIkAigCLAIwAjQCOAI8AkACRAJIAkwCUAJUAlgCXAJgAmQCaAJsAnACdAJ4AnwCgAKEAogCjAKQApQCmAKcAqACpAKoAqwCsAK0ArgCvALAAsQCyALMAtAC1ALYAtwC4ALkAugC7ALwAvQC+AL8AwADBAMIAwwDEAMUAxgDHAMgAyQDKAMsAzADNAM4AzwDQANEA0gDTANQA1QDWANcA2ADZANoA2wDcAN0A3gDfAOAA4QDiAOMA5ADlAOYA5wDoAOkA6gDrAOwA7QDuAO8A8ADxAPIA8wD0APUA9gD3APgA+QD6APsA/AD9AP4A/wAAAQEBAgEDAQQBBQEGAQcBCAEJAQoBCwEMAQ0BDgEPARABEQESARMBFAEVARYBFwEYARkBGgEbARwBHQEeAR8BIAEhASIBIwEkASUBJgEnASgBKQEqASsB",
          "dtype": "i2"
         },
         "y": {
          "bdata": "VVVVVVVV5T/ql8IIH7faP5MOc7Vq99c/As7nXibV4T9UdNGWyarPP3YDZR1119g/+pf8G4E+7z8co+EfpajgP3eivpPytds/BrHVWZ2u6j+dzgndHzzlP/Psl0jR1u4/jPlP9YKd6T/SQwy4mC7ZP/nm5QYFL9E/Js0QvmtC8D/3TQvNbivqPwqs4xzOy+4/yp4GVYLI4j/g5NKFpQisv1JGCESFjto/kgjLeWKJyT9CXEUm5yDtP6Q1ipbpVuM/WAzhgTAx1D9mo0xSsXroP+tCNbYvTtc/2Wsdq4L51D/8hHmAWFHYPwrWkeHLnNo/Bm9/7qMw4D/yCwnZHEvpP38iVLKr++E/f7akP8TV6D+EtMiTfDP0P9Lo2do7Bfo/JdTvzg7V6z/pb0jcYavlP8etji1B7es/ujkt1ZY39T98MW5PmdXzPwDBvirs5vM/XGO0kf0l7z/zgTGaOxzvP173DBq3kfM/yHNlIcAp6T9z8wy2K7nmP520kT9PUOU/6kNiMaEY8D+OjPu2h5rkP3BNQl/qdu4/EEdE7oQg4j92o3wMjvHmP8roh0L5R+4/JtE0kN6Q5j/6VIvvBO70P9ZaYcjDJO4/NDVin/vl6T9bRjopnJLrPzbA/cZkZuM/bIfUOy6M5T+aa48VLaDpP6/nolNTi9k/pkcyKLsF8T814Y7Hr+XyP+rViEWBlPI/141VXHQjAUCt5D4EAAD7PyIew0uDsvs/2mOvddBH9j/oGQcBPRjyP9nxlUIITO8/SiU8D1m/6j98v8Kxpy7zPyGLcI8iHvU/ESeIXGpX+D/yE3gmYnDxP/yB1zSd5uc/cRa4wHwj8T8o9p440SP0P9qd4ZXh0+U/+LszXlbBzT9ghTeffIPPv/24+7V/QtO/rGUq+2Fwlr/FnpF0D6jEv/4od/gvHMk/AlNmcyVtxr+hHGmTnLK3P8SDG201gNM/bNJCkf5m0z8kH4XBHuXNv/zp5tM0vtc/bg33sUY1xT8EB7ZvTw/TP8Mb5w3Ps9w/oBidmjVH6D85Kqs1oGDyP55g9MUzkuc/znr6i0/70T/aPFrouWLZP4KCuDpzKcS/nJmFytpLwj/KK22/zmrmP2Jnz/dn4+A/+qbQSZ6H8j9Ga4AHOBjyP4xvzsGJHPg/PRJwdcBT8z99dxrxeo7vP7IyZ5S/uec//Aoy/z/dwj/F3CtyarTVP6B9K4uEiLA/xrto+0Te4j+sGSqAidDtPz8Ob/M2GfM/GLxSLINV5T/yB1nzZyjlPxZlAo8pPe4/Lu43K1UE5z/XWXR1x2/oP1czMMhCA/A/VIpd7n6J6D+xPC/z5+npP5WW7ofH5+k//RB3rMT95z9wxdbps0XJP+DtunEIuom/inxwIHGczj8unVKQYbPaPziGEgDG9LQ/jqQbiS+V1L+oEzttLFS0P/v7vo+DGco/t7uydXMH1D8WdvhBE8fsP2UIwtCt+d4/Htqlnsuy7z8Z1FbUcoHnPyAczyDuefA/L5pGwKmh4z+gIOTIodOvP2D3BPr776O/6EIX1vp6yD8WfuqzZArpPwBAf47zD+8/SpoaygEl7z91Y/sABp7uP5YXv9AMi+8/tcbUpMZa6j/jkcTPGhjtP3jKNGhQNeg/+XA6kJop5j8AFDXIElahvyo6DyEyWtE/VIvS/8yJwT/VYvkfi3vHP8qYBE9fRcU/cJPuDNUu4z/SHPBXeEbtPw35I8WXueM/ZjzcdQkH4T98zHLTb9zvPzutbyGBNO8/7kygC/yV8D/YiN6IH+7zP7qoMh38WNc/5WVrpDmH2D/kkJ7VHcXlP7hl0Hl04+8/thER9TN/5T9CPkOwQ4PRP0C00zOK6+Q/isofIop78D+msd7lXTXpPzHiAUidK+A/ckkGhmFM6D9YQDtQAEy1P0+GSjtD+Ns/aU/tuYig4D8iTD8PxV7GP2PH7oumuMw/sBfcXSm1kr8s/dchgY2gP7PcFVAOgeU/oHgA4FdTxj+A5Uvy2m6evzjsDHwgB9Q/io01AtvT2T9TKda7TLzmP804TYxUj+Y/gEBEC9Fc7D+2VsKPRpTQP1QL+lIfXNs/B0yTQx7e3D/GdPUoi53qP7Bz1UY97sU/HrtsEkWp4D9CgHO34rjRP2CKDoy3saU/hxORYYAv2j8yYXR1xM7FP1EgzQYSYtG//qWBy99S1r9EmQe5EKfcv+SY5dZbn68/TLJAcxAr1z+egdbWBmvaP+xv3pyGjMw/XBYlPTcbzj+QILFNQJDaP76aH0sU9ss/RCXwUvBB5z+W/03NJrzoP8Ev2unbmek/AArlCvYv8j/x+eJK3SzsPwodpKu19/A/lMGQiGm82D+0j6sYXUHmP7yj4Ryvedw/IU/I8hX30j9pnUaqwTTgP7BYXJMyCOE/Yt6115Xn5D/L5tsD4YPnP2mNOfo6PO8/cEG7pF5gzD+cfo6+NMLAPz6R1Uh22eE/WjXbef7c3T+7chmaJzTgP3jwE2Mrp+o/yK5RRlmO7D+WR2+UFLnoP+HjtIaqxt4/OGGWOUyj6D/gz2H7h/2xPzCZcrMa4b+/ki9HdJxL4j8AG/OFx2fhPzejbudueeU/DubgYsLe5z/nEEjiGHzkP3E+ZbCFcuM/PMokF/eB9T+1gGuZldvgPyBSa9Nripc/a2EytyYq5D9AKoQprcHnP2g2pkmtfPM/sACOCL1H8j9ufd61mo/wP3LWCrH/YOc/BoyCgopO6D+a5D+cAQfjP6D/w6Tk9rq/AJfkuijIvT96wbdGdNjwP1oo1dLzvfA/p28PTMNa8T8cPxD66hvpPx2euz2fwd8/+e3JB1iC6D9yRASCI3HoPzSezgkzZNs/Nqvm6nUV7j8u01b1b8XoPxT1QkgyMe0/uwaVME/w6T/+rBXd2Q3vP9OkY9spHPA/QKAyvmST8z+gkc+OiY/sP+rFx3ceJtU/V6940z3V8z+WBQPavjP1P0wAA9b1De0/QH59wERm7j8c80CKPgnuP8pAjXKYdeg/XC18EnYn5z/pP2Uw6OHpP1UbSsqfBfU/eYdoM3XN9D9esZEZmV7vP8s0jPZl/N0/Zao+8Nlv5D/HTErsGQzdPzQylkWUHeQ/VERQCMIz1j/aFZ3Fi2TDv5+M9dRXx9Q/JWsyW2o5zj+DivFU8xfBP5yYkorlb94/RHtpJ2FB3T/OvBTn8kHuP6fbsOZU2eg/",
          "dtype": "f8"
         }
        },
        {
         "line": {
          "dash": "dot",
          "width": 1.5
         },
         "mode": "lines",
         "name": "Regressor 1",
         "type": "scatter",
         "x": {
          "bdata": "AAABAAIAAwAEAAUABgAHAAgACQAKAAsADAANAA4ADwAQABEAEgATABQAFQAWABcAGAAZABoAGwAcAB0AHgAfACAAIQAiACMAJAAlACYAJwAoACkAKgArACwALQAuAC8AMAAxADIAMwA0ADUANgA3ADgAOQA6ADsAPAA9AD4APwBAAEEAQgBDAEQARQBGAEcASABJAEoASwBMAE0ATgBPAFAAUQBSAFMAVABVAFYAVwBYAFkAWgBbAFwAXQBeAF8AYABhAGIAYwBkAGUAZgBnAGgAaQBqAGsAbABtAG4AbwBwAHEAcgBzAHQAdQB2AHcAeAB5AHoAewB8AH0AfgB/AIAAgQCCAIMAhACFAIYAhwCIAIkAigCLAIwAjQCOAI8AkACRAJIAkwCUAJUAlgCXAJgAmQCaAJsAnACdAJ4AnwCgAKEAogCjAKQApQCmAKcAqACpAKoAqwCsAK0ArgCvALAAsQCyALMAtAC1ALYAtwC4ALkAugC7ALwAvQC+AL8AwADBAMIAwwDEAMUAxgDHAMgAyQDKAMsAzADNAM4AzwDQANEA0gDTANQA1QDWANcA2ADZANoA2wDcAN0A3gDfAOAA4QDiAOMA5ADlAOYA5wDoAOkA6gDrAOwA7QDuAO8A8ADxAPIA8wD0APUA9gD3APgA+QD6APsA/AD9AP4A/wAAAQEBAgEDAQQBBQEGAQcBCAEJAQoBCwEMAQ0BDgEPARABEQESARMBFAEVARYBFwEYARkBGgEbARwBHQEeAR8BIAEhASIBIwEkASUBJgEnASgBKQEqASsB",
          "dtype": "i2"
         },
         "y": {
          "bdata": "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",
          "dtype": "f8"
         }
        },
        {
         "line": {
          "dash": "dot",
          "width": 1.5
         },
         "mode": "lines",
         "name": "Regressor 2",
         "type": "scatter",
         "x": {
          "bdata": "AAABAAIAAwAEAAUABgAHAAgACQAKAAsADAANAA4ADwAQABEAEgATABQAFQAWABcAGAAZABoAGwAcAB0AHgAfACAAIQAiACMAJAAlACYAJwAoACkAKgArACwALQAuAC8AMAAxADIAMwA0ADUANgA3ADgAOQA6ADsAPAA9AD4APwBAAEEAQgBDAEQARQBGAEcASABJAEoASwBMAE0ATgBPAFAAUQBSAFMAVABVAFYAVwBYAFkAWgBbAFwAXQBeAF8AYABhAGIAYwBkAGUAZgBnAGgAaQBqAGsAbABtAG4AbwBwAHEAcgBzAHQAdQB2AHcAeAB5AHoAewB8AH0AfgB/AIAAgQCCAIMAhACFAIYAhwCIAIkAigCLAIwAjQCOAI8AkACRAJIAkwCUAJUAlgCXAJgAmQCaAJsAnACdAJ4AnwCgAKEAogCjAKQApQCmAKcAqACpAKoAqwCsAK0ArgCvALAAsQCyALMAtAC1ALYAtwC4ALkAugC7ALwAvQC+AL8AwADBAMIAwwDEAMUAxgDHAMgAyQDKAMsAzADNAM4AzwDQANEA0gDTANQA1QDWANcA2ADZANoA2wDcAN0A3gDfAOAA4QDiAOMA5ADlAOYA5wDoAOkA6gDrAOwA7QDuAO8A8ADxAPIA8wD0APUA9gD3APgA+QD6APsA/AD9AP4A/wAAAQEBAgEDAQQBBQEGAQcBCAEJAQoBCwEMAQ0BDgEPARABEQESARMBFAEVARYBFwEYARkBGgEbARwBHQEeAR8BIAEhASIBIwEkASUBJgEnASgBKQEqASsB",
          "dtype": "i2"
         },
         "y": {
          "bdata": "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",
          "dtype": "f8"
         }
        },
        {
         "line": {
          "dash": "dot",
          "width": 1.5
         },
         "mode": "lines",
         "name": "Regressor 3",
         "type": "scatter",
         "x": {
          "bdata": "AAABAAIAAwAEAAUABgAHAAgACQAKAAsADAANAA4ADwAQABEAEgATABQAFQAWABcAGAAZABoAGwAcAB0AHgAfACAAIQAiACMAJAAlACYAJwAoACkAKgArACwALQAuAC8AMAAxADIAMwA0ADUANgA3ADgAOQA6ADsAPAA9AD4APwBAAEEAQgBDAEQARQBGAEcASABJAEoASwBMAE0ATgBPAFAAUQBSAFMAVABVAFYAVwBYAFkAWgBbAFwAXQBeAF8AYABhAGIAYwBkAGUAZgBnAGgAaQBqAGsAbABtAG4AbwBwAHEAcgBzAHQAdQB2AHcAeAB5AHoAewB8AH0AfgB/AIAAgQCCAIMAhACFAIYAhwCIAIkAigCLAIwAjQCOAI8AkACRAJIAkwCUAJUAlgCXAJgAmQCaAJsAnACdAJ4AnwCgAKEAogCjAKQApQCmAKcAqACpAKoAqwCsAK0ArgCvALAAsQCyALMAtAC1ALYAtwC4ALkAugC7ALwAvQC+AL8AwADBAMIAwwDEAMUAxgDHAMgAyQDKAMsAzADNAM4AzwDQANEA0gDTANQA1QDWANcA2ADZANoA2wDcAN0A3gDfAOAA4QDiAOMA5ADlAOYA5wDoAOkA6gDrAOwA7QDuAO8A8ADxAPIA8wD0APUA9gD3APgA+QD6APsA/AD9AP4A/wAAAQEBAgEDAQQBBQEGAQcBCAEJAQoBCwEMAQ0BDgEPARABEQESARMBFAEVARYBFwEYARkBGgEbARwBHQEeAR8BIAEhASIBIwEkASUBJgEnASgBKQEqASsB",
          "dtype": "i2"
         },
         "y": {
          "bdata": "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",
          "dtype": "f8"
         }
        }
       ],
       "layout": {
        "height": 550,
        "legend": {
         "x": 1.05,
         "y": 1
        },
        "template": {
         "data": {
          "bar": [
           {
            "error_x": {
             "color": "#2a3f5f"
            },
            "error_y": {
             "color": "#2a3f5f"
            },
            "marker": {
             "line": {
              "color": "white",
              "width": 0.5
             },
             "pattern": {
              "fillmode": "overlay",
              "size": 10,
              "solidity": 0.2
             }
            },
            "type": "bar"
           }
          ],
          "barpolar": [
           {
            "marker": {
             "line": {
              "color": "white",
              "width": 0.5
             },
             "pattern": {
              "fillmode": "overlay",
              "size": 10,
              "solidity": 0.2
             }
            },
            "type": "barpolar"
           }
          ],
          "carpet": [
           {
            "aaxis": {
             "endlinecolor": "#2a3f5f",
             "gridcolor": "#C8D4E3",
             "linecolor": "#C8D4E3",
             "minorgridcolor": "#C8D4E3",
             "startlinecolor": "#2a3f5f"
            },
            "baxis": {
             "endlinecolor": "#2a3f5f",
             "gridcolor": "#C8D4E3",
             "linecolor": "#C8D4E3",
             "minorgridcolor": "#C8D4E3",
             "startlinecolor": "#2a3f5f"
            },
            "type": "carpet"
           }
          ],
          "choropleth": [
           {
            "colorbar": {
             "outlinewidth": 0,
             "ticks": ""
            },
            "type": "choropleth"
           }
          ],
          "contour": [
           {
            "colorbar": {
             "outlinewidth": 0,
             "ticks": ""
            },
            "colorscale": [
             [
              0,
              "#0d0887"
             ],
             [
              0.1111111111111111,
              "#46039f"
             ],
             [
              0.2222222222222222,
              "#7201a8"
             ],
             [
              0.3333333333333333,
              "#9c179e"
             ],
             [
              0.4444444444444444,
              "#bd3786"
             ],
             [
              0.5555555555555556,
              "#d8576b"
             ],
             [
              0.6666666666666666,
              "#ed7953"
             ],
             [
              0.7777777777777778,
              "#fb9f3a"
             ],
             [
              0.8888888888888888,
              "#fdca26"
             ],
             [
              1,
              "#f0f921"
             ]
            ],
            "type": "contour"
           }
          ],
          "contourcarpet": [
           {
            "colorbar": {
             "outlinewidth": 0,
             "ticks": ""
            },
            "type": "contourcarpet"
           }
          ],
          "heatmap": [
           {
            "colorbar": {
             "outlinewidth": 0,
             "ticks": ""
            },
            "colorscale": [
             [
              0,
              "#0d0887"
             ],
             [
              0.1111111111111111,
              "#46039f"
             ],
             [
              0.2222222222222222,
              "#7201a8"
             ],
             [
              0.3333333333333333,
              "#9c179e"
             ],
             [
              0.4444444444444444,
              "#bd3786"
             ],
             [
              0.5555555555555556,
              "#d8576b"
             ],
             [
              0.6666666666666666,
              "#ed7953"
             ],
             [
              0.7777777777777778,
              "#fb9f3a"
             ],
             [
              0.8888888888888888,
              "#fdca26"
             ],
             [
              1,
              "#f0f921"
             ]
            ],
            "type": "heatmap"
           }
          ],
          "histogram": [
           {
            "marker": {
             "pattern": {
              "fillmode": "overlay",
              "size": 10,
              "solidity": 0.2
             }
            },
            "type": "histogram"
           }
          ],
          "histogram2d": [
           {
            "colorbar": {
             "outlinewidth": 0,
             "ticks": ""
            },
            "colorscale": [
             [
              0,
              "#0d0887"
             ],
             [
              0.1111111111111111,
              "#46039f"
             ],
             [
              0.2222222222222222,
              "#7201a8"
             ],
             [
              0.3333333333333333,
              "#9c179e"
             ],
             [
              0.4444444444444444,
              "#bd3786"
             ],
             [
              0.5555555555555556,
              "#d8576b"
             ],
             [
              0.6666666666666666,
              "#ed7953"
             ],
             [
              0.7777777777777778,
              "#fb9f3a"
             ],
             [
              0.8888888888888888,
              "#fdca26"
             ],
             [
              1,
              "#f0f921"
             ]
            ],
            "type": "histogram2d"
           }
          ],
          "histogram2dcontour": [
           {
            "colorbar": {
             "outlinewidth": 0,
             "ticks": ""
            },
            "colorscale": [
             [
              0,
              "#0d0887"
             ],
             [
              0.1111111111111111,
              "#46039f"
             ],
             [
              0.2222222222222222,
              "#7201a8"
             ],
             [
              0.3333333333333333,
              "#9c179e"
             ],
             [
              0.4444444444444444,
              "#bd3786"
             ],
             [
              0.5555555555555556,
              "#d8576b"
             ],
             [
              0.6666666666666666,
              "#ed7953"
             ],
             [
              0.7777777777777778,
              "#fb9f3a"
             ],
             [
              0.8888888888888888,
              "#fdca26"
             ],
             [
              1,
              "#f0f921"
             ]
            ],
            "type": "histogram2dcontour"
           }
          ],
          "mesh3d": [
           {
            "colorbar": {
             "outlinewidth": 0,
             "ticks": ""
            },
            "type": "mesh3d"
           }
          ],
          "parcoords": [
           {
            "line": {
             "colorbar": {
              "outlinewidth": 0,
              "ticks": ""
             }
            },
            "type": "parcoords"
           }
          ],
          "pie": [
           {
            "automargin": true,
            "type": "pie"
           }
          ],
          "scatter": [
           {
            "fillpattern": {
             "fillmode": "overlay",
             "size": 10,
             "solidity": 0.2
            },
            "type": "scatter"
           }
          ],
          "scatter3d": [
           {
            "line": {
             "colorbar": {
              "outlinewidth": 0,
              "ticks": ""
             }
            },
            "marker": {
             "colorbar": {
              "outlinewidth": 0,
              "ticks": ""
             }
            },
            "type": "scatter3d"
           }
          ],
          "scattercarpet": [
           {
            "marker": {
             "colorbar": {
              "outlinewidth": 0,
              "ticks": ""
             }
            },
            "type": "scattercarpet"
           }
          ],
          "scattergeo": [
           {
            "marker": {
             "colorbar": {
              "outlinewidth": 0,
              "ticks": ""
             }
            },
            "type": "scattergeo"
           }
          ],
          "scattergl": [
           {
            "marker": {
             "colorbar": {
              "outlinewidth": 0,
              "ticks": ""
             }
            },
            "type": "scattergl"
           }
          ],
          "scattermap": [
           {
            "marker": {
             "colorbar": {
              "outlinewidth": 0,
              "ticks": ""
             }
            },
            "type": "scattermap"
           }
          ],
          "scattermapbox": [
           {
            "marker": {
             "colorbar": {
              "outlinewidth": 0,
              "ticks": ""
             }
            },
            "type": "scattermapbox"
           }
          ],
          "scatterpolar": [
           {
            "marker": {
             "colorbar": {
              "outlinewidth": 0,
              "ticks": ""
             }
            },
            "type": "scatterpolar"
           }
          ],
          "scatterpolargl": [
           {
            "marker": {
             "colorbar": {
              "outlinewidth": 0,
              "ticks": ""
             }
            },
            "type": "scatterpolargl"
           }
          ],
          "scatterternary": [
           {
            "marker": {
             "colorbar": {
              "outlinewidth": 0,
              "ticks": ""
             }
            },
            "type": "scatterternary"
           }
          ],
          "surface": [
           {
            "colorbar": {
             "outlinewidth": 0,
             "ticks": ""
            },
            "colorscale": [
             [
              0,
              "#0d0887"
             ],
             [
              0.1111111111111111,
              "#46039f"
             ],
             [
              0.2222222222222222,
              "#7201a8"
             ],
             [
              0.3333333333333333,
              "#9c179e"
             ],
             [
              0.4444444444444444,
              "#bd3786"
             ],
             [
              0.5555555555555556,
              "#d8576b"
             ],
             [
              0.6666666666666666,
              "#ed7953"
             ],
             [
              0.7777777777777778,
              "#fb9f3a"
             ],
             [
              0.8888888888888888,
              "#fdca26"
             ],
             [
              1,
              "#f0f921"
             ]
            ],
            "type": "surface"
           }
          ],
          "table": [
           {
            "cells": {
             "fill": {
              "color": "#EBF0F8"
             },
             "line": {
              "color": "white"
             }
            },
            "header": {
             "fill": {
              "color": "#C8D4E3"
             },
             "line": {
              "color": "white"
             }
            },
            "type": "table"
           }
          ]
         },
         "layout": {
          "annotationdefaults": {
           "arrowcolor": "#2a3f5f",
           "arrowhead": 0,
           "arrowwidth": 1
          },
          "autotypenumbers": "strict",
          "coloraxis": {
           "colorbar": {
            "outlinewidth": 0,
            "ticks": ""
           }
          },
          "colorscale": {
           "diverging": [
            [
             0,
             "#8e0152"
            ],
            [
             0.1,
             "#c51b7d"
            ],
            [
             0.2,
             "#de77ae"
            ],
            [
             0.3,
             "#f1b6da"
            ],
            [
             0.4,
             "#fde0ef"
            ],
            [
             0.5,
             "#f7f7f7"
            ],
            [
             0.6,
             "#e6f5d0"
            ],
            [
             0.7,
             "#b8e186"
            ],
            [
             0.8,
             "#7fbc41"
            ],
            [
             0.9,
             "#4d9221"
            ],
            [
             1,
             "#276419"
            ]
           ],
           "sequential": [
            [
             0,
             "#0d0887"
            ],
            [
             0.1111111111111111,
             "#46039f"
            ],
            [
             0.2222222222222222,
             "#7201a8"
            ],
            [
             0.3333333333333333,
             "#9c179e"
            ],
            [
             0.4444444444444444,
             "#bd3786"
            ],
            [
             0.5555555555555556,
             "#d8576b"
            ],
            [
             0.6666666666666666,
             "#ed7953"
            ],
            [
             0.7777777777777778,
             "#fb9f3a"
            ],
            [
             0.8888888888888888,
             "#fdca26"
            ],
            [
             1,
             "#f0f921"
            ]
           ],
           "sequentialminus": [
            [
             0,
             "#0d0887"
            ],
            [
             0.1111111111111111,
             "#46039f"
            ],
            [
             0.2222222222222222,
             "#7201a8"
            ],
            [
             0.3333333333333333,
             "#9c179e"
            ],
            [
             0.4444444444444444,
             "#bd3786"
            ],
            [
             0.5555555555555556,
             "#d8576b"
            ],
            [
             0.6666666666666666,
             "#ed7953"
            ],
            [
             0.7777777777777778,
             "#fb9f3a"
            ],
            [
             0.8888888888888888,
             "#fdca26"
            ],
            [
             1,
             "#f0f921"
            ]
           ]
          },
          "colorway": [
           "#636efa",
           "#EF553B",
           "#00cc96",
           "#ab63fa",
           "#FFA15A",
           "#19d3f3",
           "#FF6692",
           "#B6E880",
           "#FF97FF",
           "#FECB52"
          ],
          "font": {
           "color": "#2a3f5f"
          },
          "geo": {
           "bgcolor": "white",
           "lakecolor": "white",
           "landcolor": "white",
           "showlakes": true,
           "showland": true,
           "subunitcolor": "#C8D4E3"
          },
          "hoverlabel": {
           "align": "left"
          },
          "hovermode": "closest",
          "mapbox": {
           "style": "light"
          },
          "paper_bgcolor": "white",
          "plot_bgcolor": "white",
          "polar": {
           "angularaxis": {
            "gridcolor": "#EBF0F8",
            "linecolor": "#EBF0F8",
            "ticks": ""
           },
           "bgcolor": "white",
           "radialaxis": {
            "gridcolor": "#EBF0F8",
            "linecolor": "#EBF0F8",
            "ticks": ""
           }
          },
          "scene": {
           "xaxis": {
            "backgroundcolor": "white",
            "gridcolor": "#DFE8F3",
            "gridwidth": 2,
            "linecolor": "#EBF0F8",
            "showbackground": true,
            "ticks": "",
            "zerolinecolor": "#EBF0F8"
           },
           "yaxis": {
            "backgroundcolor": "white",
            "gridcolor": "#DFE8F3",
            "gridwidth": 2,
            "linecolor": "#EBF0F8",
            "showbackground": true,
            "ticks": "",
            "zerolinecolor": "#EBF0F8"
           },
           "zaxis": {
            "backgroundcolor": "white",
            "gridcolor": "#DFE8F3",
            "gridwidth": 2,
            "linecolor": "#EBF0F8",
            "showbackground": true,
            "ticks": "",
            "zerolinecolor": "#EBF0F8"
           }
          },
          "shapedefaults": {
           "line": {
            "color": "#2a3f5f"
           }
          },
          "ternary": {
           "aaxis": {
            "gridcolor": "#DFE8F3",
            "linecolor": "#A2B1C6",
            "ticks": ""
           },
           "baxis": {
            "gridcolor": "#DFE8F3",
            "linecolor": "#A2B1C6",
            "ticks": ""
           },
           "bgcolor": "white",
           "caxis": {
            "gridcolor": "#DFE8F3",
            "linecolor": "#A2B1C6",
            "ticks": ""
           }
          },
          "title": {
           "x": 0.05
          },
          "xaxis": {
           "automargin": true,
           "gridcolor": "#EBF0F8",
           "linecolor": "#EBF0F8",
           "ticks": "",
           "title": {
            "standoff": 15
           },
           "zerolinecolor": "#EBF0F8",
           "zerolinewidth": 2
          },
          "yaxis": {
           "automargin": true,
           "gridcolor": "#EBF0F8",
           "linecolor": "#EBF0F8",
           "ticks": "",
           "title": {
            "standoff": 15
           },
           "zerolinecolor": "#EBF0F8",
           "zerolinewidth": 2
          }
         }
        },
        "title": {
         "text": "Explicit GAS Univariate Simulation"
        },
        "width": 950,
        "xaxis": {
         "title": {
          "text": "Time"
         }
        },
        "yaxis": {
         "title": {
          "text": "Value"
         }
        }
       }
      }
     },
     "metadata": {},
     "output_type": "display_data"
    }
   ],
   "source": [
    "time_axis = np.arange(T)\n",
    "\n",
    "fig = go.Figure()\n",
    "\n",
    "# Explicitly plot simulated observations\n",
    "fig.add_trace(go.Scatter(\n",
    "    x=time_axis, y=y_uss, mode='lines',\n",
    "    name='Simulated Observations (y)', line=dict(width=1.5)\n",
    "))\n",
    "\n",
    "# Explicitly plot latent state\n",
    "fig.add_trace(go.Scatter(\n",
    "    x=time_axis, y=mu_uss, mode='lines',\n",
    "    name='Latent State (μ)', line=dict(width=2, dash='dash')\n",
    "))\n",
    "\n",
    "for i in range(X_uss.shape[1]):\n",
    "    fig.add_trace(go.Scatter(\n",
    "        x=time_axis, y=X_uss[:, i], mode='lines',\n",
    "        name=f'Regressor {i+1}', line=dict(width=1.5, dash='dot')\n",
    "    ))\n",
    "\n",
    "fig.update_layout(\n",
    "    title='Explicit GAS Univariate Simulation',\n",
    "    xaxis_title='Time',\n",
    "    yaxis_title='Value',\n",
    "    legend=dict(x=1.05, y=1),\n",
    "    template='plotly_white',\n",
    "    width=950,\n",
    "    height=550\n",
    ")\n",
    "\n",
    "fig.show()"
   ]
  },
  {
   "cell_type": "markdown",
   "id": "3cca7a6c",
   "metadata": {},
   "source": [
    "# Univariate GAS Model"
   ]
  },
  {
   "cell_type": "code",
   "execution_count": 21,
   "id": "85d29e0f",
   "metadata": {},
   "outputs": [],
   "source": [
    "# def simulate_gas_data_univariate(T, phi, kappa, sigma, nu, beta=None, seed=None):\n",
    "#     \"\"\"\n",
    "#     Simulate univariate GAS model data explicitly, optionally with regressors.\n",
    "\n",
    "#     Model explicitly:\n",
    "#         y_t = mu_t + X_t @ beta + eps_t, eps_t ~ t_nu(0, sigma^2)\n",
    "\n",
    "#         mu_{t+1} = phi * mu_t + kappa * u_t,\n",
    "\n",
    "#         Explicitly scaled GAS score:\n",
    "#         u_t = ((nu + 1) * v_t) / (nu * sigma^2 + v_t^2),\n",
    "#         where v_t = y_t - mu_t - X_t @ beta\n",
    "\n",
    "#     Parameters:\n",
    "#     -----------\n",
    "#     T : int\n",
    "#         Number of observations explicitly.\n",
    "#     phi : float\n",
    "#         AR(1) parameter explicitly for latent state.\n",
    "#     kappa : float\n",
    "#         GAS updating parameter explicitly.\n",
    "#     sigma : float\n",
    "#         Scale parameter explicitly of Student's t-distribution.\n",
    "#     nu : float\n",
    "#         Degrees of freedom explicitly for Student's t-distribution.\n",
    "#     beta : ndarray (K,) or None, optional\n",
    "#         Coefficient vector explicitly for regressors. If None, explicitly no regressors.\n",
    "#     seed : int or None, optional\n",
    "#         Random seed explicitly for reproducibility.\n",
    "\n",
    "#     Returns:\n",
    "#     --------\n",
    "#     y : ndarray (T,)\n",
    "#         Simulated observations explicitly.\n",
    "#     mu : ndarray (T,)\n",
    "#         Simulated latent states explicitly.\n",
    "#     X : ndarray (T, K) or None\n",
    "#         Simulated regressors explicitly if provided; otherwise None explicitly.\n",
    "#     \"\"\"\n",
    "\n",
    "#     if seed is not None:\n",
    "#         np.random.seed(seed)\n",
    "\n",
    "#     if beta is not None:\n",
    "#         beta = np.asarray(beta)\n",
    "#         K = beta.shape[0]\n",
    "#         X = np.random.randn(T, K)\n",
    "#     else:\n",
    "#         K = 0\n",
    "#         X = None\n",
    "\n",
    "#     mu = np.zeros(T)\n",
    "#     y = np.zeros(T)\n",
    "\n",
    "#     for i in range(1, T):\n",
    "#         if beta is not None:\n",
    "#             pred = mu[i-1] + X[i] @ beta\n",
    "#         else:\n",
    "#             pred = mu[i-1]\n",
    "\n",
    "#         # Generate explicitly Student's t noise\n",
    "#         eps_i = t.rvs(df=nu) * sigma\n",
    "#         y[i] = pred + eps_i\n",
    "\n",
    "#         # Explicitly compute residual\n",
    "#         v_i = y[i] - pred\n",
    "\n",
    "#         # Explicitly scaled GAS score (correct definition)\n",
    "#         # u_i = ((nu + 1) * v_i) / (nu * sigma**2 + v_i**2)\n",
    "#         weight = 1 / (1 + (v_i**2) / (nu * sigma**2))\n",
    "#         u_i = weight * v_i\n",
    "\n",
    "#         # Explicit GAS latent state update\n",
    "#         mu[i] = phi * mu[i-1] + kappa * u_i\n",
    "\n",
    "#     return y, mu, X\n",
    "def simulate_univariate_t_gas(T, phi, kappa, sigma, nu, beta=None, seed=None, use_intercept=True):\n",
    "    \"\"\"\n",
    "    Simulate univariate GAS model data with optional regressors and intercept.\n",
    "\n",
    "    Model:\n",
    "        y_t = mu_t + X_t @ beta + eps_t, eps_t ~ t_nu(0, sigma^2)\n",
    "        mu_{t+1} = phi * mu_t + kappa * u_t\n",
    "        u_t = scaled score\n",
    "\n",
    "    Parameters:\n",
    "    -----------\n",
    "    T : int\n",
    "        Number of observations.\n",
    "    phi : float\n",
    "        AR(1) parameter.\n",
    "    kappa : float\n",
    "        GAS updating parameter.\n",
    "    sigma : float\n",
    "        Scale parameter of the Student's t-distribution.\n",
    "    nu : float\n",
    "        Degrees of freedom.\n",
    "    beta : ndarray (K,) or None\n",
    "        Regression coefficients. If None, no regressors.\n",
    "    seed : int or None\n",
    "        Random seed for reproducibility.\n",
    "    use_intercept : bool\n",
    "        If True, include intercept column (first beta element is intercept).\n",
    "\n",
    "    Returns:\n",
    "    --------\n",
    "    y : ndarray (T,)\n",
    "        Simulated observations.\n",
    "    mu : ndarray (T,)\n",
    "        Simulated latent states.\n",
    "    X : ndarray (T, K) or None\n",
    "        Simulated regressors (with intercept if used), or None if beta is None.\n",
    "    \"\"\"\n",
    "    if seed is not None:\n",
    "        np.random.seed(seed)\n",
    "\n",
    "    if beta is not None:\n",
    "        beta = np.asarray(beta)\n",
    "        K = len(beta)\n",
    "        X = np.random.randn(T, K - 1) if use_intercept else np.random.randn(T, K)\n",
    "        if use_intercept:\n",
    "            X = np.hstack((np.ones((T, 1)), X))  # Add intercept column\n",
    "    else:\n",
    "        K = 0\n",
    "        X = None\n",
    "\n",
    "    mu = np.zeros(T)\n",
    "    y = np.zeros(T)\n",
    "\n",
    "    for i in range(1, T):\n",
    "        # Prediction\n",
    "        pred = mu[i - 1]\n",
    "        if beta is not None:\n",
    "            pred += X[i] @ beta\n",
    "\n",
    "        eps_i = t.rvs(df=nu) * sigma\n",
    "        y[i] = pred + eps_i\n",
    "\n",
    "        v_i = y[i] - pred\n",
    "        u_i = 1 / (1 + (v_i ** 2) / (nu * sigma ** 2))\n",
    "\n",
    "        mu[i] = phi * mu[i - 1] + kappa * u_i\n",
    "\n",
    "    return y, mu, X\n",
    "\n"
   ]
  },
  {
   "cell_type": "code",
   "execution_count": 22,
   "id": "dcd80031",
   "metadata": {},
   "outputs": [
    {
     "name": "stdout",
     "output_type": "stream",
     "text": [
      "✅ GAS simulation with regressors completed explicitly.\n"
     ]
    }
   ],
   "source": [
    "# # Explicit parameters for GAS simulation without regressors\n",
    "# T = 500\n",
    "# phi_true = 0.8\n",
    "# kappa_true = 0.7\n",
    "# sigma_true = 0.8\n",
    "# nu_true = 5\n",
    "\n",
    "# # Run explicit GAS simulation without regressors\n",
    "# y_sim, mu_sim, X_sim = simulate_univariate_t_gas(\n",
    "#     T=T,\n",
    "#     phi=phi_true,\n",
    "#     kappa=kappa_true,\n",
    "#     sigma=sigma_true,\n",
    "#     nu=nu_true,\n",
    "#     beta=None,  # Explicitly no regressors\n",
    "#     seed=8888\n",
    "# )\n",
    "\n",
    "# print(\"✅ GAS simulation without regressors completed explicitly.\")\n",
    "\n",
    "# Explicit parameters for GAS simulation with regressors\n",
    "T = 500\n",
    "phi_true = 0.8\n",
    "kappa_true = 0.7\n",
    "beta_true = np.array([2.0, -1.5])\n",
    "sigma_true = 0.8\n",
    "nu_true = 10.0\n",
    "\n",
    "# Run explicit GAS simulation with regressors\n",
    "y_sim, mu_sim, X_sim = simulate_univariate_t_gas(\n",
    "    T=T,\n",
    "    phi=phi_true,\n",
    "    kappa=kappa_true,\n",
    "    sigma=sigma_true,\n",
    "    nu=nu_true,\n",
    "    beta=beta_true,\n",
    "    use_intercept=True,  # Explicit regressors provided\n",
    "    seed=8888\n",
    ")\n",
    "\n",
    "# # Simulate with 2 regressors and intercept\n",
    "# T = 300\n",
    "# phi = 0.8\n",
    "# kappa = 0.6\n",
    "# sigma = 1.0\n",
    "# nu = 10\n",
    "# beta = np.array([1.0, 0.5, -0.3])  # Intercept + 2 regressors\n",
    "\n",
    "# y, mu, X = simulate_univariate_t_gas(T, phi, kappa, sigma, nu, beta, seed=42, use_intercept=True)\n",
    "\n",
    "print(\"✅ GAS simulation with regressors completed explicitly.\")"
   ]
  },
  {
   "cell_type": "code",
   "execution_count": 23,
   "id": "3b110b18",
   "metadata": {},
   "outputs": [
    {
     "data": {
      "application/vnd.plotly.v1+json": {
       "config": {
        "plotlyServerURL": "https://plot.ly"
       },
       "data": [
        {
         "line": {
          "width": 1.5
         },
         "mode": "lines",
         "name": "Simulated Observations (y)",
         "type": "scatter",
         "x": {
          "bdata": "AAABAAIAAwAEAAUABgAHAAgACQAKAAsADAANAA4ADwAQABEAEgATABQAFQAWABcAGAAZABoAGwAcAB0AHgAfACAAIQAiACMAJAAlACYAJwAoACkAKgArACwALQAuAC8AMAAxADIAMwA0ADUANgA3ADgAOQA6ADsAPAA9AD4APwBAAEEAQgBDAEQARQBGAEcASABJAEoASwBMAE0ATgBPAFAAUQBSAFMAVABVAFYAVwBYAFkAWgBbAFwAXQBeAF8AYABhAGIAYwBkAGUAZgBnAGgAaQBqAGsAbABtAG4AbwBwAHEAcgBzAHQAdQB2AHcAeAB5AHoAewB8AH0AfgB/AIAAgQCCAIMAhACFAIYAhwCIAIkAigCLAIwAjQCOAI8AkACRAJIAkwCUAJUAlgCXAJgAmQCaAJsAnACdAJ4AnwCgAKEAogCjAKQApQCmAKcAqACpAKoAqwCsAK0ArgCvALAAsQCyALMAtAC1ALYAtwC4ALkAugC7ALwAvQC+AL8AwADBAMIAwwDEAMUAxgDHAMgAyQDKAMsAzADNAM4AzwDQANEA0gDTANQA1QDWANcA2ADZANoA2wDcAN0A3gDfAOAA4QDiAOMA5ADlAOYA5wDoAOkA6gDrAOwA7QDuAO8A8ADxAPIA8wD0APUA9gD3APgA+QD6APsA/AD9AP4A/wAAAQEBAgEDAQQBBQEGAQcBCAEJAQoBCwEMAQ0BDgEPARABEQESARMBFAEVARYBFwEYARkBGgEbARwBHQEeAR8BIAEhASIBIwEkASUBJgEnASgBKQEqASsBLAEtAS4BLwEwATEBMgEzATQBNQE2ATcBOAE5AToBOwE8AT0BPgE/AUABQQFCAUMBRAFFAUYBRwFIAUkBSgFLAUwBTQFOAU8BUAFRAVIBUwFUAVUBVgFXAVgBWQFaAVsBXAFdAV4BXwFgAWEBYgFjAWQBZQFmAWcBaAFpAWoBawFsAW0BbgFvAXABcQFyAXMBdAF1AXYBdwF4AXkBegF7AXwBfQF+AX8BgAGBAYIBgwGEAYUBhgGHAYgBiQGKAYsBjAGNAY4BjwGQAZEBkgGTAZQBlQGWAZcBmAGZAZoBmwGcAZ0BngGfAaABoQGiAaMBpAGlAaYBpwGoAakBqgGrAawBrQGuAa8BsAGxAbIBswG0AbUBtgG3AbgBuQG6AbsBvAG9Ab4BvwHAAcEBwgHDAcQBxQHGAccByAHJAcoBywHMAc0BzgHPAdAB0QHSAdMB1AHVAdYB1wHYAdkB2gHbAdwB3QHeAd8B4AHhAeIB4wHkAeUB5gHnAegB6QHqAesB7AHtAe4B7wHwAfEB8gHzAQ==",
          "dtype": "i2"
         },
         "y": {
          "bdata": "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",
          "dtype": "f8"
         }
        },
        {
         "line": {
          "dash": "dash",
          "width": 2
         },
         "mode": "lines",
         "name": "Latent State (μ)",
         "type": "scatter",
         "x": {
          "bdata": "AAABAAIAAwAEAAUABgAHAAgACQAKAAsADAANAA4ADwAQABEAEgATABQAFQAWABcAGAAZABoAGwAcAB0AHgAfACAAIQAiACMAJAAlACYAJwAoACkAKgArACwALQAuAC8AMAAxADIAMwA0ADUANgA3ADgAOQA6ADsAPAA9AD4APwBAAEEAQgBDAEQARQBGAEcASABJAEoASwBMAE0ATgBPAFAAUQBSAFMAVABVAFYAVwBYAFkAWgBbAFwAXQBeAF8AYABhAGIAYwBkAGUAZgBnAGgAaQBqAGsAbABtAG4AbwBwAHEAcgBzAHQAdQB2AHcAeAB5AHoAewB8AH0AfgB/AIAAgQCCAIMAhACFAIYAhwCIAIkAigCLAIwAjQCOAI8AkACRAJIAkwCUAJUAlgCXAJgAmQCaAJsAnACdAJ4AnwCgAKEAogCjAKQApQCmAKcAqACpAKoAqwCsAK0ArgCvALAAsQCyALMAtAC1ALYAtwC4ALkAugC7ALwAvQC+AL8AwADBAMIAwwDEAMUAxgDHAMgAyQDKAMsAzADNAM4AzwDQANEA0gDTANQA1QDWANcA2ADZANoA2wDcAN0A3gDfAOAA4QDiAOMA5ADlAOYA5wDoAOkA6gDrAOwA7QDuAO8A8ADxAPIA8wD0APUA9gD3APgA+QD6APsA/AD9AP4A/wAAAQEBAgEDAQQBBQEGAQcBCAEJAQoBCwEMAQ0BDgEPARABEQESARMBFAEVARYBFwEYARkBGgEbARwBHQEeAR8BIAEhASIBIwEkASUBJgEnASgBKQEqASsBLAEtAS4BLwEwATEBMgEzATQBNQE2ATcBOAE5AToBOwE8AT0BPgE/AUABQQFCAUMBRAFFAUYBRwFIAUkBSgFLAUwBTQFOAU8BUAFRAVIBUwFUAVUBVgFXAVgBWQFaAVsBXAFdAV4BXwFgAWEBYgFjAWQBZQFmAWcBaAFpAWoBawFsAW0BbgFvAXABcQFyAXMBdAF1AXYBdwF4AXkBegF7AXwBfQF+AX8BgAGBAYIBgwGEAYUBhgGHAYgBiQGKAYsBjAGNAY4BjwGQAZEBkgGTAZQBlQGWAZcBmAGZAZoBmwGcAZ0BngGfAaABoQGiAaMBpAGlAaYBpwGoAakBqgGrAawBrQGuAa8BsAGxAbIBswG0AbUBtgG3AbgBuQG6AbsBvAG9Ab4BvwHAAcEBwgHDAcQBxQHGAccByAHJAcoBywHMAc0BzgHPAdAB0QHSAdMB1AHVAdYB1wHYAdkB2gHbAdwB3QHeAd8B4AHhAeIB4wHkAeUB5gHnAegB6QHqAesB7AHtAe4B7wHwAfEB8gHzAQ==",
          "dtype": "i2"
         },
         "y": {
          "bdata": "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",
          "dtype": "f8"
         }
        },
        {
         "line": {
          "dash": "dot",
          "width": 1.5
         },
         "mode": "lines",
         "name": "Regressor 1",
         "type": "scatter",
         "x": {
          "bdata": "AAABAAIAAwAEAAUABgAHAAgACQAKAAsADAANAA4ADwAQABEAEgATABQAFQAWABcAGAAZABoAGwAcAB0AHgAfACAAIQAiACMAJAAlACYAJwAoACkAKgArACwALQAuAC8AMAAxADIAMwA0ADUANgA3ADgAOQA6ADsAPAA9AD4APwBAAEEAQgBDAEQARQBGAEcASABJAEoASwBMAE0ATgBPAFAAUQBSAFMAVABVAFYAVwBYAFkAWgBbAFwAXQBeAF8AYABhAGIAYwBkAGUAZgBnAGgAaQBqAGsAbABtAG4AbwBwAHEAcgBzAHQAdQB2AHcAeAB5AHoAewB8AH0AfgB/AIAAgQCCAIMAhACFAIYAhwCIAIkAigCLAIwAjQCOAI8AkACRAJIAkwCUAJUAlgCXAJgAmQCaAJsAnACdAJ4AnwCgAKEAogCjAKQApQCmAKcAqACpAKoAqwCsAK0ArgCvALAAsQCyALMAtAC1ALYAtwC4ALkAugC7ALwAvQC+AL8AwADBAMIAwwDEAMUAxgDHAMgAyQDKAMsAzADNAM4AzwDQANEA0gDTANQA1QDWANcA2ADZANoA2wDcAN0A3gDfAOAA4QDiAOMA5ADlAOYA5wDoAOkA6gDrAOwA7QDuAO8A8ADxAPIA8wD0APUA9gD3APgA+QD6APsA/AD9AP4A/wAAAQEBAgEDAQQBBQEGAQcBCAEJAQoBCwEMAQ0BDgEPARABEQESARMBFAEVARYBFwEYARkBGgEbARwBHQEeAR8BIAEhASIBIwEkASUBJgEnASgBKQEqASsBLAEtAS4BLwEwATEBMgEzATQBNQE2ATcBOAE5AToBOwE8AT0BPgE/AUABQQFCAUMBRAFFAUYBRwFIAUkBSgFLAUwBTQFOAU8BUAFRAVIBUwFUAVUBVgFXAVgBWQFaAVsBXAFdAV4BXwFgAWEBYgFjAWQBZQFmAWcBaAFpAWoBawFsAW0BbgFvAXABcQFyAXMBdAF1AXYBdwF4AXkBegF7AXwBfQF+AX8BgAGBAYIBgwGEAYUBhgGHAYgBiQGKAYsBjAGNAY4BjwGQAZEBkgGTAZQBlQGWAZcBmAGZAZoBmwGcAZ0BngGfAaABoQGiAaMBpAGlAaYBpwGoAakBqgGrAawBrQGuAa8BsAGxAbIBswG0AbUBtgG3AbgBuQG6AbsBvAG9Ab4BvwHAAcEBwgHDAcQBxQHGAccByAHJAcoBywHMAc0BzgHPAdAB0QHSAdMB1AHVAdYB1wHYAdkB2gHbAdwB3QHeAd8B4AHhAeIB4wHkAeUB5gHnAegB6QHqAesB7AHtAe4B7wHwAfEB8gHzAQ==",
          "dtype": "i2"
         },
         "y": {
          "bdata": "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",
          "dtype": "f8"
         }
        },
        {
         "line": {
          "dash": "dot",
          "width": 1.5
         },
         "mode": "lines",
         "name": "Regressor 2",
         "type": "scatter",
         "x": {
          "bdata": "AAABAAIAAwAEAAUABgAHAAgACQAKAAsADAANAA4ADwAQABEAEgATABQAFQAWABcAGAAZABoAGwAcAB0AHgAfACAAIQAiACMAJAAlACYAJwAoACkAKgArACwALQAuAC8AMAAxADIAMwA0ADUANgA3ADgAOQA6ADsAPAA9AD4APwBAAEEAQgBDAEQARQBGAEcASABJAEoASwBMAE0ATgBPAFAAUQBSAFMAVABVAFYAVwBYAFkAWgBbAFwAXQBeAF8AYABhAGIAYwBkAGUAZgBnAGgAaQBqAGsAbABtAG4AbwBwAHEAcgBzAHQAdQB2AHcAeAB5AHoAewB8AH0AfgB/AIAAgQCCAIMAhACFAIYAhwCIAIkAigCLAIwAjQCOAI8AkACRAJIAkwCUAJUAlgCXAJgAmQCaAJsAnACdAJ4AnwCgAKEAogCjAKQApQCmAKcAqACpAKoAqwCsAK0ArgCvALAAsQCyALMAtAC1ALYAtwC4ALkAugC7ALwAvQC+AL8AwADBAMIAwwDEAMUAxgDHAMgAyQDKAMsAzADNAM4AzwDQANEA0gDTANQA1QDWANcA2ADZANoA2wDcAN0A3gDfAOAA4QDiAOMA5ADlAOYA5wDoAOkA6gDrAOwA7QDuAO8A8ADxAPIA8wD0APUA9gD3APgA+QD6APsA/AD9AP4A/wAAAQEBAgEDAQQBBQEGAQcBCAEJAQoBCwEMAQ0BDgEPARABEQESARMBFAEVARYBFwEYARkBGgEbARwBHQEeAR8BIAEhASIBIwEkASUBJgEnASgBKQEqASsBLAEtAS4BLwEwATEBMgEzATQBNQE2ATcBOAE5AToBOwE8AT0BPgE/AUABQQFCAUMBRAFFAUYBRwFIAUkBSgFLAUwBTQFOAU8BUAFRAVIBUwFUAVUBVgFXAVgBWQFaAVsBXAFdAV4BXwFgAWEBYgFjAWQBZQFmAWcBaAFpAWoBawFsAW0BbgFvAXABcQFyAXMBdAF1AXYBdwF4AXkBegF7AXwBfQF+AX8BgAGBAYIBgwGEAYUBhgGHAYgBiQGKAYsBjAGNAY4BjwGQAZEBkgGTAZQBlQGWAZcBmAGZAZoBmwGcAZ0BngGfAaABoQGiAaMBpAGlAaYBpwGoAakBqgGrAawBrQGuAa8BsAGxAbIBswG0AbUBtgG3AbgBuQG6AbsBvAG9Ab4BvwHAAcEBwgHDAcQBxQHGAccByAHJAcoBywHMAc0BzgHPAdAB0QHSAdMB1AHVAdYB1wHYAdkB2gHbAdwB3QHeAd8B4AHhAeIB4wHkAeUB5gHnAegB6QHqAesB7AHtAe4B7wHwAfEB8gHzAQ==",
          "dtype": "i2"
         },
         "y": {
          "bdata": "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",
          "dtype": "f8"
         }
        }
       ],
       "layout": {
        "height": 550,
        "legend": {
         "x": 1.05,
         "y": 1
        },
        "template": {
         "data": {
          "bar": [
           {
            "error_x": {
             "color": "#2a3f5f"
            },
            "error_y": {
             "color": "#2a3f5f"
            },
            "marker": {
             "line": {
              "color": "white",
              "width": 0.5
             },
             "pattern": {
              "fillmode": "overlay",
              "size": 10,
              "solidity": 0.2
             }
            },
            "type": "bar"
           }
          ],
          "barpolar": [
           {
            "marker": {
             "line": {
              "color": "white",
              "width": 0.5
             },
             "pattern": {
              "fillmode": "overlay",
              "size": 10,
              "solidity": 0.2
             }
            },
            "type": "barpolar"
           }
          ],
          "carpet": [
           {
            "aaxis": {
             "endlinecolor": "#2a3f5f",
             "gridcolor": "#C8D4E3",
             "linecolor": "#C8D4E3",
             "minorgridcolor": "#C8D4E3",
             "startlinecolor": "#2a3f5f"
            },
            "baxis": {
             "endlinecolor": "#2a3f5f",
             "gridcolor": "#C8D4E3",
             "linecolor": "#C8D4E3",
             "minorgridcolor": "#C8D4E3",
             "startlinecolor": "#2a3f5f"
            },
            "type": "carpet"
           }
          ],
          "choropleth": [
           {
            "colorbar": {
             "outlinewidth": 0,
             "ticks": ""
            },
            "type": "choropleth"
           }
          ],
          "contour": [
           {
            "colorbar": {
             "outlinewidth": 0,
             "ticks": ""
            },
            "colorscale": [
             [
              0,
              "#0d0887"
             ],
             [
              0.1111111111111111,
              "#46039f"
             ],
             [
              0.2222222222222222,
              "#7201a8"
             ],
             [
              0.3333333333333333,
              "#9c179e"
             ],
             [
              0.4444444444444444,
              "#bd3786"
             ],
             [
              0.5555555555555556,
              "#d8576b"
             ],
             [
              0.6666666666666666,
              "#ed7953"
             ],
             [
              0.7777777777777778,
              "#fb9f3a"
             ],
             [
              0.8888888888888888,
              "#fdca26"
             ],
             [
              1,
              "#f0f921"
             ]
            ],
            "type": "contour"
           }
          ],
          "contourcarpet": [
           {
            "colorbar": {
             "outlinewidth": 0,
             "ticks": ""
            },
            "type": "contourcarpet"
           }
          ],
          "heatmap": [
           {
            "colorbar": {
             "outlinewidth": 0,
             "ticks": ""
            },
            "colorscale": [
             [
              0,
              "#0d0887"
             ],
             [
              0.1111111111111111,
              "#46039f"
             ],
             [
              0.2222222222222222,
              "#7201a8"
             ],
             [
              0.3333333333333333,
              "#9c179e"
             ],
             [
              0.4444444444444444,
              "#bd3786"
             ],
             [
              0.5555555555555556,
              "#d8576b"
             ],
             [
              0.6666666666666666,
              "#ed7953"
             ],
             [
              0.7777777777777778,
              "#fb9f3a"
             ],
             [
              0.8888888888888888,
              "#fdca26"
             ],
             [
              1,
              "#f0f921"
             ]
            ],
            "type": "heatmap"
           }
          ],
          "histogram": [
           {
            "marker": {
             "pattern": {
              "fillmode": "overlay",
              "size": 10,
              "solidity": 0.2
             }
            },
            "type": "histogram"
           }
          ],
          "histogram2d": [
           {
            "colorbar": {
             "outlinewidth": 0,
             "ticks": ""
            },
            "colorscale": [
             [
              0,
              "#0d0887"
             ],
             [
              0.1111111111111111,
              "#46039f"
             ],
             [
              0.2222222222222222,
              "#7201a8"
             ],
             [
              0.3333333333333333,
              "#9c179e"
             ],
             [
              0.4444444444444444,
              "#bd3786"
             ],
             [
              0.5555555555555556,
              "#d8576b"
             ],
             [
              0.6666666666666666,
              "#ed7953"
             ],
             [
              0.7777777777777778,
              "#fb9f3a"
             ],
             [
              0.8888888888888888,
              "#fdca26"
             ],
             [
              1,
              "#f0f921"
             ]
            ],
            "type": "histogram2d"
           }
          ],
          "histogram2dcontour": [
           {
            "colorbar": {
             "outlinewidth": 0,
             "ticks": ""
            },
            "colorscale": [
             [
              0,
              "#0d0887"
             ],
             [
              0.1111111111111111,
              "#46039f"
             ],
             [
              0.2222222222222222,
              "#7201a8"
             ],
             [
              0.3333333333333333,
              "#9c179e"
             ],
             [
              0.4444444444444444,
              "#bd3786"
             ],
             [
              0.5555555555555556,
              "#d8576b"
             ],
             [
              0.6666666666666666,
              "#ed7953"
             ],
             [
              0.7777777777777778,
              "#fb9f3a"
             ],
             [
              0.8888888888888888,
              "#fdca26"
             ],
             [
              1,
              "#f0f921"
             ]
            ],
            "type": "histogram2dcontour"
           }
          ],
          "mesh3d": [
           {
            "colorbar": {
             "outlinewidth": 0,
             "ticks": ""
            },
            "type": "mesh3d"
           }
          ],
          "parcoords": [
           {
            "line": {
             "colorbar": {
              "outlinewidth": 0,
              "ticks": ""
             }
            },
            "type": "parcoords"
           }
          ],
          "pie": [
           {
            "automargin": true,
            "type": "pie"
           }
          ],
          "scatter": [
           {
            "fillpattern": {
             "fillmode": "overlay",
             "size": 10,
             "solidity": 0.2
            },
            "type": "scatter"
           }
          ],
          "scatter3d": [
           {
            "line": {
             "colorbar": {
              "outlinewidth": 0,
              "ticks": ""
             }
            },
            "marker": {
             "colorbar": {
              "outlinewidth": 0,
              "ticks": ""
             }
            },
            "type": "scatter3d"
           }
          ],
          "scattercarpet": [
           {
            "marker": {
             "colorbar": {
              "outlinewidth": 0,
              "ticks": ""
             }
            },
            "type": "scattercarpet"
           }
          ],
          "scattergeo": [
           {
            "marker": {
             "colorbar": {
              "outlinewidth": 0,
              "ticks": ""
             }
            },
            "type": "scattergeo"
           }
          ],
          "scattergl": [
           {
            "marker": {
             "colorbar": {
              "outlinewidth": 0,
              "ticks": ""
             }
            },
            "type": "scattergl"
           }
          ],
          "scattermap": [
           {
            "marker": {
             "colorbar": {
              "outlinewidth": 0,
              "ticks": ""
             }
            },
            "type": "scattermap"
           }
          ],
          "scattermapbox": [
           {
            "marker": {
             "colorbar": {
              "outlinewidth": 0,
              "ticks": ""
             }
            },
            "type": "scattermapbox"
           }
          ],
          "scatterpolar": [
           {
            "marker": {
             "colorbar": {
              "outlinewidth": 0,
              "ticks": ""
             }
            },
            "type": "scatterpolar"
           }
          ],
          "scatterpolargl": [
           {
            "marker": {
             "colorbar": {
              "outlinewidth": 0,
              "ticks": ""
             }
            },
            "type": "scatterpolargl"
           }
          ],
          "scatterternary": [
           {
            "marker": {
             "colorbar": {
              "outlinewidth": 0,
              "ticks": ""
             }
            },
            "type": "scatterternary"
           }
          ],
          "surface": [
           {
            "colorbar": {
             "outlinewidth": 0,
             "ticks": ""
            },
            "colorscale": [
             [
              0,
              "#0d0887"
             ],
             [
              0.1111111111111111,
              "#46039f"
             ],
             [
              0.2222222222222222,
              "#7201a8"
             ],
             [
              0.3333333333333333,
              "#9c179e"
             ],
             [
              0.4444444444444444,
              "#bd3786"
             ],
             [
              0.5555555555555556,
              "#d8576b"
             ],
             [
              0.6666666666666666,
              "#ed7953"
             ],
             [
              0.7777777777777778,
              "#fb9f3a"
             ],
             [
              0.8888888888888888,
              "#fdca26"
             ],
             [
              1,
              "#f0f921"
             ]
            ],
            "type": "surface"
           }
          ],
          "table": [
           {
            "cells": {
             "fill": {
              "color": "#EBF0F8"
             },
             "line": {
              "color": "white"
             }
            },
            "header": {
             "fill": {
              "color": "#C8D4E3"
             },
             "line": {
              "color": "white"
             }
            },
            "type": "table"
           }
          ]
         },
         "layout": {
          "annotationdefaults": {
           "arrowcolor": "#2a3f5f",
           "arrowhead": 0,
           "arrowwidth": 1
          },
          "autotypenumbers": "strict",
          "coloraxis": {
           "colorbar": {
            "outlinewidth": 0,
            "ticks": ""
           }
          },
          "colorscale": {
           "diverging": [
            [
             0,
             "#8e0152"
            ],
            [
             0.1,
             "#c51b7d"
            ],
            [
             0.2,
             "#de77ae"
            ],
            [
             0.3,
             "#f1b6da"
            ],
            [
             0.4,
             "#fde0ef"
            ],
            [
             0.5,
             "#f7f7f7"
            ],
            [
             0.6,
             "#e6f5d0"
            ],
            [
             0.7,
             "#b8e186"
            ],
            [
             0.8,
             "#7fbc41"
            ],
            [
             0.9,
             "#4d9221"
            ],
            [
             1,
             "#276419"
            ]
           ],
           "sequential": [
            [
             0,
             "#0d0887"
            ],
            [
             0.1111111111111111,
             "#46039f"
            ],
            [
             0.2222222222222222,
             "#7201a8"
            ],
            [
             0.3333333333333333,
             "#9c179e"
            ],
            [
             0.4444444444444444,
             "#bd3786"
            ],
            [
             0.5555555555555556,
             "#d8576b"
            ],
            [
             0.6666666666666666,
             "#ed7953"
            ],
            [
             0.7777777777777778,
             "#fb9f3a"
            ],
            [
             0.8888888888888888,
             "#fdca26"
            ],
            [
             1,
             "#f0f921"
            ]
           ],
           "sequentialminus": [
            [
             0,
             "#0d0887"
            ],
            [
             0.1111111111111111,
             "#46039f"
            ],
            [
             0.2222222222222222,
             "#7201a8"
            ],
            [
             0.3333333333333333,
             "#9c179e"
            ],
            [
             0.4444444444444444,
             "#bd3786"
            ],
            [
             0.5555555555555556,
             "#d8576b"
            ],
            [
             0.6666666666666666,
             "#ed7953"
            ],
            [
             0.7777777777777778,
             "#fb9f3a"
            ],
            [
             0.8888888888888888,
             "#fdca26"
            ],
            [
             1,
             "#f0f921"
            ]
           ]
          },
          "colorway": [
           "#636efa",
           "#EF553B",
           "#00cc96",
           "#ab63fa",
           "#FFA15A",
           "#19d3f3",
           "#FF6692",
           "#B6E880",
           "#FF97FF",
           "#FECB52"
          ],
          "font": {
           "color": "#2a3f5f"
          },
          "geo": {
           "bgcolor": "white",
           "lakecolor": "white",
           "landcolor": "white",
           "showlakes": true,
           "showland": true,
           "subunitcolor": "#C8D4E3"
          },
          "hoverlabel": {
           "align": "left"
          },
          "hovermode": "closest",
          "mapbox": {
           "style": "light"
          },
          "paper_bgcolor": "white",
          "plot_bgcolor": "white",
          "polar": {
           "angularaxis": {
            "gridcolor": "#EBF0F8",
            "linecolor": "#EBF0F8",
            "ticks": ""
           },
           "bgcolor": "white",
           "radialaxis": {
            "gridcolor": "#EBF0F8",
            "linecolor": "#EBF0F8",
            "ticks": ""
           }
          },
          "scene": {
           "xaxis": {
            "backgroundcolor": "white",
            "gridcolor": "#DFE8F3",
            "gridwidth": 2,
            "linecolor": "#EBF0F8",
            "showbackground": true,
            "ticks": "",
            "zerolinecolor": "#EBF0F8"
           },
           "yaxis": {
            "backgroundcolor": "white",
            "gridcolor": "#DFE8F3",
            "gridwidth": 2,
            "linecolor": "#EBF0F8",
            "showbackground": true,
            "ticks": "",
            "zerolinecolor": "#EBF0F8"
           },
           "zaxis": {
            "backgroundcolor": "white",
            "gridcolor": "#DFE8F3",
            "gridwidth": 2,
            "linecolor": "#EBF0F8",
            "showbackground": true,
            "ticks": "",
            "zerolinecolor": "#EBF0F8"
           }
          },
          "shapedefaults": {
           "line": {
            "color": "#2a3f5f"
           }
          },
          "ternary": {
           "aaxis": {
            "gridcolor": "#DFE8F3",
            "linecolor": "#A2B1C6",
            "ticks": ""
           },
           "baxis": {
            "gridcolor": "#DFE8F3",
            "linecolor": "#A2B1C6",
            "ticks": ""
           },
           "bgcolor": "white",
           "caxis": {
            "gridcolor": "#DFE8F3",
            "linecolor": "#A2B1C6",
            "ticks": ""
           }
          },
          "title": {
           "x": 0.05
          },
          "xaxis": {
           "automargin": true,
           "gridcolor": "#EBF0F8",
           "linecolor": "#EBF0F8",
           "ticks": "",
           "title": {
            "standoff": 15
           },
           "zerolinecolor": "#EBF0F8",
           "zerolinewidth": 2
          },
          "yaxis": {
           "automargin": true,
           "gridcolor": "#EBF0F8",
           "linecolor": "#EBF0F8",
           "ticks": "",
           "title": {
            "standoff": 15
           },
           "zerolinecolor": "#EBF0F8",
           "zerolinewidth": 2
          }
         }
        },
        "title": {
         "text": "Explicit GAS Univariate Simulation"
        },
        "width": 950,
        "xaxis": {
         "title": {
          "text": "Time"
         }
        },
        "yaxis": {
         "title": {
          "text": "Value"
         }
        }
       }
      }
     },
     "metadata": {},
     "output_type": "display_data"
    }
   ],
   "source": [
    "time_axis = np.arange(T)\n",
    "\n",
    "fig = go.Figure()\n",
    "\n",
    "# Explicitly plot simulated observations\n",
    "fig.add_trace(go.Scatter(\n",
    "    x=time_axis, y=y_sim, mode='lines',\n",
    "    name='Simulated Observations (y)', line=dict(width=1.5)\n",
    "))\n",
    "\n",
    "# Explicitly plot latent state\n",
    "fig.add_trace(go.Scatter(\n",
    "    x=time_axis, y=mu_sim, mode='lines',\n",
    "    name='Latent State (μ)', line=dict(width=2, dash='dash')\n",
    "))\n",
    "\n",
    "for i in range(X_sim.shape[1]):\n",
    "    fig.add_trace(go.Scatter(\n",
    "        x=time_axis, y=X_sim[:, i], mode='lines',\n",
    "        name=f'Regressor {i+1}', line=dict(width=1.5, dash='dot')\n",
    "    ))\n",
    "\n",
    "fig.update_layout(\n",
    "    title='Explicit GAS Univariate Simulation',\n",
    "    xaxis_title='Time',\n",
    "    yaxis_title='Value',\n",
    "    legend=dict(x=1.05, y=1),\n",
    "    template='plotly_white',\n",
    "    width=950,\n",
    "    height=550\n",
    ")\n",
    "\n",
    "fig.show()"
   ]
  },
  {
   "cell_type": "markdown",
   "id": "28916b8d",
   "metadata": {},
   "source": [
    "# Multivariate Linear State Space Model"
   ]
  },
  {
   "cell_type": "code",
   "execution_count": 11,
   "id": "178e25b2",
   "metadata": {},
   "outputs": [],
   "source": [
    "def simulate_multivariate_state_space(T, N, c, Phi, Q, R, beta = None, seed = None):\n",
    "    \"\"\"\n",
    "    Simulate a multivariate linear Gaussian state-space model explicitly, optionally with regressors.\n",
    "\n",
    "    Observation equation:\n",
    "        y_t = mu_t + X_t @ beta + epsilon_t, epsilon_t ~ N(0, R)\n",
    "\n",
    "    State equation:\n",
    "        mu_{t+1} = c + Phi @ mu_t + eta_t, eta_t ~ N(0, Q)\n",
    "\n",
    "    Parameters:\n",
    "    -----------\n",
    "    T : int\n",
    "        Number of observations explicitly.\n",
    "    N : int\n",
    "        Dimension of the response vector explicitly.\n",
    "    c : ndarray (N,)\n",
    "        State intercept explicitly.\n",
    "    Phi : ndarray (N, N)\n",
    "        State transition matrix explicitly.\n",
    "    Q : ndarray (N, N)\n",
    "        State noise covariance explicitly.\n",
    "    R : ndarray (N, N)\n",
    "        Observation noise covariance explicitly.\n",
    "    beta : ndarray (K, N) or None, optional\n",
    "        Regression coefficient matrix explicitly. If None, explicitly no regressors.\n",
    "    seed : int or None, optional\n",
    "        Random seed explicitly for reproducibility.\n",
    "\n",
    "    Returns:\n",
    "    --------\n",
    "    y : ndarray (T, N)\n",
    "        Simulated multivariate observations explicitly.\n",
    "    mu : ndarray (T, N)\n",
    "        Simulated latent states explicitly.\n",
    "    X : ndarray (T, K) or None\n",
    "        Simulated regressors explicitly if provided; otherwise, None explicitly.\n",
    "    \"\"\"    \"\"\"\n",
    "    Simulate a multivariate linear Gaussian state-space model explicitly, optionally with regressors.\n",
    "\n",
    "    Parameters:\n",
    "    -----------\n",
    "    T : int\n",
    "        Number of observations explicitly.\n",
    "    N : int\n",
    "        Dimension of the response vector explicitly.\n",
    "    c : ndarray (N,)\n",
    "        State intercept explicitly.\n",
    "    Phi : ndarray (N, N)\n",
    "        State transition matrix explicitly.\n",
    "    Q : ndarray (N, N)\n",
    "        State noise covariance explicitly.\n",
    "    R : ndarray (N, N)\n",
    "        Observation noise covariance explicitly.\n",
    "    beta : ndarray (K, N) or None, optional\n",
    "        Regression coefficient matrix explicitly. If None, explicitly no regressors.\n",
    "    seed : int or None, optional\n",
    "        Random seed explicitly for reproducibility.\n",
    "\n",
    "    Returns:\n",
    "    --------\n",
    "    y : ndarray (T, N)\n",
    "        Simulated multivariate observations explicitly.\n",
    "    mu : ndarray (T, N)\n",
    "        Simulated latent states explicitly.\n",
    "    X : ndarray (T, K) or None\n",
    "        Simulated regressors explicitly if provided; otherwise, None explicitly.\n",
    "    \"\"\"\n",
    "\n",
    "    if seed is not None:\n",
    "        np.random.seed(seed)\n",
    "    \n",
    "    # Validate dimensions\n",
    "    c = np.asarray(c).reshape(N, )\n",
    "    Phi = np.asarray(Phi).reshape(N, N)\n",
    "    Q = np.asarray(Q).reshape(N, N)\n",
    "    R = np.asarray(R).reshape(N, N)\n",
    "\n",
    "    # Check if regressors\n",
    "    if beta is not None:\n",
    "        beta = np.asarray(beta)\n",
    "        K = beta.shape[0]\n",
    "        X = np.random.normal(size=(T, K))\n",
    "    else:\n",
    "        K = 0\n",
    "        X = None\n",
    "    \n",
    "    mu = np.zeros((T, N))\n",
    "    y = np.zeros((T, N))\n",
    "\n",
    "    # Initial state\n",
    "    mu[0] = np.linalg.solve(np.eye(N) - Phi, c)\n",
    "\n",
    "    for i in range(T):\n",
    "        # Observation Equation\n",
    "        if beta is not None:\n",
    "            y[i] = mu[i] + X[i] @ beta + np.random.multivariate_normal(mean = np.zeros(N), cov = R)\n",
    "        else:\n",
    "            y[i] = mu[i] + np.random.multivariate_normal(mean = np.zeros(N), cov = R)\n",
    "        \n",
    "        # State Equation\n",
    "        if i < T - 1:\n",
    "            mu[i + 1] = c + Phi @ mu[i] + np.random.multivariate_normal(mean = np.zeros(N), cov = Q)\n",
    "\n",
    "    return y, mu, X"
   ]
  },
  {
   "cell_type": "code",
   "execution_count": 24,
   "id": "137f4026",
   "metadata": {},
   "outputs": [],
   "source": [
    "def simulate_multivariate_state_space(T, N, c, Phi, Q, R, beta=None, seed=None, use_intercept=True):\n",
    "    \"\"\"\n",
    "    Simulate a multivariate linear Gaussian state-space model with optional intercept.\n",
    "\n",
    "    Observation equation:\n",
    "        y_t = mu_t + X_t @ beta + epsilon_t, epsilon_t ~ N(0, R)\n",
    "\n",
    "    State equation:\n",
    "        mu_{t+1} = c + Phi @ mu_t + eta_t, eta_t ~ N(0, Q)\n",
    "\n",
    "    Parameters:\n",
    "    -----------\n",
    "    T : int\n",
    "        Number of observations.\n",
    "    N : int\n",
    "        Dimension of the response vector.\n",
    "    c : ndarray (N,)\n",
    "        State intercept.\n",
    "    Phi : ndarray (N, N)\n",
    "        State transition matrix.\n",
    "    Q : ndarray (N, N)\n",
    "        State noise covariance.\n",
    "    R : ndarray (N, N)\n",
    "        Observation noise covariance.\n",
    "    beta : ndarray (K, N) or None\n",
    "        Regression coefficient matrix. If use_intercept=True, first row is intercept.\n",
    "    seed : int or None\n",
    "        Random seed for reproducibility.\n",
    "    use_intercept : bool\n",
    "        Whether to include a column of 1s for intercept in regressors.\n",
    "\n",
    "    Returns:\n",
    "    --------\n",
    "    y : ndarray (T, N)\n",
    "        Simulated multivariate observations.\n",
    "    mu : ndarray (T, N)\n",
    "        Simulated latent states.\n",
    "    X : ndarray (T, K)\n",
    "        Simulated regressors, with intercept column if specified.\n",
    "    \"\"\"\n",
    "    if seed is not None:\n",
    "        np.random.seed(seed)\n",
    "    \n",
    "    Phi = np.asarray(Phi).reshape(N, N)\n",
    "    Q = np.asarray(Q).reshape(N, N)\n",
    "    R = np.asarray(R).reshape(N, N)\n",
    "\n",
    "    if beta is not None:\n",
    "        beta = np.asarray(beta)\n",
    "        K = beta.shape[0]\n",
    "        if use_intercept:\n",
    "            K_eff = K - 1\n",
    "            X_raw = np.random.normal(size=(T, K_eff))\n",
    "            X = np.ones((T, K))\n",
    "            X[:, 1:] = X_raw\n",
    "        else:\n",
    "            X = np.random.normal(size=(T, K))\n",
    "    else:\n",
    "        X = None\n",
    "\n",
    "    mu = np.zeros((T, N))\n",
    "    y = np.zeros((T, N))\n",
    "\n",
    "    mu[0] = np.linalg.solve(np.eye(N) - Phi, c)\n",
    "\n",
    "    for t in range(T):\n",
    "        if beta is not None:\n",
    "            y[t] = mu[t] + X[t] @ beta + np.random.multivariate_normal(np.zeros(N), R)\n",
    "        else:\n",
    "            y[t] = mu[t] + np.random.multivariate_normal(np.zeros(N), R)\n",
    "\n",
    "        if t < T - 1:\n",
    "            mu[t + 1] = c + Phi @ mu[t] + np.random.multivariate_normal(np.zeros(N), Q)\n",
    "\n",
    "    return y, mu, X"
   ]
  },
  {
   "cell_type": "code",
   "execution_count": 25,
   "id": "135a4e48",
   "metadata": {},
   "outputs": [
    {
     "name": "stdout",
     "output_type": "stream",
     "text": [
      "✅ Multivariate State-Space Simulation without regressors explicitly completed.\n"
     ]
    }
   ],
   "source": [
    "# Explicit parameters without regressors\n",
    "T = 500\n",
    "N = 2\n",
    "c_true = np.array([0.2, -0.1])\n",
    "Phi_true = np.array([[0.8, 0.1],\n",
    "                     [0.05, 0.85]])\n",
    "Q_true = np.array([[1.0, 0.2],\n",
    "                   [0.2, 0.8]])\n",
    "R_true = np.array([[0.5, 0.1],\n",
    "                   [0.1, 0.3]])\n",
    "\n",
    "# Run explicit simulation without regressors\n",
    "y_sim, mu_sim, _ = simulate_multivariate_state_space(\n",
    "    T=T,\n",
    "    N=N,\n",
    "    c=c_true,\n",
    "    Phi=Phi_true,\n",
    "    Q=Q_true,\n",
    "    R=R_true,\n",
    "    beta=None,  # Explicitly no regressors\n",
    "    seed=8888\n",
    ")\n",
    "\n",
    "print(\"✅ Multivariate State-Space Simulation without regressors explicitly completed.\")\n"
   ]
  },
  {
   "cell_type": "code",
   "execution_count": 26,
   "id": "9372336e",
   "metadata": {},
   "outputs": [
    {
     "data": {
      "application/vnd.plotly.v1+json": {
       "config": {
        "plotlyServerURL": "https://plot.ly"
       },
       "data": [
        {
         "line": {
          "width": 1.5
         },
         "mode": "lines",
         "name": "Observation y[1]",
         "opacity": 0.7,
         "type": "scatter",
         "x": {
          "bdata": "AAABAAIAAwAEAAUABgAHAAgACQAKAAsADAANAA4ADwAQABEAEgATABQAFQAWABcAGAAZABoAGwAcAB0AHgAfACAAIQAiACMAJAAlACYAJwAoACkAKgArACwALQAuAC8AMAAxADIAMwA0ADUANgA3ADgAOQA6ADsAPAA9AD4APwBAAEEAQgBDAEQARQBGAEcASABJAEoASwBMAE0ATgBPAFAAUQBSAFMAVABVAFYAVwBYAFkAWgBbAFwAXQBeAF8AYABhAGIAYwBkAGUAZgBnAGgAaQBqAGsAbABtAG4AbwBwAHEAcgBzAHQAdQB2AHcAeAB5AHoAewB8AH0AfgB/AIAAgQCCAIMAhACFAIYAhwCIAIkAigCLAIwAjQCOAI8AkACRAJIAkwCUAJUAlgCXAJgAmQCaAJsAnACdAJ4AnwCgAKEAogCjAKQApQCmAKcAqACpAKoAqwCsAK0ArgCvALAAsQCyALMAtAC1ALYAtwC4ALkAugC7ALwAvQC+AL8AwADBAMIAwwDEAMUAxgDHAMgAyQDKAMsAzADNAM4AzwDQANEA0gDTANQA1QDWANcA2ADZANoA2wDcAN0A3gDfAOAA4QDiAOMA5ADlAOYA5wDoAOkA6gDrAOwA7QDuAO8A8ADxAPIA8wD0APUA9gD3APgA+QD6APsA/AD9AP4A/wAAAQEBAgEDAQQBBQEGAQcBCAEJAQoBCwEMAQ0BDgEPARABEQESARMBFAEVARYBFwEYARkBGgEbARwBHQEeAR8BIAEhASIBIwEkASUBJgEnASgBKQEqASsBLAEtAS4BLwEwATEBMgEzATQBNQE2ATcBOAE5AToBOwE8AT0BPgE/AUABQQFCAUMBRAFFAUYBRwFIAUkBSgFLAUwBTQFOAU8BUAFRAVIBUwFUAVUBVgFXAVgBWQFaAVsBXAFdAV4BXwFgAWEBYgFjAWQBZQFmAWcBaAFpAWoBawFsAW0BbgFvAXABcQFyAXMBdAF1AXYBdwF4AXkBegF7AXwBfQF+AX8BgAGBAYIBgwGEAYUBhgGHAYgBiQGKAYsBjAGNAY4BjwGQAZEBkgGTAZQBlQGWAZcBmAGZAZoBmwGcAZ0BngGfAaABoQGiAaMBpAGlAaYBpwGoAakBqgGrAawBrQGuAa8BsAGxAbIBswG0AbUBtgG3AbgBuQG6AbsBvAG9Ab4BvwHAAcEBwgHDAcQBxQHGAccByAHJAcoBywHMAc0BzgHPAdAB0QHSAdMB1AHVAdYB1wHYAdkB2gHbAdwB3QHeAd8B4AHhAeIB4wHkAeUB5gHnAegB6QHqAesB7AHtAe4B7wHwAfEB8gHzAQ==",
          "dtype": "i2"
         },
         "xaxis": "x",
         "y": {
          "bdata": "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",
          "dtype": "f8"
         },
         "yaxis": "y"
        },
        {
         "line": {
          "dash": "dash",
          "width": 2
         },
         "mode": "lines",
         "name": "Latent state μ[1]",
         "type": "scatter",
         "x": {
          "bdata": "AAABAAIAAwAEAAUABgAHAAgACQAKAAsADAANAA4ADwAQABEAEgATABQAFQAWABcAGAAZABoAGwAcAB0AHgAfACAAIQAiACMAJAAlACYAJwAoACkAKgArACwALQAuAC8AMAAxADIAMwA0ADUANgA3ADgAOQA6ADsAPAA9AD4APwBAAEEAQgBDAEQARQBGAEcASABJAEoASwBMAE0ATgBPAFAAUQBSAFMAVABVAFYAVwBYAFkAWgBbAFwAXQBeAF8AYABhAGIAYwBkAGUAZgBnAGgAaQBqAGsAbABtAG4AbwBwAHEAcgBzAHQAdQB2AHcAeAB5AHoAewB8AH0AfgB/AIAAgQCCAIMAhACFAIYAhwCIAIkAigCLAIwAjQCOAI8AkACRAJIAkwCUAJUAlgCXAJgAmQCaAJsAnACdAJ4AnwCgAKEAogCjAKQApQCmAKcAqACpAKoAqwCsAK0ArgCvALAAsQCyALMAtAC1ALYAtwC4ALkAugC7ALwAvQC+AL8AwADBAMIAwwDEAMUAxgDHAMgAyQDKAMsAzADNAM4AzwDQANEA0gDTANQA1QDWANcA2ADZANoA2wDcAN0A3gDfAOAA4QDiAOMA5ADlAOYA5wDoAOkA6gDrAOwA7QDuAO8A8ADxAPIA8wD0APUA9gD3APgA+QD6APsA/AD9AP4A/wAAAQEBAgEDAQQBBQEGAQcBCAEJAQoBCwEMAQ0BDgEPARABEQESARMBFAEVARYBFwEYARkBGgEbARwBHQEeAR8BIAEhASIBIwEkASUBJgEnASgBKQEqASsBLAEtAS4BLwEwATEBMgEzATQBNQE2ATcBOAE5AToBOwE8AT0BPgE/AUABQQFCAUMBRAFFAUYBRwFIAUkBSgFLAUwBTQFOAU8BUAFRAVIBUwFUAVUBVgFXAVgBWQFaAVsBXAFdAV4BXwFgAWEBYgFjAWQBZQFmAWcBaAFpAWoBawFsAW0BbgFvAXABcQFyAXMBdAF1AXYBdwF4AXkBegF7AXwBfQF+AX8BgAGBAYIBgwGEAYUBhgGHAYgBiQGKAYsBjAGNAY4BjwGQAZEBkgGTAZQBlQGWAZcBmAGZAZoBmwGcAZ0BngGfAaABoQGiAaMBpAGlAaYBpwGoAakBqgGrAawBrQGuAa8BsAGxAbIBswG0AbUBtgG3AbgBuQG6AbsBvAG9Ab4BvwHAAcEBwgHDAcQBxQHGAccByAHJAcoBywHMAc0BzgHPAdAB0QHSAdMB1AHVAdYB1wHYAdkB2gHbAdwB3QHeAd8B4AHhAeIB4wHkAeUB5gHnAegB6QHqAesB7AHtAe4B7wHwAfEB8gHzAQ==",
          "dtype": "i2"
         },
         "xaxis": "x",
         "y": {
          "bdata": "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",
          "dtype": "f8"
         },
         "yaxis": "y"
        },
        {
         "line": {
          "width": 1.5
         },
         "mode": "lines",
         "name": "Observation y[2]",
         "opacity": 0.7,
         "type": "scatter",
         "x": {
          "bdata": "AAABAAIAAwAEAAUABgAHAAgACQAKAAsADAANAA4ADwAQABEAEgATABQAFQAWABcAGAAZABoAGwAcAB0AHgAfACAAIQAiACMAJAAlACYAJwAoACkAKgArACwALQAuAC8AMAAxADIAMwA0ADUANgA3ADgAOQA6ADsAPAA9AD4APwBAAEEAQgBDAEQARQBGAEcASABJAEoASwBMAE0ATgBPAFAAUQBSAFMAVABVAFYAVwBYAFkAWgBbAFwAXQBeAF8AYABhAGIAYwBkAGUAZgBnAGgAaQBqAGsAbABtAG4AbwBwAHEAcgBzAHQAdQB2AHcAeAB5AHoAewB8AH0AfgB/AIAAgQCCAIMAhACFAIYAhwCIAIkAigCLAIwAjQCOAI8AkACRAJIAkwCUAJUAlgCXAJgAmQCaAJsAnACdAJ4AnwCgAKEAogCjAKQApQCmAKcAqACpAKoAqwCsAK0ArgCvALAAsQCyALMAtAC1ALYAtwC4ALkAugC7ALwAvQC+AL8AwADBAMIAwwDEAMUAxgDHAMgAyQDKAMsAzADNAM4AzwDQANEA0gDTANQA1QDWANcA2ADZANoA2wDcAN0A3gDfAOAA4QDiAOMA5ADlAOYA5wDoAOkA6gDrAOwA7QDuAO8A8ADxAPIA8wD0APUA9gD3APgA+QD6APsA/AD9AP4A/wAAAQEBAgEDAQQBBQEGAQcBCAEJAQoBCwEMAQ0BDgEPARABEQESARMBFAEVARYBFwEYARkBGgEbARwBHQEeAR8BIAEhASIBIwEkASUBJgEnASgBKQEqASsBLAEtAS4BLwEwATEBMgEzATQBNQE2ATcBOAE5AToBOwE8AT0BPgE/AUABQQFCAUMBRAFFAUYBRwFIAUkBSgFLAUwBTQFOAU8BUAFRAVIBUwFUAVUBVgFXAVgBWQFaAVsBXAFdAV4BXwFgAWEBYgFjAWQBZQFmAWcBaAFpAWoBawFsAW0BbgFvAXABcQFyAXMBdAF1AXYBdwF4AXkBegF7AXwBfQF+AX8BgAGBAYIBgwGEAYUBhgGHAYgBiQGKAYsBjAGNAY4BjwGQAZEBkgGTAZQBlQGWAZcBmAGZAZoBmwGcAZ0BngGfAaABoQGiAaMBpAGlAaYBpwGoAakBqgGrAawBrQGuAa8BsAGxAbIBswG0AbUBtgG3AbgBuQG6AbsBvAG9Ab4BvwHAAcEBwgHDAcQBxQHGAccByAHJAcoBywHMAc0BzgHPAdAB0QHSAdMB1AHVAdYB1wHYAdkB2gHbAdwB3QHeAd8B4AHhAeIB4wHkAeUB5gHnAegB6QHqAesB7AHtAe4B7wHwAfEB8gHzAQ==",
          "dtype": "i2"
         },
         "xaxis": "x2",
         "y": {
          "bdata": "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",
          "dtype": "f8"
         },
         "yaxis": "y2"
        },
        {
         "line": {
          "dash": "dash",
          "width": 2
         },
         "mode": "lines",
         "name": "Latent state μ[2]",
         "type": "scatter",
         "x": {
          "bdata": "AAABAAIAAwAEAAUABgAHAAgACQAKAAsADAANAA4ADwAQABEAEgATABQAFQAWABcAGAAZABoAGwAcAB0AHgAfACAAIQAiACMAJAAlACYAJwAoACkAKgArACwALQAuAC8AMAAxADIAMwA0ADUANgA3ADgAOQA6ADsAPAA9AD4APwBAAEEAQgBDAEQARQBGAEcASABJAEoASwBMAE0ATgBPAFAAUQBSAFMAVABVAFYAVwBYAFkAWgBbAFwAXQBeAF8AYABhAGIAYwBkAGUAZgBnAGgAaQBqAGsAbABtAG4AbwBwAHEAcgBzAHQAdQB2AHcAeAB5AHoAewB8AH0AfgB/AIAAgQCCAIMAhACFAIYAhwCIAIkAigCLAIwAjQCOAI8AkACRAJIAkwCUAJUAlgCXAJgAmQCaAJsAnACdAJ4AnwCgAKEAogCjAKQApQCmAKcAqACpAKoAqwCsAK0ArgCvALAAsQCyALMAtAC1ALYAtwC4ALkAugC7ALwAvQC+AL8AwADBAMIAwwDEAMUAxgDHAMgAyQDKAMsAzADNAM4AzwDQANEA0gDTANQA1QDWANcA2ADZANoA2wDcAN0A3gDfAOAA4QDiAOMA5ADlAOYA5wDoAOkA6gDrAOwA7QDuAO8A8ADxAPIA8wD0APUA9gD3APgA+QD6APsA/AD9AP4A/wAAAQEBAgEDAQQBBQEGAQcBCAEJAQoBCwEMAQ0BDgEPARABEQESARMBFAEVARYBFwEYARkBGgEbARwBHQEeAR8BIAEhASIBIwEkASUBJgEnASgBKQEqASsBLAEtAS4BLwEwATEBMgEzATQBNQE2ATcBOAE5AToBOwE8AT0BPgE/AUABQQFCAUMBRAFFAUYBRwFIAUkBSgFLAUwBTQFOAU8BUAFRAVIBUwFUAVUBVgFXAVgBWQFaAVsBXAFdAV4BXwFgAWEBYgFjAWQBZQFmAWcBaAFpAWoBawFsAW0BbgFvAXABcQFyAXMBdAF1AXYBdwF4AXkBegF7AXwBfQF+AX8BgAGBAYIBgwGEAYUBhgGHAYgBiQGKAYsBjAGNAY4BjwGQAZEBkgGTAZQBlQGWAZcBmAGZAZoBmwGcAZ0BngGfAaABoQGiAaMBpAGlAaYBpwGoAakBqgGrAawBrQGuAa8BsAGxAbIBswG0AbUBtgG3AbgBuQG6AbsBvAG9Ab4BvwHAAcEBwgHDAcQBxQHGAccByAHJAcoBywHMAc0BzgHPAdAB0QHSAdMB1AHVAdYB1wHYAdkB2gHbAdwB3QHeAd8B4AHhAeIB4wHkAeUB5gHnAegB6QHqAesB7AHtAe4B7wHwAfEB8gHzAQ==",
          "dtype": "i2"
         },
         "xaxis": "x2",
         "y": {
          "bdata": "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",
          "dtype": "f8"
         },
         "yaxis": "y2"
        }
       ],
       "layout": {
        "annotations": [
         {
          "font": {
           "size": 16
          },
          "showarrow": false,
          "text": "Dimension 1",
          "x": 0.5,
          "xanchor": "center",
          "xref": "paper",
          "y": 1,
          "yanchor": "bottom",
          "yref": "paper"
         },
         {
          "font": {
           "size": 16
          },
          "showarrow": false,
          "text": "Dimension 2",
          "x": 0.5,
          "xanchor": "center",
          "xref": "paper",
          "y": 0.375,
          "yanchor": "bottom",
          "yref": "paper"
         }
        ],
        "height": 600,
        "template": {
         "data": {
          "bar": [
           {
            "error_x": {
             "color": "#2a3f5f"
            },
            "error_y": {
             "color": "#2a3f5f"
            },
            "marker": {
             "line": {
              "color": "white",
              "width": 0.5
             },
             "pattern": {
              "fillmode": "overlay",
              "size": 10,
              "solidity": 0.2
             }
            },
            "type": "bar"
           }
          ],
          "barpolar": [
           {
            "marker": {
             "line": {
              "color": "white",
              "width": 0.5
             },
             "pattern": {
              "fillmode": "overlay",
              "size": 10,
              "solidity": 0.2
             }
            },
            "type": "barpolar"
           }
          ],
          "carpet": [
           {
            "aaxis": {
             "endlinecolor": "#2a3f5f",
             "gridcolor": "#C8D4E3",
             "linecolor": "#C8D4E3",
             "minorgridcolor": "#C8D4E3",
             "startlinecolor": "#2a3f5f"
            },
            "baxis": {
             "endlinecolor": "#2a3f5f",
             "gridcolor": "#C8D4E3",
             "linecolor": "#C8D4E3",
             "minorgridcolor": "#C8D4E3",
             "startlinecolor": "#2a3f5f"
            },
            "type": "carpet"
           }
          ],
          "choropleth": [
           {
            "colorbar": {
             "outlinewidth": 0,
             "ticks": ""
            },
            "type": "choropleth"
           }
          ],
          "contour": [
           {
            "colorbar": {
             "outlinewidth": 0,
             "ticks": ""
            },
            "colorscale": [
             [
              0,
              "#0d0887"
             ],
             [
              0.1111111111111111,
              "#46039f"
             ],
             [
              0.2222222222222222,
              "#7201a8"
             ],
             [
              0.3333333333333333,
              "#9c179e"
             ],
             [
              0.4444444444444444,
              "#bd3786"
             ],
             [
              0.5555555555555556,
              "#d8576b"
             ],
             [
              0.6666666666666666,
              "#ed7953"
             ],
             [
              0.7777777777777778,
              "#fb9f3a"
             ],
             [
              0.8888888888888888,
              "#fdca26"
             ],
             [
              1,
              "#f0f921"
             ]
            ],
            "type": "contour"
           }
          ],
          "contourcarpet": [
           {
            "colorbar": {
             "outlinewidth": 0,
             "ticks": ""
            },
            "type": "contourcarpet"
           }
          ],
          "heatmap": [
           {
            "colorbar": {
             "outlinewidth": 0,
             "ticks": ""
            },
            "colorscale": [
             [
              0,
              "#0d0887"
             ],
             [
              0.1111111111111111,
              "#46039f"
             ],
             [
              0.2222222222222222,
              "#7201a8"
             ],
             [
              0.3333333333333333,
              "#9c179e"
             ],
             [
              0.4444444444444444,
              "#bd3786"
             ],
             [
              0.5555555555555556,
              "#d8576b"
             ],
             [
              0.6666666666666666,
              "#ed7953"
             ],
             [
              0.7777777777777778,
              "#fb9f3a"
             ],
             [
              0.8888888888888888,
              "#fdca26"
             ],
             [
              1,
              "#f0f921"
             ]
            ],
            "type": "heatmap"
           }
          ],
          "histogram": [
           {
            "marker": {
             "pattern": {
              "fillmode": "overlay",
              "size": 10,
              "solidity": 0.2
             }
            },
            "type": "histogram"
           }
          ],
          "histogram2d": [
           {
            "colorbar": {
             "outlinewidth": 0,
             "ticks": ""
            },
            "colorscale": [
             [
              0,
              "#0d0887"
             ],
             [
              0.1111111111111111,
              "#46039f"
             ],
             [
              0.2222222222222222,
              "#7201a8"
             ],
             [
              0.3333333333333333,
              "#9c179e"
             ],
             [
              0.4444444444444444,
              "#bd3786"
             ],
             [
              0.5555555555555556,
              "#d8576b"
             ],
             [
              0.6666666666666666,
              "#ed7953"
             ],
             [
              0.7777777777777778,
              "#fb9f3a"
             ],
             [
              0.8888888888888888,
              "#fdca26"
             ],
             [
              1,
              "#f0f921"
             ]
            ],
            "type": "histogram2d"
           }
          ],
          "histogram2dcontour": [
           {
            "colorbar": {
             "outlinewidth": 0,
             "ticks": ""
            },
            "colorscale": [
             [
              0,
              "#0d0887"
             ],
             [
              0.1111111111111111,
              "#46039f"
             ],
             [
              0.2222222222222222,
              "#7201a8"
             ],
             [
              0.3333333333333333,
              "#9c179e"
             ],
             [
              0.4444444444444444,
              "#bd3786"
             ],
             [
              0.5555555555555556,
              "#d8576b"
             ],
             [
              0.6666666666666666,
              "#ed7953"
             ],
             [
              0.7777777777777778,
              "#fb9f3a"
             ],
             [
              0.8888888888888888,
              "#fdca26"
             ],
             [
              1,
              "#f0f921"
             ]
            ],
            "type": "histogram2dcontour"
           }
          ],
          "mesh3d": [
           {
            "colorbar": {
             "outlinewidth": 0,
             "ticks": ""
            },
            "type": "mesh3d"
           }
          ],
          "parcoords": [
           {
            "line": {
             "colorbar": {
              "outlinewidth": 0,
              "ticks": ""
             }
            },
            "type": "parcoords"
           }
          ],
          "pie": [
           {
            "automargin": true,
            "type": "pie"
           }
          ],
          "scatter": [
           {
            "fillpattern": {
             "fillmode": "overlay",
             "size": 10,
             "solidity": 0.2
            },
            "type": "scatter"
           }
          ],
          "scatter3d": [
           {
            "line": {
             "colorbar": {
              "outlinewidth": 0,
              "ticks": ""
             }
            },
            "marker": {
             "colorbar": {
              "outlinewidth": 0,
              "ticks": ""
             }
            },
            "type": "scatter3d"
           }
          ],
          "scattercarpet": [
           {
            "marker": {
             "colorbar": {
              "outlinewidth": 0,
              "ticks": ""
             }
            },
            "type": "scattercarpet"
           }
          ],
          "scattergeo": [
           {
            "marker": {
             "colorbar": {
              "outlinewidth": 0,
              "ticks": ""
             }
            },
            "type": "scattergeo"
           }
          ],
          "scattergl": [
           {
            "marker": {
             "colorbar": {
              "outlinewidth": 0,
              "ticks": ""
             }
            },
            "type": "scattergl"
           }
          ],
          "scattermap": [
           {
            "marker": {
             "colorbar": {
              "outlinewidth": 0,
              "ticks": ""
             }
            },
            "type": "scattermap"
           }
          ],
          "scattermapbox": [
           {
            "marker": {
             "colorbar": {
              "outlinewidth": 0,
              "ticks": ""
             }
            },
            "type": "scattermapbox"
           }
          ],
          "scatterpolar": [
           {
            "marker": {
             "colorbar": {
              "outlinewidth": 0,
              "ticks": ""
             }
            },
            "type": "scatterpolar"
           }
          ],
          "scatterpolargl": [
           {
            "marker": {
             "colorbar": {
              "outlinewidth": 0,
              "ticks": ""
             }
            },
            "type": "scatterpolargl"
           }
          ],
          "scatterternary": [
           {
            "marker": {
             "colorbar": {
              "outlinewidth": 0,
              "ticks": ""
             }
            },
            "type": "scatterternary"
           }
          ],
          "surface": [
           {
            "colorbar": {
             "outlinewidth": 0,
             "ticks": ""
            },
            "colorscale": [
             [
              0,
              "#0d0887"
             ],
             [
              0.1111111111111111,
              "#46039f"
             ],
             [
              0.2222222222222222,
              "#7201a8"
             ],
             [
              0.3333333333333333,
              "#9c179e"
             ],
             [
              0.4444444444444444,
              "#bd3786"
             ],
             [
              0.5555555555555556,
              "#d8576b"
             ],
             [
              0.6666666666666666,
              "#ed7953"
             ],
             [
              0.7777777777777778,
              "#fb9f3a"
             ],
             [
              0.8888888888888888,
              "#fdca26"
             ],
             [
              1,
              "#f0f921"
             ]
            ],
            "type": "surface"
           }
          ],
          "table": [
           {
            "cells": {
             "fill": {
              "color": "#EBF0F8"
             },
             "line": {
              "color": "white"
             }
            },
            "header": {
             "fill": {
              "color": "#C8D4E3"
             },
             "line": {
              "color": "white"
             }
            },
            "type": "table"
           }
          ]
         },
         "layout": {
          "annotationdefaults": {
           "arrowcolor": "#2a3f5f",
           "arrowhead": 0,
           "arrowwidth": 1
          },
          "autotypenumbers": "strict",
          "coloraxis": {
           "colorbar": {
            "outlinewidth": 0,
            "ticks": ""
           }
          },
          "colorscale": {
           "diverging": [
            [
             0,
             "#8e0152"
            ],
            [
             0.1,
             "#c51b7d"
            ],
            [
             0.2,
             "#de77ae"
            ],
            [
             0.3,
             "#f1b6da"
            ],
            [
             0.4,
             "#fde0ef"
            ],
            [
             0.5,
             "#f7f7f7"
            ],
            [
             0.6,
             "#e6f5d0"
            ],
            [
             0.7,
             "#b8e186"
            ],
            [
             0.8,
             "#7fbc41"
            ],
            [
             0.9,
             "#4d9221"
            ],
            [
             1,
             "#276419"
            ]
           ],
           "sequential": [
            [
             0,
             "#0d0887"
            ],
            [
             0.1111111111111111,
             "#46039f"
            ],
            [
             0.2222222222222222,
             "#7201a8"
            ],
            [
             0.3333333333333333,
             "#9c179e"
            ],
            [
             0.4444444444444444,
             "#bd3786"
            ],
            [
             0.5555555555555556,
             "#d8576b"
            ],
            [
             0.6666666666666666,
             "#ed7953"
            ],
            [
             0.7777777777777778,
             "#fb9f3a"
            ],
            [
             0.8888888888888888,
             "#fdca26"
            ],
            [
             1,
             "#f0f921"
            ]
           ],
           "sequentialminus": [
            [
             0,
             "#0d0887"
            ],
            [
             0.1111111111111111,
             "#46039f"
            ],
            [
             0.2222222222222222,
             "#7201a8"
            ],
            [
             0.3333333333333333,
             "#9c179e"
            ],
            [
             0.4444444444444444,
             "#bd3786"
            ],
            [
             0.5555555555555556,
             "#d8576b"
            ],
            [
             0.6666666666666666,
             "#ed7953"
            ],
            [
             0.7777777777777778,
             "#fb9f3a"
            ],
            [
             0.8888888888888888,
             "#fdca26"
            ],
            [
             1,
             "#f0f921"
            ]
           ]
          },
          "colorway": [
           "#636efa",
           "#EF553B",
           "#00cc96",
           "#ab63fa",
           "#FFA15A",
           "#19d3f3",
           "#FF6692",
           "#B6E880",
           "#FF97FF",
           "#FECB52"
          ],
          "font": {
           "color": "#2a3f5f"
          },
          "geo": {
           "bgcolor": "white",
           "lakecolor": "white",
           "landcolor": "white",
           "showlakes": true,
           "showland": true,
           "subunitcolor": "#C8D4E3"
          },
          "hoverlabel": {
           "align": "left"
          },
          "hovermode": "closest",
          "mapbox": {
           "style": "light"
          },
          "paper_bgcolor": "white",
          "plot_bgcolor": "white",
          "polar": {
           "angularaxis": {
            "gridcolor": "#EBF0F8",
            "linecolor": "#EBF0F8",
            "ticks": ""
           },
           "bgcolor": "white",
           "radialaxis": {
            "gridcolor": "#EBF0F8",
            "linecolor": "#EBF0F8",
            "ticks": ""
           }
          },
          "scene": {
           "xaxis": {
            "backgroundcolor": "white",
            "gridcolor": "#DFE8F3",
            "gridwidth": 2,
            "linecolor": "#EBF0F8",
            "showbackground": true,
            "ticks": "",
            "zerolinecolor": "#EBF0F8"
           },
           "yaxis": {
            "backgroundcolor": "white",
            "gridcolor": "#DFE8F3",
            "gridwidth": 2,
            "linecolor": "#EBF0F8",
            "showbackground": true,
            "ticks": "",
            "zerolinecolor": "#EBF0F8"
           },
           "zaxis": {
            "backgroundcolor": "white",
            "gridcolor": "#DFE8F3",
            "gridwidth": 2,
            "linecolor": "#EBF0F8",
            "showbackground": true,
            "ticks": "",
            "zerolinecolor": "#EBF0F8"
           }
          },
          "shapedefaults": {
           "line": {
            "color": "#2a3f5f"
           }
          },
          "ternary": {
           "aaxis": {
            "gridcolor": "#DFE8F3",
            "linecolor": "#A2B1C6",
            "ticks": ""
           },
           "baxis": {
            "gridcolor": "#DFE8F3",
            "linecolor": "#A2B1C6",
            "ticks": ""
           },
           "bgcolor": "white",
           "caxis": {
            "gridcolor": "#DFE8F3",
            "linecolor": "#A2B1C6",
            "ticks": ""
           }
          },
          "title": {
           "x": 0.05
          },
          "xaxis": {
           "automargin": true,
           "gridcolor": "#EBF0F8",
           "linecolor": "#EBF0F8",
           "ticks": "",
           "title": {
            "standoff": 15
           },
           "zerolinecolor": "#EBF0F8",
           "zerolinewidth": 2
          },
          "yaxis": {
           "automargin": true,
           "gridcolor": "#EBF0F8",
           "linecolor": "#EBF0F8",
           "ticks": "",
           "title": {
            "standoff": 15
           },
           "zerolinecolor": "#EBF0F8",
           "zerolinewidth": 2
          }
         }
        },
        "title": {
         "text": "Explicit Multivariate GAS Data: Observations vs. Latent States"
        },
        "width": 950,
        "xaxis": {
         "anchor": "y",
         "domain": [
          0,
          1
         ],
         "matches": "x2",
         "showticklabels": false
        },
        "xaxis2": {
         "anchor": "y2",
         "domain": [
          0,
          1
         ],
         "title": {
          "text": "Time"
         }
        },
        "yaxis": {
         "anchor": "x",
         "domain": [
          0.625,
          1
         ],
         "title": {
          "text": "Value"
         }
        },
        "yaxis2": {
         "anchor": "x2",
         "domain": [
          0,
          0.375
         ],
         "title": {
          "text": "Value"
         }
        }
       }
      }
     },
     "metadata": {},
     "output_type": "display_data"
    }
   ],
   "source": [
    "time_axis = np.arange(T)\n",
    "# Explicitly create subplots\n",
    "fig = make_subplots(rows=N, cols=1, shared_xaxes=True,\n",
    "                    subplot_titles=[f\"Dimension {i+1}\" for i in range(N)])\n",
    "\n",
    "for dim in range(N):\n",
    "    # Plot observations explicitly\n",
    "    fig.add_trace(go.Scatter(\n",
    "        x=time_axis, y=y_sim[:, dim],\n",
    "        mode='lines', name=f'Observation y[{dim+1}]',\n",
    "        line=dict(width=1.5), opacity=0.7\n",
    "    ), row=dim+1, col=1)\n",
    "\n",
    "    # Plot latent states explicitly\n",
    "    fig.add_trace(go.Scatter(\n",
    "        x=time_axis, y=mu_sim[:, dim],\n",
    "        mode='lines', name=f'Latent state μ[{dim+1}]',\n",
    "        line=dict(width=2, dash='dash')\n",
    "    ), row=dim+1, col=1)\n",
    "\n",
    "fig.update_layout(\n",
    "    height=300*N, width=950,\n",
    "    title_text=\"Explicit Multivariate GAS Data: Observations vs. Latent States\",\n",
    "    template=\"plotly_white\"\n",
    ")\n",
    "\n",
    "fig.update_xaxes(title_text=\"Time\", row=N, col=1)\n",
    "fig.update_yaxes(title_text=\"Value\")\n",
    "\n",
    "fig.show()"
   ]
  },
  {
   "cell_type": "code",
   "execution_count": 32,
   "id": "04a7f5b5",
   "metadata": {},
   "outputs": [
    {
     "name": "stdout",
     "output_type": "stream",
     "text": [
      "✅ Multivariate State-Space Simulation with regressors explicitly completed.\n"
     ]
    }
   ],
   "source": [
    "# Explicit parameters with regressors\n",
    "T = 500\n",
    "N = 2\n",
    "K = 3\n",
    "c_true = np.array([0.2, -0.1])\n",
    "Phi_true = np.array([[0.8, 0.1],\n",
    "                     [0.05, 0.85]])\n",
    "beta_true = np.array([[1.0, -0.5],\n",
    "                      [-1.2, 0.8],\n",
    "                      [0.5, 1.5]])\n",
    "Q_true = np.array([[1.0, 0.2],\n",
    "                   [0.2, 0.8]])\n",
    "R_true = np.array([[0.5, 0.1],\n",
    "                   [0.1, 0.3]])\n",
    "\n",
    "# Run explicit simulation with regressors\n",
    "y_sim, mu_sim, X_sim = simulate_multivariate_state_space(\n",
    "    T=T,\n",
    "    N=N,\n",
    "    c=c_true,\n",
    "    Phi=Phi_true,\n",
    "    beta=beta_true,  # Explicitly include regressors\n",
    "    Q=Q_true,\n",
    "    R=R_true,\n",
    "    # use_intercept=None,\n",
    "    seed=8888\n",
    ")\n",
    "\n",
    "print(\"✅ Multivariate State-Space Simulation with regressors explicitly completed.\")\n"
   ]
  },
  {
   "cell_type": "code",
   "execution_count": 33,
   "id": "39594308",
   "metadata": {},
   "outputs": [
    {
     "data": {
      "application/vnd.plotly.v1+json": {
       "config": {
        "plotlyServerURL": "https://plot.ly"
       },
       "data": [
        {
         "line": {
          "width": 1.5
         },
         "mode": "lines",
         "name": "Observation y[1]",
         "opacity": 0.7,
         "type": "scatter",
         "x": {
          "bdata": "AAABAAIAAwAEAAUABgAHAAgACQAKAAsADAANAA4ADwAQABEAEgATABQAFQAWABcAGAAZABoAGwAcAB0AHgAfACAAIQAiACMAJAAlACYAJwAoACkAKgArACwALQAuAC8AMAAxADIAMwA0ADUANgA3ADgAOQA6ADsAPAA9AD4APwBAAEEAQgBDAEQARQBGAEcASABJAEoASwBMAE0ATgBPAFAAUQBSAFMAVABVAFYAVwBYAFkAWgBbAFwAXQBeAF8AYABhAGIAYwBkAGUAZgBnAGgAaQBqAGsAbABtAG4AbwBwAHEAcgBzAHQAdQB2AHcAeAB5AHoAewB8AH0AfgB/AIAAgQCCAIMAhACFAIYAhwCIAIkAigCLAIwAjQCOAI8AkACRAJIAkwCUAJUAlgCXAJgAmQCaAJsAnACdAJ4AnwCgAKEAogCjAKQApQCmAKcAqACpAKoAqwCsAK0ArgCvALAAsQCyALMAtAC1ALYAtwC4ALkAugC7ALwAvQC+AL8AwADBAMIAwwDEAMUAxgDHAMgAyQDKAMsAzADNAM4AzwDQANEA0gDTANQA1QDWANcA2ADZANoA2wDcAN0A3gDfAOAA4QDiAOMA5ADlAOYA5wDoAOkA6gDrAOwA7QDuAO8A8ADxAPIA8wD0APUA9gD3APgA+QD6APsA/AD9AP4A/wAAAQEBAgEDAQQBBQEGAQcBCAEJAQoBCwEMAQ0BDgEPARABEQESARMBFAEVARYBFwEYARkBGgEbARwBHQEeAR8BIAEhASIBIwEkASUBJgEnASgBKQEqASsBLAEtAS4BLwEwATEBMgEzATQBNQE2ATcBOAE5AToBOwE8AT0BPgE/AUABQQFCAUMBRAFFAUYBRwFIAUkBSgFLAUwBTQFOAU8BUAFRAVIBUwFUAVUBVgFXAVgBWQFaAVsBXAFdAV4BXwFgAWEBYgFjAWQBZQFmAWcBaAFpAWoBawFsAW0BbgFvAXABcQFyAXMBdAF1AXYBdwF4AXkBegF7AXwBfQF+AX8BgAGBAYIBgwGEAYUBhgGHAYgBiQGKAYsBjAGNAY4BjwGQAZEBkgGTAZQBlQGWAZcBmAGZAZoBmwGcAZ0BngGfAaABoQGiAaMBpAGlAaYBpwGoAakBqgGrAawBrQGuAa8BsAGxAbIBswG0AbUBtgG3AbgBuQG6AbsBvAG9Ab4BvwHAAcEBwgHDAcQBxQHGAccByAHJAcoBywHMAc0BzgHPAdAB0QHSAdMB1AHVAdYB1wHYAdkB2gHbAdwB3QHeAd8B4AHhAeIB4wHkAeUB5gHnAegB6QHqAesB7AHtAe4B7wHwAfEB8gHzAQ==",
          "dtype": "i2"
         },
         "xaxis": "x",
         "y": {
          "bdata": "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",
          "dtype": "f8"
         },
         "yaxis": "y"
        },
        {
         "line": {
          "dash": "dash",
          "width": 2
         },
         "mode": "lines",
         "name": "Latent state μ[1]",
         "type": "scatter",
         "x": {
          "bdata": "AAABAAIAAwAEAAUABgAHAAgACQAKAAsADAANAA4ADwAQABEAEgATABQAFQAWABcAGAAZABoAGwAcAB0AHgAfACAAIQAiACMAJAAlACYAJwAoACkAKgArACwALQAuAC8AMAAxADIAMwA0ADUANgA3ADgAOQA6ADsAPAA9AD4APwBAAEEAQgBDAEQARQBGAEcASABJAEoASwBMAE0ATgBPAFAAUQBSAFMAVABVAFYAVwBYAFkAWgBbAFwAXQBeAF8AYABhAGIAYwBkAGUAZgBnAGgAaQBqAGsAbABtAG4AbwBwAHEAcgBzAHQAdQB2AHcAeAB5AHoAewB8AH0AfgB/AIAAgQCCAIMAhACFAIYAhwCIAIkAigCLAIwAjQCOAI8AkACRAJIAkwCUAJUAlgCXAJgAmQCaAJsAnACdAJ4AnwCgAKEAogCjAKQApQCmAKcAqACpAKoAqwCsAK0ArgCvALAAsQCyALMAtAC1ALYAtwC4ALkAugC7ALwAvQC+AL8AwADBAMIAwwDEAMUAxgDHAMgAyQDKAMsAzADNAM4AzwDQANEA0gDTANQA1QDWANcA2ADZANoA2wDcAN0A3gDfAOAA4QDiAOMA5ADlAOYA5wDoAOkA6gDrAOwA7QDuAO8A8ADxAPIA8wD0APUA9gD3APgA+QD6APsA/AD9AP4A/wAAAQEBAgEDAQQBBQEGAQcBCAEJAQoBCwEMAQ0BDgEPARABEQESARMBFAEVARYBFwEYARkBGgEbARwBHQEeAR8BIAEhASIBIwEkASUBJgEnASgBKQEqASsBLAEtAS4BLwEwATEBMgEzATQBNQE2ATcBOAE5AToBOwE8AT0BPgE/AUABQQFCAUMBRAFFAUYBRwFIAUkBSgFLAUwBTQFOAU8BUAFRAVIBUwFUAVUBVgFXAVgBWQFaAVsBXAFdAV4BXwFgAWEBYgFjAWQBZQFmAWcBaAFpAWoBawFsAW0BbgFvAXABcQFyAXMBdAF1AXYBdwF4AXkBegF7AXwBfQF+AX8BgAGBAYIBgwGEAYUBhgGHAYgBiQGKAYsBjAGNAY4BjwGQAZEBkgGTAZQBlQGWAZcBmAGZAZoBmwGcAZ0BngGfAaABoQGiAaMBpAGlAaYBpwGoAakBqgGrAawBrQGuAa8BsAGxAbIBswG0AbUBtgG3AbgBuQG6AbsBvAG9Ab4BvwHAAcEBwgHDAcQBxQHGAccByAHJAcoBywHMAc0BzgHPAdAB0QHSAdMB1AHVAdYB1wHYAdkB2gHbAdwB3QHeAd8B4AHhAeIB4wHkAeUB5gHnAegB6QHqAesB7AHtAe4B7wHwAfEB8gHzAQ==",
          "dtype": "i2"
         },
         "xaxis": "x",
         "y": {
          "bdata": "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",
          "dtype": "f8"
         },
         "yaxis": "y"
        },
        {
         "line": {
          "width": 1.5
         },
         "mode": "lines",
         "name": "Observation y[2]",
         "opacity": 0.7,
         "type": "scatter",
         "x": {
          "bdata": "AAABAAIAAwAEAAUABgAHAAgACQAKAAsADAANAA4ADwAQABEAEgATABQAFQAWABcAGAAZABoAGwAcAB0AHgAfACAAIQAiACMAJAAlACYAJwAoACkAKgArACwALQAuAC8AMAAxADIAMwA0ADUANgA3ADgAOQA6ADsAPAA9AD4APwBAAEEAQgBDAEQARQBGAEcASABJAEoASwBMAE0ATgBPAFAAUQBSAFMAVABVAFYAVwBYAFkAWgBbAFwAXQBeAF8AYABhAGIAYwBkAGUAZgBnAGgAaQBqAGsAbABtAG4AbwBwAHEAcgBzAHQAdQB2AHcAeAB5AHoAewB8AH0AfgB/AIAAgQCCAIMAhACFAIYAhwCIAIkAigCLAIwAjQCOAI8AkACRAJIAkwCUAJUAlgCXAJgAmQCaAJsAnACdAJ4AnwCgAKEAogCjAKQApQCmAKcAqACpAKoAqwCsAK0ArgCvALAAsQCyALMAtAC1ALYAtwC4ALkAugC7ALwAvQC+AL8AwADBAMIAwwDEAMUAxgDHAMgAyQDKAMsAzADNAM4AzwDQANEA0gDTANQA1QDWANcA2ADZANoA2wDcAN0A3gDfAOAA4QDiAOMA5ADlAOYA5wDoAOkA6gDrAOwA7QDuAO8A8ADxAPIA8wD0APUA9gD3APgA+QD6APsA/AD9AP4A/wAAAQEBAgEDAQQBBQEGAQcBCAEJAQoBCwEMAQ0BDgEPARABEQESARMBFAEVARYBFwEYARkBGgEbARwBHQEeAR8BIAEhASIBIwEkASUBJgEnASgBKQEqASsBLAEtAS4BLwEwATEBMgEzATQBNQE2ATcBOAE5AToBOwE8AT0BPgE/AUABQQFCAUMBRAFFAUYBRwFIAUkBSgFLAUwBTQFOAU8BUAFRAVIBUwFUAVUBVgFXAVgBWQFaAVsBXAFdAV4BXwFgAWEBYgFjAWQBZQFmAWcBaAFpAWoBawFsAW0BbgFvAXABcQFyAXMBdAF1AXYBdwF4AXkBegF7AXwBfQF+AX8BgAGBAYIBgwGEAYUBhgGHAYgBiQGKAYsBjAGNAY4BjwGQAZEBkgGTAZQBlQGWAZcBmAGZAZoBmwGcAZ0BngGfAaABoQGiAaMBpAGlAaYBpwGoAakBqgGrAawBrQGuAa8BsAGxAbIBswG0AbUBtgG3AbgBuQG6AbsBvAG9Ab4BvwHAAcEBwgHDAcQBxQHGAccByAHJAcoBywHMAc0BzgHPAdAB0QHSAdMB1AHVAdYB1wHYAdkB2gHbAdwB3QHeAd8B4AHhAeIB4wHkAeUB5gHnAegB6QHqAesB7AHtAe4B7wHwAfEB8gHzAQ==",
          "dtype": "i2"
         },
         "xaxis": "x2",
         "y": {
          "bdata": "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",
          "dtype": "f8"
         },
         "yaxis": "y2"
        },
        {
         "line": {
          "dash": "dash",
          "width": 2
         },
         "mode": "lines",
         "name": "Latent state μ[2]",
         "type": "scatter",
         "x": {
          "bdata": "AAABAAIAAwAEAAUABgAHAAgACQAKAAsADAANAA4ADwAQABEAEgATABQAFQAWABcAGAAZABoAGwAcAB0AHgAfACAAIQAiACMAJAAlACYAJwAoACkAKgArACwALQAuAC8AMAAxADIAMwA0ADUANgA3ADgAOQA6ADsAPAA9AD4APwBAAEEAQgBDAEQARQBGAEcASABJAEoASwBMAE0ATgBPAFAAUQBSAFMAVABVAFYAVwBYAFkAWgBbAFwAXQBeAF8AYABhAGIAYwBkAGUAZgBnAGgAaQBqAGsAbABtAG4AbwBwAHEAcgBzAHQAdQB2AHcAeAB5AHoAewB8AH0AfgB/AIAAgQCCAIMAhACFAIYAhwCIAIkAigCLAIwAjQCOAI8AkACRAJIAkwCUAJUAlgCXAJgAmQCaAJsAnACdAJ4AnwCgAKEAogCjAKQApQCmAKcAqACpAKoAqwCsAK0ArgCvALAAsQCyALMAtAC1ALYAtwC4ALkAugC7ALwAvQC+AL8AwADBAMIAwwDEAMUAxgDHAMgAyQDKAMsAzADNAM4AzwDQANEA0gDTANQA1QDWANcA2ADZANoA2wDcAN0A3gDfAOAA4QDiAOMA5ADlAOYA5wDoAOkA6gDrAOwA7QDuAO8A8ADxAPIA8wD0APUA9gD3APgA+QD6APsA/AD9AP4A/wAAAQEBAgEDAQQBBQEGAQcBCAEJAQoBCwEMAQ0BDgEPARABEQESARMBFAEVARYBFwEYARkBGgEbARwBHQEeAR8BIAEhASIBIwEkASUBJgEnASgBKQEqASsBLAEtAS4BLwEwATEBMgEzATQBNQE2ATcBOAE5AToBOwE8AT0BPgE/AUABQQFCAUMBRAFFAUYBRwFIAUkBSgFLAUwBTQFOAU8BUAFRAVIBUwFUAVUBVgFXAVgBWQFaAVsBXAFdAV4BXwFgAWEBYgFjAWQBZQFmAWcBaAFpAWoBawFsAW0BbgFvAXABcQFyAXMBdAF1AXYBdwF4AXkBegF7AXwBfQF+AX8BgAGBAYIBgwGEAYUBhgGHAYgBiQGKAYsBjAGNAY4BjwGQAZEBkgGTAZQBlQGWAZcBmAGZAZoBmwGcAZ0BngGfAaABoQGiAaMBpAGlAaYBpwGoAakBqgGrAawBrQGuAa8BsAGxAbIBswG0AbUBtgG3AbgBuQG6AbsBvAG9Ab4BvwHAAcEBwgHDAcQBxQHGAccByAHJAcoBywHMAc0BzgHPAdAB0QHSAdMB1AHVAdYB1wHYAdkB2gHbAdwB3QHeAd8B4AHhAeIB4wHkAeUB5gHnAegB6QHqAesB7AHtAe4B7wHwAfEB8gHzAQ==",
          "dtype": "i2"
         },
         "xaxis": "x2",
         "y": {
          "bdata": "mJmZmZmZ2b/4k2HrNS7CP/QeWkpw6qc/+G/7Gox/1r/8DAtQ8Lz2v6Uw1YUIVAHA1W2b2KQZ+r/AeEhfnbL9v/wd6r75XOu/n4YUyRu17L8HiLO/Ynfxv04nom0scfW/MuLRsu+N8b9EUy13kq3Kvz92/9aPz+w/4Pah5q594D/QlJ4SlTTGP/CxnK5k/62/8gTLcpqI6b9Q4TxFw0Xwvxj4Rs0VebQ/jRsLKfOr8D8BUATplIf7P2EAbPVhtuo/nhv7NXR/4z8gk9KOwC34P54mHEgZivU/jBtYdCdjAkCMMe79syb1P7cPH1BYKfU/e/z3jS/q9j9qQmmGMfIJQHyl0UXowABAukoPGpRI9z8OzKuvvtXiP18HXAeBreU/TzfTfoIm9D9qOjKQ/bDiP0uI2Kdz7ec/wBFfqTvUq7+gLw5HU4ndP59xvhtDlOu/ODHlCRhT2D/4AmRRJw/3v0IetP18D/6/1FxLpsvn+r+PPvTQ/0n4v+/ycg3+w/W/9dSJ8CCx5r/3ITbhwGjlv9UcT5FyhOK/gzOMG3UCAEC+dL3VEnAFQOJpU+MV/vw/FJCX4McNAECjFqtfn33sPyDrfZu68ag/6xjqVp0z6r8pFs2MWBHSv9hXNBNBQsc/fkNYvqFE6z+KW5wDsJDrPzpU/F0bKNW/ROmQJG/6wD8+lbJILsj4vxWuYasi9Ou/LQ+tClO19L9HLssTQ4Xtv4G0q0DWYPS/eEJFBUbE5L+Qgs3tVU+wv5gAK/CzoNs/fMYHKx+L7L8QXgZL/o3Fv0LzAguxzNW/gMfDQt3l6D/WEX3U7Gn6P8m7hTku9Pg/aGEmNdci/j/AN1JRUFv0P8LJA2zdjQJAOvb2HVhZDkBNcvXbxm8LQN1UgkaKJv4/4LpNRdx/yL9KXk/7S6jiv8Imk+HzKfS/aU/55LoF878wlsJdJon9v3YvNRLhW/m/GPC2GhgIwL9GrrM73Zz7v4Y5ftXKS+2/WgyreTrf6j+Q2yLE9WLiP2Zi+gQxoOK/BKltP42L8j+ySuti8WrvP0RT25L+AsA/cbQei/JAtT8k/EZOW+DOv7WWFgnXEfA/CCqydbv28j88GZOjKnvjv9qDBcIGeeA/9+sfY/104b+QcInuscrcPzEXNr6rSgBA5InZDoYu9j+shsr0iNrwP9MSjdVGVuA/OUBYqNul5z8AtATAaTr2v7b9gDPlsvS/BCTQkWeJBMANoT+YZasFwP260a3atwLA8Y3/TqST8b+yUg+zSJjSPwC0ttBydX8/j120ATMR5b9YpT8gQ1T1vxCkjNwbm9G/FYRDKXkE4D/4pmPFhBzvvwsE5se10+e/E+PiEDpiAMBg4JW7NNfPPwzbIUtCwOE/efxgde9H9D80AVJ2tTXTP3ZoFG5pFeG/UKqq9kZIqr9cDaOOCOv0v29/jx+oyuC/+HIIPtuL5r9g8uuwXcTnv7F8etU2gN+/d8Uh47p85b9SNwlHEIkCwCoSY0+gLPK/0ow6hgEC/r/Wpf+Mmj7hvwSx8k/t0c+/4LzlHsy8q78BoYv5G97CP3VL+G67X8C/rOe+pjACxD+Ip+z7ar+2v1IG9oWzvvq/kLXMJQYCBMD0HN94HHcGwA8LV3gIVBHAqvtYSht8DMDXatKUcsQJwLiaL6UpZxDAc8EC7+5FE8Dw/Pp0cMYLwBpCKa9APwXAEidNeLYPAMA2at8TA0sGwKQPifCR+AzA7i0ZTCGx/L9Ystm/Qc76v/K3Fjo7YADAbrY0y/nY87/hOFEL68jmv5dzxpmMtvi/yWZG5iOc4b8AT+w2oBq8v0vwusIozb8/9tRIBxaU878QOC250K/Avy0SJSn+gNS/jARVEALC8j9QDbPRtkmoPwNvvqru1Oy/G2/7s0sN8L+Qa3ZOKZjNvzeimEqqSdu/VzkavY8n8b/x/4OsbUr1v+bxiCLYHvS/Hn9xA2xS8b8naFR+h6P2v9ooOEGyIvu/ciUu/xy++79slIevGbrUvzALDbv/DuE/Jqh46gWi6z+00J7ZrRsFQGfQwMesNQVAgy0Nn+xLAkDSFRitWbT5P1A7pNATP9E/13sDmITW7T9rkgb/TPvyv7BDjOa1wvC/gJYIWMJioL8dd4vmS9fvPzULPcRnxO0/0N7kQFRU2z9w6EFBHSL6P9ipSiF+9Oo/2Ohs3PWT/D8+3+LhxHb1P56slnCat/E//Ht6D5VB2L8D22QCXLICwGqms4NNHQLAQhe2uHU59L+o2hvjg0r6vxW3BI7BZve/UCGhlVGdvb/m8bFqGse9v3R6APDtz9c/CTUZI2bc+L9WJs3VmB3hv3u5M9U5X/a/AKgLLwWK/L8Qwg6dA2TZv9dzJZtWb9W/HDINrOn587/SF8cDLmzlv9RZ+nC1FN8/8PZAdDwj8T+GOjMtCV73PzQADsVWUu8/nkOEMivP9j8GAvDFVZUCQE5zgHvI6/Q/DgRuSk9F+j+Yc4aU+9fDPx7JhPxrkr0/jZp6w0oy4D8Avkru/N9IP0q8LbY0K9W/xI78GxH0tr+6laoiqNPCvxLmzQGFI9q/LuAobhnj5L8XjN1mmn3sP/Ge7UZ5EPg/afltSP/k9j8Igsig4FnrP4gQv7fJGbg/NdLJ0r8X3L90FcCx4Qj8v/oYwN7w9fu/QBAvp205/r/ktR5CnXwDwKgRuvTuo+a/adn/f60C7D9gk+FWpwbwP8TgNpfxbQBA3IC1vS/6BEAY+0nmuCQKQLygXpQelwxATd7PaGIpEEDQtfjTPKETQDdU6lCiUgxApXCuylwdFECSIIzLJLEUQGx77394+BNA8d/2dHpJDUDq/LsoFhAMQNbz4CPqXQpA5qM2kfNOBEAQDq9Pii0SQKoZ86iwcgVAgKyZhv7J5j8FGkjMSArUPxqg5+wUjtI/PoCvY9xJ9j8FOVpWBjD+P+fj+h3M1vo/QrKrXPFB+z+yq0L9yKkGQIx+yYEBlBFAjMPgJxswBkD3Zx3X/ngAQJC1DvN8ZOk/VNb/V1/E+T/XLoZkxw/2PwBKqTmGbGw/vIBP6HCJ8z+RgshZFoMBQDNWIoHG7fo/iKyPDMygzr8q0+Rrn8Lyv/Zdq0D3qPa/pH4mNeqyBMAwrf7TS/v1v0ZvUHtOtua/TCX6LZO88b+jXJtjuDPwvzdepGCVU9y/KIHoZClrvL/gca2mtXXTv4up0MFlu9I/SKgTDp3mwj9RW3QYXOHpv7wlyK8fkwjAskKjnVMGB8DdRpLSFi0BwNNi1eAqsgLA8OemjOrECMAWkV1hSWr6v8YjXoMQ6wLAIdMoU0lq+b9K+KD5TnP8v0Q6smzBve2/MjbRiU8W5r+MB4/4LFXOP5UP/3Nk5eC/UFRPIWWtnL9n8zinrP7mP8q6A0pQjOG/QPAvmvuj8L8o4ROZwz3hvwiv3taIrvC/gDlfYx1HAsAY3vEx1c4AwAQ1rJrikuq/MqsVhXXb1r+MuHmYnabjP5s8HKGo3NE/m7sFmqSO6L9CFhGz2aoDwIxH19bl1QDA4ONWqJtHA8Bo045Lxn4BwGX01O8ARAvAa0LQrhTgAcBq+3IlOxQCwPyDYL/OtQPACKr/85zaCcA9Hxde/5sKwLbJmUwoIgDA9oiAtvY8CsBS2hPESMQAwAx7uA5BzdG/RrCcNMco579gYum7kM+tP2WhxMKJ5/2/dNPHbVTl/r/CHgtNWZ8IwF4bbQ6ClAXAmj6olOdJ77/wpgWcGxDpv8K79EJuxvC/FNgWLk0pz78HytEBA1v0vw737Xe1jwHAmuYHfUHNAsCliEnCT4zwv0ziL087bvG/+gjo5OJuAsBEd06mPHkGwDqdVDfkqwzA185/uX1LAcC+7QhTzn/nvyBA3b4ipcO/b4Mo/p4u8b8GUbkXxKjuv6CWelqrnsO/0J/AXXMAyz/t9dwGaAvnvwjfHwBd3em//jEWh6v+2D+6JMTsF/jgP4BXI1ugcPE/xKZ6e4wf5L/eNaB5pGDwvzarBL2LaPC/+O+/51cjw7/MHLhEHV/jv5MtwXY2reO/iMdQR7q07b+SfJe6PPD+v3vjHPFul/+/nCCpH4boAsDmmGc18FwBwJ2ukg0+m/+/eZ7/7BNdBsCQKeb5LlgLwDIAMzLptQvA8rs8/ISOD8AHENBOWhYPwMEybeEzqxDAruXrTgtxAcC0NbZan5wGwKw+Jb4e4Pe/5pnRL5OxA8AkTDzSQuYLwGueldlhuATA9ehQXwrWBMCitcAT6TcIwP8g+WyGwQ3AOFaU0tejCMAx/8MGtJ8FwOD8nvxLdwTAAJDIgKqvBcASEhEMnhL5v2bGkeHcIQDAQ0GMCZ5qB8DYzLzaJMsNwPHtuBCHfAHAKbzcF72N+7/v2DFw6Ir1vyj4oxm8IQPA4bmHau6A+78rOQWhR6kCwMyEAhglnArAKOepmGIiEcCAofQuCJ8MwCdcifomJv2/1Pk0S+wrAsCGg76rAOwHwPbxpcVc9wvA0ti9dJMYDMCBltacqJgGwOVMvp3p9ADAfX0sPnBp/7+zI6yPfWD1v+yqcaf6Q+e/vIuMb9+98b/8AHPvkBnivxBePrCRSqg/FuU5GwY9xD96nmvTPybGv9qDmnrgm9M/Rud0hjuR0z+jaopRitP3P6yrl6DN5tC/HBB6uX6lpT9BhmbQXkHwPyRmvu/06vg/7vv+APsgDEAVnWClEMMUQDZmpGJZOg9AZ9vYQC++FEAHO2iNHFQOQDJxhk0sphFAmw9hmNCaEUCI5hGJUtUOQFiYLmAhRwVA6OOiJUZEBEBpu9wFE9wAQLjduucydPM/W0c+3+8vAUDELXFxGLgEQPLWY/ZCxO0/7JEwNVc7+j9E6kPFF7bhP0ynfVb+/PQ/4J91XXEF6z9uKaz3bN34P9ByMdAOGOg/O7yUMZUb9T8qWqIqK076P/MXXR+bsfs/IE/orbJjBUA135gIQ3YNQB76GlIsnghA7hv/r8w7/j9pXe2qUfsHQGpF1hPalwVAPQPfUCfDDEDaIf1+kcoHQIBuX7pCiO0/L+zyonow+D9oGSBBUADwP9evvgROV+y/DGNAinFw4L8zFIYxoTLhP870Ic3h5vA/D7RXzjWr9D8cE/u4aabTP2hQi9cazvC/rDnMZm1xAMCsPtgCmtPfv6Aj0+yuC9A/9k+TTMsl8D98eGw4pLLKP7/V5tHwwgBAMZDg6S6t9j872yq5yocEQFFN1rlzt/o/wP4aLecvBEDOTsQWyToNQKnTxDjm/QdA4KXznLi2CEBaL1foSwgQQJXk2NKZoAVA6pYXZ395BkDJyeQBPfz6P3bbizsOxfM/gPMaj67k8z8izgVURkz2Pw==",
          "dtype": "f8"
         },
         "yaxis": "y2"
        },
        {
         "line": {
          "width": 1
         },
         "mode": "lines",
         "name": "Regressor X[1]",
         "type": "scatter",
         "x": {
          "bdata": "AAABAAIAAwAEAAUABgAHAAgACQAKAAsADAANAA4ADwAQABEAEgATABQAFQAWABcAGAAZABoAGwAcAB0AHgAfACAAIQAiACMAJAAlACYAJwAoACkAKgArACwALQAuAC8AMAAxADIAMwA0ADUANgA3ADgAOQA6ADsAPAA9AD4APwBAAEEAQgBDAEQARQBGAEcASABJAEoASwBMAE0ATgBPAFAAUQBSAFMAVABVAFYAVwBYAFkAWgBbAFwAXQBeAF8AYABhAGIAYwBkAGUAZgBnAGgAaQBqAGsAbABtAG4AbwBwAHEAcgBzAHQAdQB2AHcAeAB5AHoAewB8AH0AfgB/AIAAgQCCAIMAhACFAIYAhwCIAIkAigCLAIwAjQCOAI8AkACRAJIAkwCUAJUAlgCXAJgAmQCaAJsAnACdAJ4AnwCgAKEAogCjAKQApQCmAKcAqACpAKoAqwCsAK0ArgCvALAAsQCyALMAtAC1ALYAtwC4ALkAugC7ALwAvQC+AL8AwADBAMIAwwDEAMUAxgDHAMgAyQDKAMsAzADNAM4AzwDQANEA0gDTANQA1QDWANcA2ADZANoA2wDcAN0A3gDfAOAA4QDiAOMA5ADlAOYA5wDoAOkA6gDrAOwA7QDuAO8A8ADxAPIA8wD0APUA9gD3APgA+QD6APsA/AD9AP4A/wAAAQEBAgEDAQQBBQEGAQcBCAEJAQoBCwEMAQ0BDgEPARABEQESARMBFAEVARYBFwEYARkBGgEbARwBHQEeAR8BIAEhASIBIwEkASUBJgEnASgBKQEqASsBLAEtAS4BLwEwATEBMgEzATQBNQE2ATcBOAE5AToBOwE8AT0BPgE/AUABQQFCAUMBRAFFAUYBRwFIAUkBSgFLAUwBTQFOAU8BUAFRAVIBUwFUAVUBVgFXAVgBWQFaAVsBXAFdAV4BXwFgAWEBYgFjAWQBZQFmAWcBaAFpAWoBawFsAW0BbgFvAXABcQFyAXMBdAF1AXYBdwF4AXkBegF7AXwBfQF+AX8BgAGBAYIBgwGEAYUBhgGHAYgBiQGKAYsBjAGNAY4BjwGQAZEBkgGTAZQBlQGWAZcBmAGZAZoBmwGcAZ0BngGfAaABoQGiAaMBpAGlAaYBpwGoAakBqgGrAawBrQGuAa8BsAGxAbIBswG0AbUBtgG3AbgBuQG6AbsBvAG9Ab4BvwHAAcEBwgHDAcQBxQHGAccByAHJAcoBywHMAc0BzgHPAdAB0QHSAdMB1AHVAdYB1wHYAdkB2gHbAdwB3QHeAd8B4AHhAeIB4wHkAeUB5gHnAegB6QHqAesB7AHtAe4B7wHwAfEB8gHzAQ==",
          "dtype": "i2"
         },
         "xaxis": "x3",
         "y": {
          "bdata": "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",
          "dtype": "f8"
         },
         "yaxis": "y3"
        },
        {
         "line": {
          "width": 1
         },
         "mode": "lines",
         "name": "Regressor X[2]",
         "type": "scatter",
         "x": {
          "bdata": "AAABAAIAAwAEAAUABgAHAAgACQAKAAsADAANAA4ADwAQABEAEgATABQAFQAWABcAGAAZABoAGwAcAB0AHgAfACAAIQAiACMAJAAlACYAJwAoACkAKgArACwALQAuAC8AMAAxADIAMwA0ADUANgA3ADgAOQA6ADsAPAA9AD4APwBAAEEAQgBDAEQARQBGAEcASABJAEoASwBMAE0ATgBPAFAAUQBSAFMAVABVAFYAVwBYAFkAWgBbAFwAXQBeAF8AYABhAGIAYwBkAGUAZgBnAGgAaQBqAGsAbABtAG4AbwBwAHEAcgBzAHQAdQB2AHcAeAB5AHoAewB8AH0AfgB/AIAAgQCCAIMAhACFAIYAhwCIAIkAigCLAIwAjQCOAI8AkACRAJIAkwCUAJUAlgCXAJgAmQCaAJsAnACdAJ4AnwCgAKEAogCjAKQApQCmAKcAqACpAKoAqwCsAK0ArgCvALAAsQCyALMAtAC1ALYAtwC4ALkAugC7ALwAvQC+AL8AwADBAMIAwwDEAMUAxgDHAMgAyQDKAMsAzADNAM4AzwDQANEA0gDTANQA1QDWANcA2ADZANoA2wDcAN0A3gDfAOAA4QDiAOMA5ADlAOYA5wDoAOkA6gDrAOwA7QDuAO8A8ADxAPIA8wD0APUA9gD3APgA+QD6APsA/AD9AP4A/wAAAQEBAgEDAQQBBQEGAQcBCAEJAQoBCwEMAQ0BDgEPARABEQESARMBFAEVARYBFwEYARkBGgEbARwBHQEeAR8BIAEhASIBIwEkASUBJgEnASgBKQEqASsBLAEtAS4BLwEwATEBMgEzATQBNQE2ATcBOAE5AToBOwE8AT0BPgE/AUABQQFCAUMBRAFFAUYBRwFIAUkBSgFLAUwBTQFOAU8BUAFRAVIBUwFUAVUBVgFXAVgBWQFaAVsBXAFdAV4BXwFgAWEBYgFjAWQBZQFmAWcBaAFpAWoBawFsAW0BbgFvAXABcQFyAXMBdAF1AXYBdwF4AXkBegF7AXwBfQF+AX8BgAGBAYIBgwGEAYUBhgGHAYgBiQGKAYsBjAGNAY4BjwGQAZEBkgGTAZQBlQGWAZcBmAGZAZoBmwGcAZ0BngGfAaABoQGiAaMBpAGlAaYBpwGoAakBqgGrAawBrQGuAa8BsAGxAbIBswG0AbUBtgG3AbgBuQG6AbsBvAG9Ab4BvwHAAcEBwgHDAcQBxQHGAccByAHJAcoBywHMAc0BzgHPAdAB0QHSAdMB1AHVAdYB1wHYAdkB2gHbAdwB3QHeAd8B4AHhAeIB4wHkAeUB5gHnAegB6QHqAesB7AHtAe4B7wHwAfEB8gHzAQ==",
          "dtype": "i2"
         },
         "xaxis": "x3",
         "y": {
          "bdata": "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",
          "dtype": "f8"
         },
         "yaxis": "y3"
        },
        {
         "line": {
          "width": 1
         },
         "mode": "lines",
         "name": "Regressor X[3]",
         "type": "scatter",
         "x": {
          "bdata": "AAABAAIAAwAEAAUABgAHAAgACQAKAAsADAANAA4ADwAQABEAEgATABQAFQAWABcAGAAZABoAGwAcAB0AHgAfACAAIQAiACMAJAAlACYAJwAoACkAKgArACwALQAuAC8AMAAxADIAMwA0ADUANgA3ADgAOQA6ADsAPAA9AD4APwBAAEEAQgBDAEQARQBGAEcASABJAEoASwBMAE0ATgBPAFAAUQBSAFMAVABVAFYAVwBYAFkAWgBbAFwAXQBeAF8AYABhAGIAYwBkAGUAZgBnAGgAaQBqAGsAbABtAG4AbwBwAHEAcgBzAHQAdQB2AHcAeAB5AHoAewB8AH0AfgB/AIAAgQCCAIMAhACFAIYAhwCIAIkAigCLAIwAjQCOAI8AkACRAJIAkwCUAJUAlgCXAJgAmQCaAJsAnACdAJ4AnwCgAKEAogCjAKQApQCmAKcAqACpAKoAqwCsAK0ArgCvALAAsQCyALMAtAC1ALYAtwC4ALkAugC7ALwAvQC+AL8AwADBAMIAwwDEAMUAxgDHAMgAyQDKAMsAzADNAM4AzwDQANEA0gDTANQA1QDWANcA2ADZANoA2wDcAN0A3gDfAOAA4QDiAOMA5ADlAOYA5wDoAOkA6gDrAOwA7QDuAO8A8ADxAPIA8wD0APUA9gD3APgA+QD6APsA/AD9AP4A/wAAAQEBAgEDAQQBBQEGAQcBCAEJAQoBCwEMAQ0BDgEPARABEQESARMBFAEVARYBFwEYARkBGgEbARwBHQEeAR8BIAEhASIBIwEkASUBJgEnASgBKQEqASsBLAEtAS4BLwEwATEBMgEzATQBNQE2ATcBOAE5AToBOwE8AT0BPgE/AUABQQFCAUMBRAFFAUYBRwFIAUkBSgFLAUwBTQFOAU8BUAFRAVIBUwFUAVUBVgFXAVgBWQFaAVsBXAFdAV4BXwFgAWEBYgFjAWQBZQFmAWcBaAFpAWoBawFsAW0BbgFvAXABcQFyAXMBdAF1AXYBdwF4AXkBegF7AXwBfQF+AX8BgAGBAYIBgwGEAYUBhgGHAYgBiQGKAYsBjAGNAY4BjwGQAZEBkgGTAZQBlQGWAZcBmAGZAZoBmwGcAZ0BngGfAaABoQGiAaMBpAGlAaYBpwGoAakBqgGrAawBrQGuAa8BsAGxAbIBswG0AbUBtgG3AbgBuQG6AbsBvAG9Ab4BvwHAAcEBwgHDAcQBxQHGAccByAHJAcoBywHMAc0BzgHPAdAB0QHSAdMB1AHVAdYB1wHYAdkB2gHbAdwB3QHeAd8B4AHhAeIB4wHkAeUB5gHnAegB6QHqAesB7AHtAe4B7wHwAfEB8gHzAQ==",
          "dtype": "i2"
         },
         "xaxis": "x3",
         "y": {
          "bdata": "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",
          "dtype": "f8"
         },
         "yaxis": "y3"
        }
       ],
       "layout": {
        "annotations": [
         {
          "font": {
           "size": 16
          },
          "showarrow": false,
          "text": "Dimension 1",
          "x": 0.5,
          "xanchor": "center",
          "xref": "paper",
          "y": 1,
          "yanchor": "bottom",
          "yref": "paper"
         },
         {
          "font": {
           "size": 16
          },
          "showarrow": false,
          "text": "Dimension 2",
          "x": 0.5,
          "xanchor": "center",
          "xref": "paper",
          "y": 0.6111111111111112,
          "yanchor": "bottom",
          "yref": "paper"
         },
         {
          "font": {
           "size": 16
          },
          "showarrow": false,
          "text": "Regressors X_t",
          "x": 0.5,
          "xanchor": "center",
          "xref": "paper",
          "y": 0.22222222222222224,
          "yanchor": "bottom",
          "yref": "paper"
         }
        ],
        "height": 900,
        "showlegend": true,
        "template": {
         "data": {
          "bar": [
           {
            "error_x": {
             "color": "#2a3f5f"
            },
            "error_y": {
             "color": "#2a3f5f"
            },
            "marker": {
             "line": {
              "color": "white",
              "width": 0.5
             },
             "pattern": {
              "fillmode": "overlay",
              "size": 10,
              "solidity": 0.2
             }
            },
            "type": "bar"
           }
          ],
          "barpolar": [
           {
            "marker": {
             "line": {
              "color": "white",
              "width": 0.5
             },
             "pattern": {
              "fillmode": "overlay",
              "size": 10,
              "solidity": 0.2
             }
            },
            "type": "barpolar"
           }
          ],
          "carpet": [
           {
            "aaxis": {
             "endlinecolor": "#2a3f5f",
             "gridcolor": "#C8D4E3",
             "linecolor": "#C8D4E3",
             "minorgridcolor": "#C8D4E3",
             "startlinecolor": "#2a3f5f"
            },
            "baxis": {
             "endlinecolor": "#2a3f5f",
             "gridcolor": "#C8D4E3",
             "linecolor": "#C8D4E3",
             "minorgridcolor": "#C8D4E3",
             "startlinecolor": "#2a3f5f"
            },
            "type": "carpet"
           }
          ],
          "choropleth": [
           {
            "colorbar": {
             "outlinewidth": 0,
             "ticks": ""
            },
            "type": "choropleth"
           }
          ],
          "contour": [
           {
            "colorbar": {
             "outlinewidth": 0,
             "ticks": ""
            },
            "colorscale": [
             [
              0,
              "#0d0887"
             ],
             [
              0.1111111111111111,
              "#46039f"
             ],
             [
              0.2222222222222222,
              "#7201a8"
             ],
             [
              0.3333333333333333,
              "#9c179e"
             ],
             [
              0.4444444444444444,
              "#bd3786"
             ],
             [
              0.5555555555555556,
              "#d8576b"
             ],
             [
              0.6666666666666666,
              "#ed7953"
             ],
             [
              0.7777777777777778,
              "#fb9f3a"
             ],
             [
              0.8888888888888888,
              "#fdca26"
             ],
             [
              1,
              "#f0f921"
             ]
            ],
            "type": "contour"
           }
          ],
          "contourcarpet": [
           {
            "colorbar": {
             "outlinewidth": 0,
             "ticks": ""
            },
            "type": "contourcarpet"
           }
          ],
          "heatmap": [
           {
            "colorbar": {
             "outlinewidth": 0,
             "ticks": ""
            },
            "colorscale": [
             [
              0,
              "#0d0887"
             ],
             [
              0.1111111111111111,
              "#46039f"
             ],
             [
              0.2222222222222222,
              "#7201a8"
             ],
             [
              0.3333333333333333,
              "#9c179e"
             ],
             [
              0.4444444444444444,
              "#bd3786"
             ],
             [
              0.5555555555555556,
              "#d8576b"
             ],
             [
              0.6666666666666666,
              "#ed7953"
             ],
             [
              0.7777777777777778,
              "#fb9f3a"
             ],
             [
              0.8888888888888888,
              "#fdca26"
             ],
             [
              1,
              "#f0f921"
             ]
            ],
            "type": "heatmap"
           }
          ],
          "histogram": [
           {
            "marker": {
             "pattern": {
              "fillmode": "overlay",
              "size": 10,
              "solidity": 0.2
             }
            },
            "type": "histogram"
           }
          ],
          "histogram2d": [
           {
            "colorbar": {
             "outlinewidth": 0,
             "ticks": ""
            },
            "colorscale": [
             [
              0,
              "#0d0887"
             ],
             [
              0.1111111111111111,
              "#46039f"
             ],
             [
              0.2222222222222222,
              "#7201a8"
             ],
             [
              0.3333333333333333,
              "#9c179e"
             ],
             [
              0.4444444444444444,
              "#bd3786"
             ],
             [
              0.5555555555555556,
              "#d8576b"
             ],
             [
              0.6666666666666666,
              "#ed7953"
             ],
             [
              0.7777777777777778,
              "#fb9f3a"
             ],
             [
              0.8888888888888888,
              "#fdca26"
             ],
             [
              1,
              "#f0f921"
             ]
            ],
            "type": "histogram2d"
           }
          ],
          "histogram2dcontour": [
           {
            "colorbar": {
             "outlinewidth": 0,
             "ticks": ""
            },
            "colorscale": [
             [
              0,
              "#0d0887"
             ],
             [
              0.1111111111111111,
              "#46039f"
             ],
             [
              0.2222222222222222,
              "#7201a8"
             ],
             [
              0.3333333333333333,
              "#9c179e"
             ],
             [
              0.4444444444444444,
              "#bd3786"
             ],
             [
              0.5555555555555556,
              "#d8576b"
             ],
             [
              0.6666666666666666,
              "#ed7953"
             ],
             [
              0.7777777777777778,
              "#fb9f3a"
             ],
             [
              0.8888888888888888,
              "#fdca26"
             ],
             [
              1,
              "#f0f921"
             ]
            ],
            "type": "histogram2dcontour"
           }
          ],
          "mesh3d": [
           {
            "colorbar": {
             "outlinewidth": 0,
             "ticks": ""
            },
            "type": "mesh3d"
           }
          ],
          "parcoords": [
           {
            "line": {
             "colorbar": {
              "outlinewidth": 0,
              "ticks": ""
             }
            },
            "type": "parcoords"
           }
          ],
          "pie": [
           {
            "automargin": true,
            "type": "pie"
           }
          ],
          "scatter": [
           {
            "fillpattern": {
             "fillmode": "overlay",
             "size": 10,
             "solidity": 0.2
            },
            "type": "scatter"
           }
          ],
          "scatter3d": [
           {
            "line": {
             "colorbar": {
              "outlinewidth": 0,
              "ticks": ""
             }
            },
            "marker": {
             "colorbar": {
              "outlinewidth": 0,
              "ticks": ""
             }
            },
            "type": "scatter3d"
           }
          ],
          "scattercarpet": [
           {
            "marker": {
             "colorbar": {
              "outlinewidth": 0,
              "ticks": ""
             }
            },
            "type": "scattercarpet"
           }
          ],
          "scattergeo": [
           {
            "marker": {
             "colorbar": {
              "outlinewidth": 0,
              "ticks": ""
             }
            },
            "type": "scattergeo"
           }
          ],
          "scattergl": [
           {
            "marker": {
             "colorbar": {
              "outlinewidth": 0,
              "ticks": ""
             }
            },
            "type": "scattergl"
           }
          ],
          "scattermap": [
           {
            "marker": {
             "colorbar": {
              "outlinewidth": 0,
              "ticks": ""
             }
            },
            "type": "scattermap"
           }
          ],
          "scattermapbox": [
           {
            "marker": {
             "colorbar": {
              "outlinewidth": 0,
              "ticks": ""
             }
            },
            "type": "scattermapbox"
           }
          ],
          "scatterpolar": [
           {
            "marker": {
             "colorbar": {
              "outlinewidth": 0,
              "ticks": ""
             }
            },
            "type": "scatterpolar"
           }
          ],
          "scatterpolargl": [
           {
            "marker": {
             "colorbar": {
              "outlinewidth": 0,
              "ticks": ""
             }
            },
            "type": "scatterpolargl"
           }
          ],
          "scatterternary": [
           {
            "marker": {
             "colorbar": {
              "outlinewidth": 0,
              "ticks": ""
             }
            },
            "type": "scatterternary"
           }
          ],
          "surface": [
           {
            "colorbar": {
             "outlinewidth": 0,
             "ticks": ""
            },
            "colorscale": [
             [
              0,
              "#0d0887"
             ],
             [
              0.1111111111111111,
              "#46039f"
             ],
             [
              0.2222222222222222,
              "#7201a8"
             ],
             [
              0.3333333333333333,
              "#9c179e"
             ],
             [
              0.4444444444444444,
              "#bd3786"
             ],
             [
              0.5555555555555556,
              "#d8576b"
             ],
             [
              0.6666666666666666,
              "#ed7953"
             ],
             [
              0.7777777777777778,
              "#fb9f3a"
             ],
             [
              0.8888888888888888,
              "#fdca26"
             ],
             [
              1,
              "#f0f921"
             ]
            ],
            "type": "surface"
           }
          ],
          "table": [
           {
            "cells": {
             "fill": {
              "color": "#EBF0F8"
             },
             "line": {
              "color": "white"
             }
            },
            "header": {
             "fill": {
              "color": "#C8D4E3"
             },
             "line": {
              "color": "white"
             }
            },
            "type": "table"
           }
          ]
         },
         "layout": {
          "annotationdefaults": {
           "arrowcolor": "#2a3f5f",
           "arrowhead": 0,
           "arrowwidth": 1
          },
          "autotypenumbers": "strict",
          "coloraxis": {
           "colorbar": {
            "outlinewidth": 0,
            "ticks": ""
           }
          },
          "colorscale": {
           "diverging": [
            [
             0,
             "#8e0152"
            ],
            [
             0.1,
             "#c51b7d"
            ],
            [
             0.2,
             "#de77ae"
            ],
            [
             0.3,
             "#f1b6da"
            ],
            [
             0.4,
             "#fde0ef"
            ],
            [
             0.5,
             "#f7f7f7"
            ],
            [
             0.6,
             "#e6f5d0"
            ],
            [
             0.7,
             "#b8e186"
            ],
            [
             0.8,
             "#7fbc41"
            ],
            [
             0.9,
             "#4d9221"
            ],
            [
             1,
             "#276419"
            ]
           ],
           "sequential": [
            [
             0,
             "#0d0887"
            ],
            [
             0.1111111111111111,
             "#46039f"
            ],
            [
             0.2222222222222222,
             "#7201a8"
            ],
            [
             0.3333333333333333,
             "#9c179e"
            ],
            [
             0.4444444444444444,
             "#bd3786"
            ],
            [
             0.5555555555555556,
             "#d8576b"
            ],
            [
             0.6666666666666666,
             "#ed7953"
            ],
            [
             0.7777777777777778,
             "#fb9f3a"
            ],
            [
             0.8888888888888888,
             "#fdca26"
            ],
            [
             1,
             "#f0f921"
            ]
           ],
           "sequentialminus": [
            [
             0,
             "#0d0887"
            ],
            [
             0.1111111111111111,
             "#46039f"
            ],
            [
             0.2222222222222222,
             "#7201a8"
            ],
            [
             0.3333333333333333,
             "#9c179e"
            ],
            [
             0.4444444444444444,
             "#bd3786"
            ],
            [
             0.5555555555555556,
             "#d8576b"
            ],
            [
             0.6666666666666666,
             "#ed7953"
            ],
            [
             0.7777777777777778,
             "#fb9f3a"
            ],
            [
             0.8888888888888888,
             "#fdca26"
            ],
            [
             1,
             "#f0f921"
            ]
           ]
          },
          "colorway": [
           "#636efa",
           "#EF553B",
           "#00cc96",
           "#ab63fa",
           "#FFA15A",
           "#19d3f3",
           "#FF6692",
           "#B6E880",
           "#FF97FF",
           "#FECB52"
          ],
          "font": {
           "color": "#2a3f5f"
          },
          "geo": {
           "bgcolor": "white",
           "lakecolor": "white",
           "landcolor": "white",
           "showlakes": true,
           "showland": true,
           "subunitcolor": "#C8D4E3"
          },
          "hoverlabel": {
           "align": "left"
          },
          "hovermode": "closest",
          "mapbox": {
           "style": "light"
          },
          "paper_bgcolor": "white",
          "plot_bgcolor": "white",
          "polar": {
           "angularaxis": {
            "gridcolor": "#EBF0F8",
            "linecolor": "#EBF0F8",
            "ticks": ""
           },
           "bgcolor": "white",
           "radialaxis": {
            "gridcolor": "#EBF0F8",
            "linecolor": "#EBF0F8",
            "ticks": ""
           }
          },
          "scene": {
           "xaxis": {
            "backgroundcolor": "white",
            "gridcolor": "#DFE8F3",
            "gridwidth": 2,
            "linecolor": "#EBF0F8",
            "showbackground": true,
            "ticks": "",
            "zerolinecolor": "#EBF0F8"
           },
           "yaxis": {
            "backgroundcolor": "white",
            "gridcolor": "#DFE8F3",
            "gridwidth": 2,
            "linecolor": "#EBF0F8",
            "showbackground": true,
            "ticks": "",
            "zerolinecolor": "#EBF0F8"
           },
           "zaxis": {
            "backgroundcolor": "white",
            "gridcolor": "#DFE8F3",
            "gridwidth": 2,
            "linecolor": "#EBF0F8",
            "showbackground": true,
            "ticks": "",
            "zerolinecolor": "#EBF0F8"
           }
          },
          "shapedefaults": {
           "line": {
            "color": "#2a3f5f"
           }
          },
          "ternary": {
           "aaxis": {
            "gridcolor": "#DFE8F3",
            "linecolor": "#A2B1C6",
            "ticks": ""
           },
           "baxis": {
            "gridcolor": "#DFE8F3",
            "linecolor": "#A2B1C6",
            "ticks": ""
           },
           "bgcolor": "white",
           "caxis": {
            "gridcolor": "#DFE8F3",
            "linecolor": "#A2B1C6",
            "ticks": ""
           }
          },
          "title": {
           "x": 0.05
          },
          "xaxis": {
           "automargin": true,
           "gridcolor": "#EBF0F8",
           "linecolor": "#EBF0F8",
           "ticks": "",
           "title": {
            "standoff": 15
           },
           "zerolinecolor": "#EBF0F8",
           "zerolinewidth": 2
          },
          "yaxis": {
           "automargin": true,
           "gridcolor": "#EBF0F8",
           "linecolor": "#EBF0F8",
           "ticks": "",
           "title": {
            "standoff": 15
           },
           "zerolinecolor": "#EBF0F8",
           "zerolinewidth": 2
          }
         }
        },
        "title": {
         "text": "Multivariate State-Space Simulation: Observations, Latent States, and Regressors"
        },
        "width": 950,
        "xaxis": {
         "anchor": "y",
         "domain": [
          0,
          1
         ],
         "matches": "x3",
         "showticklabels": false
        },
        "xaxis2": {
         "anchor": "y2",
         "domain": [
          0,
          1
         ],
         "matches": "x3",
         "showticklabels": false
        },
        "xaxis3": {
         "anchor": "y3",
         "domain": [
          0,
          1
         ],
         "title": {
          "text": "Time"
         }
        },
        "yaxis": {
         "anchor": "x",
         "domain": [
          0.7777777777777778,
          1
         ],
         "title": {
          "text": "Value"
         }
        },
        "yaxis2": {
         "anchor": "x2",
         "domain": [
          0.3888888888888889,
          0.6111111111111112
         ],
         "title": {
          "text": "Value"
         }
        },
        "yaxis3": {
         "anchor": "x3",
         "domain": [
          0,
          0.22222222222222224
         ],
         "title": {
          "text": "Value"
         }
        }
       }
      }
     },
     "metadata": {},
     "output_type": "display_data"
    }
   ],
   "source": [
    "from plotly.subplots import make_subplots\n",
    "import plotly.graph_objects as go\n",
    "import numpy as np\n",
    "\n",
    "time_axis = np.arange(T)\n",
    "K = X_sim.shape[1]\n",
    "\n",
    "# Create subplots: N rows for dimensions + 1 for regressors\n",
    "fig = make_subplots(\n",
    "    rows=N + 1, cols=1, shared_xaxes=True,\n",
    "    subplot_titles=[f\"Dimension {i+1}\" for i in range(N)] + [\"Regressors X_t\"]\n",
    ")\n",
    "\n",
    "# --- Add y and mu plots per dimension ---\n",
    "for dim in range(N):\n",
    "    fig.add_trace(go.Scatter(\n",
    "        x=time_axis, y=y_sim[:, dim],\n",
    "        mode='lines', name=f'Observation y[{dim+1}]',\n",
    "        line=dict(width=1.5), opacity=0.7\n",
    "    ), row=dim+1, col=1)\n",
    "\n",
    "    fig.add_trace(go.Scatter(\n",
    "        x=time_axis, y=mu_sim[:, dim],\n",
    "        mode='lines', name=f'Latent state μ[{dim+1}]',\n",
    "        line=dict(width=2, dash='dash')\n",
    "    ), row=dim+1, col=1)\n",
    "\n",
    "# --- Plot each regressor in final subplot row ---\n",
    "for k in range(K):\n",
    "    fig.add_trace(go.Scatter(\n",
    "        x=time_axis, y=X_sim[:, k],\n",
    "        mode='lines', name=f'Regressor X[{k+1}]',\n",
    "        line=dict(width=1)\n",
    "    ), row=N+1, col=1)\n",
    "\n",
    "# --- Layout styling ---\n",
    "fig.update_layout(\n",
    "    height=300 * (N + 1),\n",
    "    width=950,\n",
    "    title_text=\"Multivariate State-Space Simulation: Observations, Latent States, and Regressors\",\n",
    "    template=\"plotly_white\",\n",
    "    showlegend=True\n",
    ")\n",
    "\n",
    "fig.update_xaxes(title_text=\"Time\", row=N+1, col=1)\n",
    "fig.update_yaxes(title_text=\"Value\")\n",
    "\n",
    "fig.show()\n"
   ]
  },
  {
   "cell_type": "markdown",
   "id": "12a01135",
   "metadata": {},
   "source": [
    "# Multivariate GAS Model"
   ]
  },
  {
   "cell_type": "code",
   "execution_count": 34,
   "id": "8c0f5be0",
   "metadata": {},
   "outputs": [],
   "source": [
    "# def simulate_multivariate_t_gas(T, N, omega, Phi, K_mat, Omega, nu, beta = None, seed = None):\n",
    "#     \"\"\"\n",
    "#     Simulate multivariate GAS model data explicitly, optionally with regressors.\n",
    "\n",
    "#     Model explicitly stated:\n",
    "#         y_t = mu_t + X_t @ beta + eps_t, eps_t ~ t_nu(0, Omega)\n",
    "#         mu_{t+1} = omega + Phi(mu_t - omega) + K_mat * u_t\n",
    "\n",
    "#     Explicitly defined scaled score:\n",
    "#         u_t = ((nu + N) * inv_Omega @ residual) / (nu + residual' @ inv_Omega @ residual)\n",
    "\n",
    "#     Parameters:\n",
    "#     -----------\n",
    "#     T : int\n",
    "#         Number of observations.\n",
    "#     N : int\n",
    "#         Dimension of the response vector.\n",
    "#     omega : ndarray (N,)\n",
    "#         GAS intercept explicitly.\n",
    "#     Phi : ndarray (N, N)\n",
    "#         GAS transition matrix explicitly.\n",
    "#     K_mat : ndarray (N, N)\n",
    "#         GAS updating matrix explicitly.\n",
    "#     Omega : ndarray (N, N)\n",
    "#         Covariance matrix (positive definite).\n",
    "#     nu : float\n",
    "#         Degrees of freedom for Student's t-distribution.\n",
    "#     beta : ndarray (K, N) or None, optional\n",
    "#         Regression coefficient matrix. If None, no regressors included explicitly.\n",
    "#     seed : int or None, optional\n",
    "#         Random seed for reproducibility.\n",
    "\n",
    "#     Returns:\n",
    "#     --------\n",
    "#     y : ndarray (T, N)\n",
    "#         Simulated observations explicitly.\n",
    "#     mu : ndarray (T, N)\n",
    "#         Simulated latent states explicitly.\n",
    "#     X : ndarray (T, K) or None\n",
    "#         Simulated regressors explicitly if beta provided, else None.\n",
    "#     \"\"\"\n",
    "#     if seed is not None:\n",
    "#         np.random.seed(seed)\n",
    "    \n",
    "#     # Validate dimensions\n",
    "#     omega = np.asarray(omega).reshape(N, )\n",
    "#     Phi = np.asarray(Phi).reshape(N, N)\n",
    "#     K_mat = np.asarray(K_mat).reshape(N, N)\n",
    "#     Omega = np.asarray(Omega).reshape(N, N)\n",
    "#     inv_Omega = np.linalg.inv(Omega)\n",
    "\n",
    "#     # Check if regressors explicitly provided\n",
    "#     if beta is not None:\n",
    "#         beta = np.asarray(beta)\n",
    "#         K = beta.shape[0]\n",
    "#         X = np.random.normal(size=(T, K))\n",
    "#     else:\n",
    "#         K = 0\n",
    "#         X = None\n",
    "\n",
    "#     mu = np.zeros((T, N))\n",
    "#     y = np.zeros((T, N))\n",
    "#     mu[0] = omega # Initial state\n",
    "\n",
    "#     for i in tqdm(range(T)):\n",
    "#         if beta is not None:\n",
    "#             pred = mu[i-1] + X[i] @ beta\n",
    "#         else:\n",
    "#             pred = mu[i-1]\n",
    "        \n",
    "#         # Generate multivariate t-distributed noise\n",
    "#         eps_t = multivariate_t.rvs(df=nu, loc=np.zeros(N), shape=Omega)\n",
    "#         y[i] = pred + eps_t\n",
    "\n",
    "#         # Compute residual\n",
    "#         resid = y[i] - pred\n",
    "\n",
    "#         # Compute mahalanobis distance\n",
    "#         mahalanobis = resid @ inv_Omega @ resid \n",
    "\n",
    "#         # Compute scaled score\n",
    "#         weight = (nu + N) / (nu + mahalanobis)\n",
    "#         u_t = weight * (inv_Omega @ resid)\n",
    "\n",
    "#         # GAS latent state update\n",
    "#         mu[i] = omega + Phi @ (mu[i-1] - omega) + K_mat @ u_t\n",
    "\n",
    "#     return y, mu, X \n",
    "\n",
    "\n",
    "def simulate_multivariate_t_gas(T, N, omega, Phi, K_mat, Omega, nu, beta=None, intercept=True, seed=None):\n",
    "    \"\"\"\n",
    "    Simulate multivariate GAS model data, optionally with regressors and intercept.\n",
    "\n",
    "    Model:\n",
    "        y_t = mu_t + X_t @ beta + eps_t, eps_t ~ t_nu(0, Omega)\n",
    "        mu_{t+1} = omega + Phi(mu_t - omega) + K_mat * u_t\n",
    "\n",
    "    Scaled score:\n",
    "        u_t = ((nu + N) * inv_Omega @ residual) / (nu + residual.T @ inv_Omega @ residual)\n",
    "\n",
    "    Parameters:\n",
    "    -----------\n",
    "    T : int\n",
    "        Number of time steps.\n",
    "    N : int\n",
    "        Dimension of the response vector.\n",
    "    omega : ndarray (N,)\n",
    "        GAS intercept.\n",
    "    Phi : ndarray (N, N)\n",
    "        Transition matrix.\n",
    "    K_mat : ndarray (N, N)\n",
    "        GAS score update matrix.\n",
    "    Omega : ndarray (N, N)\n",
    "        Covariance matrix.\n",
    "    nu : float\n",
    "        Degrees of freedom of Student's t.\n",
    "    beta : ndarray (K or K+1, N), optional\n",
    "        Regression coefficient matrix.\n",
    "    intercept : bool\n",
    "        If True, adds intercept column to X (first column of ones).\n",
    "    seed : int, optional\n",
    "        Random seed.\n",
    "\n",
    "    Returns:\n",
    "    --------\n",
    "    y : ndarray (T, N)\n",
    "        Simulated observations.\n",
    "    mu : ndarray (T, N)\n",
    "        Simulated latent state.\n",
    "    X : ndarray (T, K or K+1) or None\n",
    "        Regressor matrix.\n",
    "    \"\"\"\n",
    "    if seed is not None:\n",
    "        np.random.seed(seed)\n",
    "\n",
    "    omega = np.asarray(omega).reshape(N)\n",
    "    Phi = np.asarray(Phi).reshape(N, N)\n",
    "    K_mat = np.asarray(K_mat).reshape(N, N)\n",
    "    Omega = np.asarray(Omega).reshape(N, N)\n",
    "    inv_Omega = np.linalg.inv(Omega)\n",
    "\n",
    "    if beta is not None:\n",
    "        beta = np.asarray(beta)\n",
    "        K_full = beta.shape[0]\n",
    "        K = K_full - 1 if intercept else K_full\n",
    "        X_raw = np.random.normal(size=(T, K))\n",
    "        X = np.ones((T, K_full)) if intercept else np.empty((T, K_full))\n",
    "        if intercept:\n",
    "            X[:, 1:] = X_raw\n",
    "        else:\n",
    "            X[:, :] = X_raw\n",
    "    else:\n",
    "        X = None\n",
    "\n",
    "    mu = np.zeros((T, N))\n",
    "    y = np.zeros((T, N))\n",
    "    mu[0] = omega.copy()\n",
    "\n",
    "    for t in tqdm(range(T)):\n",
    "        if beta is not None:\n",
    "            pred = mu[t - 1] + X[t] @ beta\n",
    "        else:\n",
    "            pred = mu[t - 1]\n",
    "\n",
    "        eps_t = multivariate_t.rvs(df=nu, loc=np.zeros(N), shape=Omega)\n",
    "        y[t] = pred + eps_t\n",
    "\n",
    "        resid = y[t] - pred\n",
    "        mahalanobis = resid @ inv_Omega @ resid\n",
    "        weight = (nu + N) / (nu + mahalanobis)\n",
    "        u_t = weight * (inv_Omega @ resid)\n",
    "\n",
    "        mu[t] = omega + Phi @ (mu[t - 1] - omega) + K_mat @ u_t\n",
    "\n",
    "    return y, mu, X\n"
   ]
  },
  {
   "cell_type": "code",
   "execution_count": 8,
   "id": "16d230c8",
   "metadata": {},
   "outputs": [
    {
     "name": "stderr",
     "output_type": "stream",
     "text": [
      "100%|██████████| 500/500 [00:00<00:00, 29799.67it/s]"
     ]
    },
    {
     "name": "stdout",
     "output_type": "stream",
     "text": [
      "✅ GAS simulation without regressors explicitly completed.\n"
     ]
    },
    {
     "name": "stderr",
     "output_type": "stream",
     "text": [
      "\n"
     ]
    }
   ],
   "source": [
    "# Explicit simulation parameters without regressors\n",
    "T = 500\n",
    "N = 2\n",
    "omega_true = np.array([0.5, -0.2])\n",
    "Phi_true = np.array([[0.8, 0.1], [0.05, 0.85]])\n",
    "K_mat_true = np.array([[0.6, 0.05], [0.05, 0.5]])\n",
    "Omega_true = np.array([[1.0, 0.2], [0.2, 0.8]])\n",
    "nu_true = 10.0\n",
    "\n",
    "y_sim, mu_sim, _ = simulate_multivariate_t_gas(\n",
    "    T=T,\n",
    "    N=N,\n",
    "    omega=omega_true,\n",
    "    Phi=Phi_true,\n",
    "    K_mat=K_mat_true,\n",
    "    Omega=Omega_true,\n",
    "    nu=nu_true,\n",
    "    beta=None,  # No regressors explicitly\n",
    "    seed=8888\n",
    ")\n",
    "\n",
    "print(\"✅ GAS simulation without regressors explicitly completed.\")\n"
   ]
  },
  {
   "cell_type": "code",
   "execution_count": 43,
   "id": "aebe9fb3",
   "metadata": {},
   "outputs": [
    {
     "name": "stderr",
     "output_type": "stream",
     "text": [
      "100%|██████████| 500/500 [00:00<00:00, 20376.53it/s]"
     ]
    },
    {
     "name": "stdout",
     "output_type": "stream",
     "text": [
      "✅ GAS simulation with regressors explicitly completed.\n"
     ]
    },
    {
     "name": "stderr",
     "output_type": "stream",
     "text": [
      "\n"
     ]
    }
   ],
   "source": [
    "# Explicit simulation parameters with regressors\n",
    "T = 500\n",
    "N = 2\n",
    "K = 3\n",
    "omega_true = np.array([0.5, -0.2])\n",
    "\n",
    "Phi_true = np.array([[0.8, 0.1], [0.05, 0.85]])\n",
    "K_mat_true = np.array([[0.6, 0.05], [0.05, 0.5]])\n",
    "beta_true = np.array([[1.0, -0.5], [-1.2, 0.8], [0.5, 1.5]])\n",
    "Omega_true = np.array([[1.0, 0.2], [0.2, 0.8]])\n",
    "nu_true = 10.0\n",
    "\n",
    "y_mtg, mu_mtg, X_mtg = simulate_multivariate_t_gas(\n",
    "    T=T,\n",
    "    N=N,\n",
    "    omega=omega_true,\n",
    "    Phi=Phi_true,\n",
    "    K_mat=K_mat_true,\n",
    "    beta=beta_true,  # With regressors explicitly\n",
    "    Omega=Omega_true,\n",
    "    nu=nu_true,\n",
    "    # intercept=False,  # Explicitly include intercept\n",
    "    seed=8888\n",
    ")\n",
    "\n",
    "print(\"✅ GAS simulation with regressors explicitly completed.\")\n"
   ]
  },
  {
   "cell_type": "code",
   "execution_count": 44,
   "id": "5f35eea1",
   "metadata": {},
   "outputs": [
    {
     "data": {
      "application/vnd.plotly.v1+json": {
       "config": {
        "plotlyServerURL": "https://plot.ly"
       },
       "data": [
        {
         "line": {
          "width": 1.5
         },
         "mode": "lines",
         "name": "Observation y[1]",
         "opacity": 0.7,
         "type": "scatter",
         "x": {
          "bdata": "AAABAAIAAwAEAAUABgAHAAgACQAKAAsADAANAA4ADwAQABEAEgATABQAFQAWABcAGAAZABoAGwAcAB0AHgAfACAAIQAiACMAJAAlACYAJwAoACkAKgArACwALQAuAC8AMAAxADIAMwA0ADUANgA3ADgAOQA6ADsAPAA9AD4APwBAAEEAQgBDAEQARQBGAEcASABJAEoASwBMAE0ATgBPAFAAUQBSAFMAVABVAFYAVwBYAFkAWgBbAFwAXQBeAF8AYABhAGIAYwBkAGUAZgBnAGgAaQBqAGsAbABtAG4AbwBwAHEAcgBzAHQAdQB2AHcAeAB5AHoAewB8AH0AfgB/AIAAgQCCAIMAhACFAIYAhwCIAIkAigCLAIwAjQCOAI8AkACRAJIAkwCUAJUAlgCXAJgAmQCaAJsAnACdAJ4AnwCgAKEAogCjAKQApQCmAKcAqACpAKoAqwCsAK0ArgCvALAAsQCyALMAtAC1ALYAtwC4ALkAugC7ALwAvQC+AL8AwADBAMIAwwDEAMUAxgDHAMgAyQDKAMsAzADNAM4AzwDQANEA0gDTANQA1QDWANcA2ADZANoA2wDcAN0A3gDfAOAA4QDiAOMA5ADlAOYA5wDoAOkA6gDrAOwA7QDuAO8A8ADxAPIA8wD0APUA9gD3APgA+QD6APsA/AD9AP4A/wAAAQEBAgEDAQQBBQEGAQcBCAEJAQoBCwEMAQ0BDgEPARABEQESARMBFAEVARYBFwEYARkBGgEbARwBHQEeAR8BIAEhASIBIwEkASUBJgEnASgBKQEqASsBLAEtAS4BLwEwATEBMgEzATQBNQE2ATcBOAE5AToBOwE8AT0BPgE/AUABQQFCAUMBRAFFAUYBRwFIAUkBSgFLAUwBTQFOAU8BUAFRAVIBUwFUAVUBVgFXAVgBWQFaAVsBXAFdAV4BXwFgAWEBYgFjAWQBZQFmAWcBaAFpAWoBawFsAW0BbgFvAXABcQFyAXMBdAF1AXYBdwF4AXkBegF7AXwBfQF+AX8BgAGBAYIBgwGEAYUBhgGHAYgBiQGKAYsBjAGNAY4BjwGQAZEBkgGTAZQBlQGWAZcBmAGZAZoBmwGcAZ0BngGfAaABoQGiAaMBpAGlAaYBpwGoAakBqgGrAawBrQGuAa8BsAGxAbIBswG0AbUBtgG3AbgBuQG6AbsBvAG9Ab4BvwHAAcEBwgHDAcQBxQHGAccByAHJAcoBywHMAc0BzgHPAdAB0QHSAdMB1AHVAdYB1wHYAdkB2gHbAdwB3QHeAd8B4AHhAeIB4wHkAeUB5gHnAegB6QHqAesB7AHtAe4B7wHwAfEB8gHzAQ==",
          "dtype": "i2"
         },
         "xaxis": "x",
         "y": {
          "bdata": "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",
          "dtype": "f8"
         },
         "yaxis": "y"
        },
        {
         "line": {
          "dash": "dash",
          "width": 2
         },
         "mode": "lines",
         "name": "Latent state μ[1]",
         "type": "scatter",
         "x": {
          "bdata": "AAABAAIAAwAEAAUABgAHAAgACQAKAAsADAANAA4ADwAQABEAEgATABQAFQAWABcAGAAZABoAGwAcAB0AHgAfACAAIQAiACMAJAAlACYAJwAoACkAKgArACwALQAuAC8AMAAxADIAMwA0ADUANgA3ADgAOQA6ADsAPAA9AD4APwBAAEEAQgBDAEQARQBGAEcASABJAEoASwBMAE0ATgBPAFAAUQBSAFMAVABVAFYAVwBYAFkAWgBbAFwAXQBeAF8AYABhAGIAYwBkAGUAZgBnAGgAaQBqAGsAbABtAG4AbwBwAHEAcgBzAHQAdQB2AHcAeAB5AHoAewB8AH0AfgB/AIAAgQCCAIMAhACFAIYAhwCIAIkAigCLAIwAjQCOAI8AkACRAJIAkwCUAJUAlgCXAJgAmQCaAJsAnACdAJ4AnwCgAKEAogCjAKQApQCmAKcAqACpAKoAqwCsAK0ArgCvALAAsQCyALMAtAC1ALYAtwC4ALkAugC7ALwAvQC+AL8AwADBAMIAwwDEAMUAxgDHAMgAyQDKAMsAzADNAM4AzwDQANEA0gDTANQA1QDWANcA2ADZANoA2wDcAN0A3gDfAOAA4QDiAOMA5ADlAOYA5wDoAOkA6gDrAOwA7QDuAO8A8ADxAPIA8wD0APUA9gD3APgA+QD6APsA/AD9AP4A/wAAAQEBAgEDAQQBBQEGAQcBCAEJAQoBCwEMAQ0BDgEPARABEQESARMBFAEVARYBFwEYARkBGgEbARwBHQEeAR8BIAEhASIBIwEkASUBJgEnASgBKQEqASsBLAEtAS4BLwEwATEBMgEzATQBNQE2ATcBOAE5AToBOwE8AT0BPgE/AUABQQFCAUMBRAFFAUYBRwFIAUkBSgFLAUwBTQFOAU8BUAFRAVIBUwFUAVUBVgFXAVgBWQFaAVsBXAFdAV4BXwFgAWEBYgFjAWQBZQFmAWcBaAFpAWoBawFsAW0BbgFvAXABcQFyAXMBdAF1AXYBdwF4AXkBegF7AXwBfQF+AX8BgAGBAYIBgwGEAYUBhgGHAYgBiQGKAYsBjAGNAY4BjwGQAZEBkgGTAZQBlQGWAZcBmAGZAZoBmwGcAZ0BngGfAaABoQGiAaMBpAGlAaYBpwGoAakBqgGrAawBrQGuAa8BsAGxAbIBswG0AbUBtgG3AbgBuQG6AbsBvAG9Ab4BvwHAAcEBwgHDAcQBxQHGAccByAHJAcoBywHMAc0BzgHPAdAB0QHSAdMB1AHVAdYB1wHYAdkB2gHbAdwB3QHeAd8B4AHhAeIB4wHkAeUB5gHnAegB6QHqAesB7AHtAe4B7wHwAfEB8gHzAQ==",
          "dtype": "i2"
         },
         "xaxis": "x",
         "y": {
          "bdata": "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",
          "dtype": "f8"
         },
         "yaxis": "y"
        },
        {
         "line": {
          "width": 1.5
         },
         "mode": "lines",
         "name": "Observation y[2]",
         "opacity": 0.7,
         "type": "scatter",
         "x": {
          "bdata": "AAABAAIAAwAEAAUABgAHAAgACQAKAAsADAANAA4ADwAQABEAEgATABQAFQAWABcAGAAZABoAGwAcAB0AHgAfACAAIQAiACMAJAAlACYAJwAoACkAKgArACwALQAuAC8AMAAxADIAMwA0ADUANgA3ADgAOQA6ADsAPAA9AD4APwBAAEEAQgBDAEQARQBGAEcASABJAEoASwBMAE0ATgBPAFAAUQBSAFMAVABVAFYAVwBYAFkAWgBbAFwAXQBeAF8AYABhAGIAYwBkAGUAZgBnAGgAaQBqAGsAbABtAG4AbwBwAHEAcgBzAHQAdQB2AHcAeAB5AHoAewB8AH0AfgB/AIAAgQCCAIMAhACFAIYAhwCIAIkAigCLAIwAjQCOAI8AkACRAJIAkwCUAJUAlgCXAJgAmQCaAJsAnACdAJ4AnwCgAKEAogCjAKQApQCmAKcAqACpAKoAqwCsAK0ArgCvALAAsQCyALMAtAC1ALYAtwC4ALkAugC7ALwAvQC+AL8AwADBAMIAwwDEAMUAxgDHAMgAyQDKAMsAzADNAM4AzwDQANEA0gDTANQA1QDWANcA2ADZANoA2wDcAN0A3gDfAOAA4QDiAOMA5ADlAOYA5wDoAOkA6gDrAOwA7QDuAO8A8ADxAPIA8wD0APUA9gD3APgA+QD6APsA/AD9AP4A/wAAAQEBAgEDAQQBBQEGAQcBCAEJAQoBCwEMAQ0BDgEPARABEQESARMBFAEVARYBFwEYARkBGgEbARwBHQEeAR8BIAEhASIBIwEkASUBJgEnASgBKQEqASsBLAEtAS4BLwEwATEBMgEzATQBNQE2ATcBOAE5AToBOwE8AT0BPgE/AUABQQFCAUMBRAFFAUYBRwFIAUkBSgFLAUwBTQFOAU8BUAFRAVIBUwFUAVUBVgFXAVgBWQFaAVsBXAFdAV4BXwFgAWEBYgFjAWQBZQFmAWcBaAFpAWoBawFsAW0BbgFvAXABcQFyAXMBdAF1AXYBdwF4AXkBegF7AXwBfQF+AX8BgAGBAYIBgwGEAYUBhgGHAYgBiQGKAYsBjAGNAY4BjwGQAZEBkgGTAZQBlQGWAZcBmAGZAZoBmwGcAZ0BngGfAaABoQGiAaMBpAGlAaYBpwGoAakBqgGrAawBrQGuAa8BsAGxAbIBswG0AbUBtgG3AbgBuQG6AbsBvAG9Ab4BvwHAAcEBwgHDAcQBxQHGAccByAHJAcoBywHMAc0BzgHPAdAB0QHSAdMB1AHVAdYB1wHYAdkB2gHbAdwB3QHeAd8B4AHhAeIB4wHkAeUB5gHnAegB6QHqAesB7AHtAe4B7wHwAfEB8gHzAQ==",
          "dtype": "i2"
         },
         "xaxis": "x2",
         "y": {
          "bdata": "yCwCDr+jxT+6329STKIXQCopa/MQ6eC/CfdmG1G3zD8YNGXVZXvYP2fVSgilzPI/bCAqNyNO5L8ltpzFbCYCQJWwBhzes+q/v1aPryVK8j+U5XXlFuviP76wDCsiuOa/4K7TTZHGDsCmzD3Be6nrv+qZPCENHOS/yq/D4AOz7j/C3jRaJhnnP5Vks5gHb/C/3DE/Wz9L8D9UNFxaCUb8PxmcxyXNLwnA1SwT+i/4DsDAPz64eip3v3qWt9yQSg5A5JUchx3o2D8uJ6nVGhYQwOBcCUSDAsi/CdH9gbRQBcB7dFEt9A3wP0l8CTeKQvy/alXB7nRe679c9qD0vJoCwFgr+GmJGQnAA9aKZp0z5b8rU0vsqeT9v4SN82iinNm/6UrhArSj+b/w2n4NZGsHwBDJ5VSpFfS/glvTF5SI8j+Z/NPSnuj1PzRGCkI9ogBAnz0r5ng0AUCA3PaF9Yfkv2hWnA1ovds/IOK/cI3w/r+gFJu7ncn8v2hAEHVRhQLA9ikxjtms8r+iirLxXgn1v4YzBvGwrs2//qz4WiEr9L8hMP9MNAX8v5CC2aLp7fO/7s2DBj507b/elhCUtc0GwJ3QwJViUgTAouXfaSaOBsAoFa8mUfoQwExje61NZxfA1rB3qJRX+L+LOnEBC/wCwKyQRNgxhNW/joANirYPBEBExHoqDh/KP0z44Pv9tt2/zwUz/0IYGsDsJxE/rKURwOJLsTWer/G/vATVMqyds78xwwjllxzsvwL4ZrZqL/s/dIY1JP+/6z+YmOznEYriv1Ngf8jYBfc/2tI240Ud5z+61F0azX/xP11hDtVrBvq/Mle9hVGD5j87EDn5OwbpPyK7RXfOfwZAhIfraPrf979GTPosG6j5P+pqo4kdHBDAiS6i5aY9B8Dv+YVWY18AwKzGKH9U+PW/vKxduSt7378GTATZH774v5JC/JuCUNm/NNCMn1ZVC8DGz7rGoC8HwLB9in+2V8K/vKokV4aVAMAIX4VQkMHfP8I+3YnBeMU/SOI502q81b82IR8f7MrsP1kv5m/ZSuO/EtskTM5w+D9Iw6FvGwkGQNJAtfWh1LA/hsDFZjUs9j+J8lEbAvHjP5/uAFrV1/Y/kBc0uvBM27+YztPCiz/lv+C1uSFtAau/gVNYb9r54b/QqM2PNae/P0T6LIrmEwXAx0YdXKzoGcAmJYmrTun2v4j8ElXP/wFAqHFjnKaX4j/8W0f9I3nuPwYsqm3swgtApvEZDg7FDsBIus4EjLGhP9WIg0qCDNK/q+mVjqyc1L/OlUqmlGDlP57IVRDouPQ/x4CFTqDY8z8SvP76FVH1P7qfIfMiFQxABMOWq/KEF8DMho5WXmsJQESdt2SPe/G/oQV4z+WPEsDOi+vHexbxv3/MvhmfiPu/wF3O4f11+b9SLcDILD3tvzQlMOYziwLAMQ4txXrRDMDgojaqtNsFwMg3kJd3Wue/MvjUcZGw3b8+OmolGPj3P1Yc1PQ33vm/1zMo8NORB8CuyghRXq/IPyiqHhuLVce/Db1OlM4rDcDl9Pb5Q8gJwEmj9kuTUArA/NBfGPlY3784C8W0uCS+v98EDCjpUAjAqg+y7QYu7b+ML16X0szlv7UtbKxsueE/sWr/O2mD8r/lFO70sk4SwF4UoPco0c8/UN+/UdRa8j/TObVH7tThv0n/rJN0gOY/pKYoROxnAsAq5iUMyCwSwDFGOykNMBzAZZvIFQIrDMA2569+DbAEwAD04idnhBvAFL+MZxlzGcCURDvHd6cQwFJnAY/JngbA2v5QnRsSC8CENzIYy3YIwCfEaCHH4uo/zqnc9dXFBMCGp2xOUesAwPIqYVpkGtC/7aHzEh9C97/F9I7fAO/sP0WPegb63/A/2cJANgSC378J4hcemNIQQArvrG9X6wHAzoi19Ruy5T9iD4Tgsvb9v0vq5xqL9w/AAT1g7dKyDsCauGoJxlbjv1L9dYTglfC/xqaBND9zB8Ar2FCW3IgQwIQmD03wFhnA8+xRrtA2AsCg1bN8ScYYwCbUcXBptuS/ipKhgxa2BsBZklvIzw/ev5Xu9uN1wQvAFVPkOVOa+b+PYwQmxWAIwPaazCKB0P+/uilDF/1eA8BnYBg/RmsDwCbf318sKhHA+AOyaIWu/j8yhMQNdIrlP7rkOoALSeA/dat9YvpVAsCqQgd73qrkv6pjrSzoDAZAgA/HDHYq8D966tC00x/0v7CoLU2wPL0/GfhIVdKzAkCiHaEdC0IAQHu2dw31FfC/R1puyTLYBMA/0ZWCZ2MPQPhNtLHKe9W/1D0L6zef8T9qQgYxTMX+vy9urbH/SQJAvChgIDYxu7/x3zXxMgbzPwZUnTJelQvAHDcd9pgP9T+Fnz5dABT1P4YoLdH5T/A//IqYmjiE9b9Oa/y9TbIAQJLnCXhIfva/cKYuj7jD4D+AWEAYZZqSvwJ6NW7AoQFAulhtchkoBsA0/Lwz+f77v0lwyCnmMwjANeU/pHeV6z8yR0hvK4AEwPVL22zuSe2/mM51vUyEFsDvtjUNtzn3v6SoCD8WB7Y/SpEzhPy3AECGonuJrV7pv72XIDHSBfO/ecbsntLV4D8R0qy55fQVwEhkaXNU9dc/AGBi9i8eUb/qpFuSgVYWwE0UaahhyANA9VpYx4hD/b/Eyq4PgmHXv10X9E+YzxHA23kqsgwwBMD4Lw4D6+gKwEVMSQCVQPq/TGXPl7Jn9L///PwlgcISwCv6nGziKQrATpeAtSeh+r+mBnMk4hbwvw1Y/hTEUvg/pLdhgmWMCsApiNaVujX+v/4PVjRAFuW/QKD2BD9v7b9vOrv08cn+v7ijWoFVN+K/zn8BZ+MmC8A4r9+eJf8BwMAJycL3xg3AMFhpeixC7j/xstmNQzUKwBZYVc6iIgPAZdi2E1NK7j/G+1ItAbv2v1BhG/yA0+6/aDJh9k4StT8MkrcH0dvPv5ihpjQh/Mu/sA0WbYPDu7+GEsrM+BEFQBMQdYy/T/A/SGDj+aT9378W5Fkgj4HLvxGHKesA0Om/UEUxeWITlT+cwDCjkLEOwICTE6irbcG/B2feo/LaFMDpMrGua4oBQNaNCgwijfA/WiRFHJw23L8XPwGmGFfxv4GSNuoeNAbASN6o5vm02r+B93ZMTiLwP1RimsgKTeE/ayWD9IlWBEBp4llfgyUBQDbbYK1/8PG/RJ6oB3beAsBK9s9NQo4BwOtHnn3EngfAg4YDEn9LEsDk0hKuS/zvP16L6nWljfg/L2Xd7QOn9L/210pYjIT+P6roOa+Dov+/YGwUlttdAUCIPK+SC4DHv4E1JrC+7sa/6Y3KTzzG8D9UkZWjl3LuPxDwGwHm5NE/PsuaIrUW6T/L+wVRzSD0P8e9FsuQsvK/EButMBdqz7+7rPSLHePiP+rIy7QGTwNA1Hkph4sUEUCaOKh4w637v7AtwAX4PIA/5Z3cCFzS9j/Od15+MirpPw2mnk59wfs/g1ikUw7YA0B24B7jrEYGwL9Hv2fmDApA6DWlI3B/tr8GNjnAqG7yP2c8kZ7IxwjA63O44v6OAkA4Sg+6ljX1v7LnDhGuZgnA9jckG38N0T9OIpiTlT/VPwAAJv4qWkC/2nPGUZSoAkBX4wGEDtMFQKAKpK5ewvE/7SwoSyz8C0Aar59F/EUMQH0yerGF6vo/BfBbQXQrDcBWokcI02URQC+XSbKbMfC/Fl0WfWM5+j83C0uyWJ7vvykDu0Ohf/Q/fEiZU/2B8j+qmyY4uvzpP9CXPNp3huK/Uw7+2jZ+5D/BqtDons8BQJBbZKxBC7G/9RUz9MNE5D+YPAXKxDHyPyjAZyiVmPA/I5VsTyXh9D9w96Q7SqLnP5HY4pvY8eK/Ms1rX9Xs/z991819m8f/vzje6s4ijei/AuTPa+LW7T/d/6VYNkrkv5zK9KzD0vq/4pPbY/6F5L8wsYXIUCz3vwAnKP8Daei/Da52zabgAUCiuamgYdDpP2YMpW6/QwxAIHIrGyUn97+0sU3dxxT0P0EncLM2nfi/PolOxe2O7j9Lw0xaXH0BwK6CzylyCOI/uLVcmJFC3D+At1rEy6R8v/XdOOycB+K/sh59iTC077/iFH5HcAb9P9b+qlNKJNQ/hmMUfsg1CcAV09KVRyoKQEiMHyYEB+s/dgIi7xeoDMBlbMhV707iP71/6AiTWAPAUQHp29iszj/UUg3oo0EAwLvz5SzXu+S/Urgyl5NP47/Y1kcn4EnMv0Z3VBnqyAnADldlvL0x1z+EUlXo8xwJQHnjsu3hSQRAHZNrJuKf5j9Uw6EEI3j3v99NJJym8/k/5oDIxW13AcB8dt0KKEMAQHz7uh/pPsc/trBwd3IoBcDC/exsR2QQwMiWqeinNPq/ca6QP1SlAcC7wlPZX3D5vxRVAYdTquY/8JlDbDssvr/8cYvkiaDqPyzRHnPE4OC/etIly3w857/uPl5AObP9v6mRcDNjR++/5t74C/EH0b+TSDVNHc4GwEREZAem6g/A3kzvzie15b/LYH1kDKjMv1wLY8DxcPi/WO+ojJJy7b9VqwlSe23pvwgu0UW9Q7U/aPOElBVm879iQjumWxj0P7q3gJdxX/u/7KBQ4pe95j+k1RkV2K3jvyA14OXuNv4/eLAXxfq4AkD4BBnwojbxP1RLpQotzua/DpeOXjtwBkBAtmvVtE0QQBnzPAgvqQFAvhz+/Ifd6T/NvTTLSbL2v1zikTkz2+e/fK3x+yr/CMAc7GFNuoT/P0oJV4P1L/i/yAs7vk/2wr9MXxdIdO/Tv/svr3ON0wHAx3Dkt/rS5j/ji52lYxjlPzApDZZeuo8/2qUxlRpv6r/MllLsyncAwIjR+zZL/wRAAAvAUuYRxj+kduoWnAICwPBdGH1CcAZAUP7j3Z+O+r/a2sh3ikTwPw8ctYay8AvARtSAel+vCMDTBOttJyf9P/4BYgafRdK/qCVKlfo2DMBXmnQrA8kDQK/CPd9KI+W/8bSW075f4T8fP2TjFI8BQGzxxWKJ5AZAOLg14cPzzb/oHvj1/uLbvzWHus7Xxu8/dEw1wrxAEkDQ34f4mQ4KQOL6Hvlz3Ow/AvGn9FZcEEB/I7IIxpoCQByKGIqsFui/H+LkRnw5/T938H2lix0OQMSVvHkNxty/XxDKyTWC4b/7439LZynlv06wGtTUXQlAumL6KzeMDkDgxWozWmUJQIbabCxYANm/M4Nv/f+i5b8wT95zuum/vw2+sPfyVtm/Djo88e9n8b9qxWHnoBn0PzXAlHxm+gbA0YpBYdMRDsA3yYfqz6LovxQkLN8dLhHA/BPdu6dL+r9i3a6BpaL1vw==",
          "dtype": "f8"
         },
         "yaxis": "y2"
        },
        {
         "line": {
          "dash": "dash",
          "width": 2
         },
         "mode": "lines",
         "name": "Latent state μ[2]",
         "type": "scatter",
         "x": {
          "bdata": "AAABAAIAAwAEAAUABgAHAAgACQAKAAsADAANAA4ADwAQABEAEgATABQAFQAWABcAGAAZABoAGwAcAB0AHgAfACAAIQAiACMAJAAlACYAJwAoACkAKgArACwALQAuAC8AMAAxADIAMwA0ADUANgA3ADgAOQA6ADsAPAA9AD4APwBAAEEAQgBDAEQARQBGAEcASABJAEoASwBMAE0ATgBPAFAAUQBSAFMAVABVAFYAVwBYAFkAWgBbAFwAXQBeAF8AYABhAGIAYwBkAGUAZgBnAGgAaQBqAGsAbABtAG4AbwBwAHEAcgBzAHQAdQB2AHcAeAB5AHoAewB8AH0AfgB/AIAAgQCCAIMAhACFAIYAhwCIAIkAigCLAIwAjQCOAI8AkACRAJIAkwCUAJUAlgCXAJgAmQCaAJsAnACdAJ4AnwCgAKEAogCjAKQApQCmAKcAqACpAKoAqwCsAK0ArgCvALAAsQCyALMAtAC1ALYAtwC4ALkAugC7ALwAvQC+AL8AwADBAMIAwwDEAMUAxgDHAMgAyQDKAMsAzADNAM4AzwDQANEA0gDTANQA1QDWANcA2ADZANoA2wDcAN0A3gDfAOAA4QDiAOMA5ADlAOYA5wDoAOkA6gDrAOwA7QDuAO8A8ADxAPIA8wD0APUA9gD3APgA+QD6APsA/AD9AP4A/wAAAQEBAgEDAQQBBQEGAQcBCAEJAQoBCwEMAQ0BDgEPARABEQESARMBFAEVARYBFwEYARkBGgEbARwBHQEeAR8BIAEhASIBIwEkASUBJgEnASgBKQEqASsBLAEtAS4BLwEwATEBMgEzATQBNQE2ATcBOAE5AToBOwE8AT0BPgE/AUABQQFCAUMBRAFFAUYBRwFIAUkBSgFLAUwBTQFOAU8BUAFRAVIBUwFUAVUBVgFXAVgBWQFaAVsBXAFdAV4BXwFgAWEBYgFjAWQBZQFmAWcBaAFpAWoBawFsAW0BbgFvAXABcQFyAXMBdAF1AXYBdwF4AXkBegF7AXwBfQF+AX8BgAGBAYIBgwGEAYUBhgGHAYgBiQGKAYsBjAGNAY4BjwGQAZEBkgGTAZQBlQGWAZcBmAGZAZoBmwGcAZ0BngGfAaABoQGiAaMBpAGlAaYBpwGoAakBqgGrAawBrQGuAa8BsAGxAbIBswG0AbUBtgG3AbgBuQG6AbsBvAG9Ab4BvwHAAcEBwgHDAcQBxQHGAccByAHJAcoBywHMAc0BzgHPAdAB0QHSAdMB1AHVAdYB1wHYAdkB2gHbAdwB3QHeAd8B4AHhAeIB4wHkAeUB5gHnAegB6QHqAesB7AHtAe4B7wHwAfEB8gHzAQ==",
          "dtype": "i2"
         },
         "xaxis": "x2",
         "y": {
          "bdata": "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",
          "dtype": "f8"
         },
         "yaxis": "y2"
        },
        {
         "line": {
          "width": 1
         },
         "mode": "lines",
         "name": "Regressor X[1]",
         "type": "scatter",
         "x": {
          "bdata": "AAABAAIAAwAEAAUABgAHAAgACQAKAAsADAANAA4ADwAQABEAEgATABQAFQAWABcAGAAZABoAGwAcAB0AHgAfACAAIQAiACMAJAAlACYAJwAoACkAKgArACwALQAuAC8AMAAxADIAMwA0ADUANgA3ADgAOQA6ADsAPAA9AD4APwBAAEEAQgBDAEQARQBGAEcASABJAEoASwBMAE0ATgBPAFAAUQBSAFMAVABVAFYAVwBYAFkAWgBbAFwAXQBeAF8AYABhAGIAYwBkAGUAZgBnAGgAaQBqAGsAbABtAG4AbwBwAHEAcgBzAHQAdQB2AHcAeAB5AHoAewB8AH0AfgB/AIAAgQCCAIMAhACFAIYAhwCIAIkAigCLAIwAjQCOAI8AkACRAJIAkwCUAJUAlgCXAJgAmQCaAJsAnACdAJ4AnwCgAKEAogCjAKQApQCmAKcAqACpAKoAqwCsAK0ArgCvALAAsQCyALMAtAC1ALYAtwC4ALkAugC7ALwAvQC+AL8AwADBAMIAwwDEAMUAxgDHAMgAyQDKAMsAzADNAM4AzwDQANEA0gDTANQA1QDWANcA2ADZANoA2wDcAN0A3gDfAOAA4QDiAOMA5ADlAOYA5wDoAOkA6gDrAOwA7QDuAO8A8ADxAPIA8wD0APUA9gD3APgA+QD6APsA/AD9AP4A/wAAAQEBAgEDAQQBBQEGAQcBCAEJAQoBCwEMAQ0BDgEPARABEQESARMBFAEVARYBFwEYARkBGgEbARwBHQEeAR8BIAEhASIBIwEkASUBJgEnASgBKQEqASsBLAEtAS4BLwEwATEBMgEzATQBNQE2ATcBOAE5AToBOwE8AT0BPgE/AUABQQFCAUMBRAFFAUYBRwFIAUkBSgFLAUwBTQFOAU8BUAFRAVIBUwFUAVUBVgFXAVgBWQFaAVsBXAFdAV4BXwFgAWEBYgFjAWQBZQFmAWcBaAFpAWoBawFsAW0BbgFvAXABcQFyAXMBdAF1AXYBdwF4AXkBegF7AXwBfQF+AX8BgAGBAYIBgwGEAYUBhgGHAYgBiQGKAYsBjAGNAY4BjwGQAZEBkgGTAZQBlQGWAZcBmAGZAZoBmwGcAZ0BngGfAaABoQGiAaMBpAGlAaYBpwGoAakBqgGrAawBrQGuAa8BsAGxAbIBswG0AbUBtgG3AbgBuQG6AbsBvAG9Ab4BvwHAAcEBwgHDAcQBxQHGAccByAHJAcoBywHMAc0BzgHPAdAB0QHSAdMB1AHVAdYB1wHYAdkB2gHbAdwB3QHeAd8B4AHhAeIB4wHkAeUB5gHnAegB6QHqAesB7AHtAe4B7wHwAfEB8gHzAQ==",
          "dtype": "i2"
         },
         "xaxis": "x3",
         "y": {
          "bdata": "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",
          "dtype": "f8"
         },
         "yaxis": "y3"
        },
        {
         "line": {
          "width": 1
         },
         "mode": "lines",
         "name": "Regressor X[2]",
         "type": "scatter",
         "x": {
          "bdata": "AAABAAIAAwAEAAUABgAHAAgACQAKAAsADAANAA4ADwAQABEAEgATABQAFQAWABcAGAAZABoAGwAcAB0AHgAfACAAIQAiACMAJAAlACYAJwAoACkAKgArACwALQAuAC8AMAAxADIAMwA0ADUANgA3ADgAOQA6ADsAPAA9AD4APwBAAEEAQgBDAEQARQBGAEcASABJAEoASwBMAE0ATgBPAFAAUQBSAFMAVABVAFYAVwBYAFkAWgBbAFwAXQBeAF8AYABhAGIAYwBkAGUAZgBnAGgAaQBqAGsAbABtAG4AbwBwAHEAcgBzAHQAdQB2AHcAeAB5AHoAewB8AH0AfgB/AIAAgQCCAIMAhACFAIYAhwCIAIkAigCLAIwAjQCOAI8AkACRAJIAkwCUAJUAlgCXAJgAmQCaAJsAnACdAJ4AnwCgAKEAogCjAKQApQCmAKcAqACpAKoAqwCsAK0ArgCvALAAsQCyALMAtAC1ALYAtwC4ALkAugC7ALwAvQC+AL8AwADBAMIAwwDEAMUAxgDHAMgAyQDKAMsAzADNAM4AzwDQANEA0gDTANQA1QDWANcA2ADZANoA2wDcAN0A3gDfAOAA4QDiAOMA5ADlAOYA5wDoAOkA6gDrAOwA7QDuAO8A8ADxAPIA8wD0APUA9gD3APgA+QD6APsA/AD9AP4A/wAAAQEBAgEDAQQBBQEGAQcBCAEJAQoBCwEMAQ0BDgEPARABEQESARMBFAEVARYBFwEYARkBGgEbARwBHQEeAR8BIAEhASIBIwEkASUBJgEnASgBKQEqASsBLAEtAS4BLwEwATEBMgEzATQBNQE2ATcBOAE5AToBOwE8AT0BPgE/AUABQQFCAUMBRAFFAUYBRwFIAUkBSgFLAUwBTQFOAU8BUAFRAVIBUwFUAVUBVgFXAVgBWQFaAVsBXAFdAV4BXwFgAWEBYgFjAWQBZQFmAWcBaAFpAWoBawFsAW0BbgFvAXABcQFyAXMBdAF1AXYBdwF4AXkBegF7AXwBfQF+AX8BgAGBAYIBgwGEAYUBhgGHAYgBiQGKAYsBjAGNAY4BjwGQAZEBkgGTAZQBlQGWAZcBmAGZAZoBmwGcAZ0BngGfAaABoQGiAaMBpAGlAaYBpwGoAakBqgGrAawBrQGuAa8BsAGxAbIBswG0AbUBtgG3AbgBuQG6AbsBvAG9Ab4BvwHAAcEBwgHDAcQBxQHGAccByAHJAcoBywHMAc0BzgHPAdAB0QHSAdMB1AHVAdYB1wHYAdkB2gHbAdwB3QHeAd8B4AHhAeIB4wHkAeUB5gHnAegB6QHqAesB7AHtAe4B7wHwAfEB8gHzAQ==",
          "dtype": "i2"
         },
         "xaxis": "x3",
         "y": {
          "bdata": "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",
          "dtype": "f8"
         },
         "yaxis": "y3"
        },
        {
         "line": {
          "width": 1
         },
         "mode": "lines",
         "name": "Regressor X[3]",
         "type": "scatter",
         "x": {
          "bdata": "AAABAAIAAwAEAAUABgAHAAgACQAKAAsADAANAA4ADwAQABEAEgATABQAFQAWABcAGAAZABoAGwAcAB0AHgAfACAAIQAiACMAJAAlACYAJwAoACkAKgArACwALQAuAC8AMAAxADIAMwA0ADUANgA3ADgAOQA6ADsAPAA9AD4APwBAAEEAQgBDAEQARQBGAEcASABJAEoASwBMAE0ATgBPAFAAUQBSAFMAVABVAFYAVwBYAFkAWgBbAFwAXQBeAF8AYABhAGIAYwBkAGUAZgBnAGgAaQBqAGsAbABtAG4AbwBwAHEAcgBzAHQAdQB2AHcAeAB5AHoAewB8AH0AfgB/AIAAgQCCAIMAhACFAIYAhwCIAIkAigCLAIwAjQCOAI8AkACRAJIAkwCUAJUAlgCXAJgAmQCaAJsAnACdAJ4AnwCgAKEAogCjAKQApQCmAKcAqACpAKoAqwCsAK0ArgCvALAAsQCyALMAtAC1ALYAtwC4ALkAugC7ALwAvQC+AL8AwADBAMIAwwDEAMUAxgDHAMgAyQDKAMsAzADNAM4AzwDQANEA0gDTANQA1QDWANcA2ADZANoA2wDcAN0A3gDfAOAA4QDiAOMA5ADlAOYA5wDoAOkA6gDrAOwA7QDuAO8A8ADxAPIA8wD0APUA9gD3APgA+QD6APsA/AD9AP4A/wAAAQEBAgEDAQQBBQEGAQcBCAEJAQoBCwEMAQ0BDgEPARABEQESARMBFAEVARYBFwEYARkBGgEbARwBHQEeAR8BIAEhASIBIwEkASUBJgEnASgBKQEqASsBLAEtAS4BLwEwATEBMgEzATQBNQE2ATcBOAE5AToBOwE8AT0BPgE/AUABQQFCAUMBRAFFAUYBRwFIAUkBSgFLAUwBTQFOAU8BUAFRAVIBUwFUAVUBVgFXAVgBWQFaAVsBXAFdAV4BXwFgAWEBYgFjAWQBZQFmAWcBaAFpAWoBawFsAW0BbgFvAXABcQFyAXMBdAF1AXYBdwF4AXkBegF7AXwBfQF+AX8BgAGBAYIBgwGEAYUBhgGHAYgBiQGKAYsBjAGNAY4BjwGQAZEBkgGTAZQBlQGWAZcBmAGZAZoBmwGcAZ0BngGfAaABoQGiAaMBpAGlAaYBpwGoAakBqgGrAawBrQGuAa8BsAGxAbIBswG0AbUBtgG3AbgBuQG6AbsBvAG9Ab4BvwHAAcEBwgHDAcQBxQHGAccByAHJAcoBywHMAc0BzgHPAdAB0QHSAdMB1AHVAdYB1wHYAdkB2gHbAdwB3QHeAd8B4AHhAeIB4wHkAeUB5gHnAegB6QHqAesB7AHtAe4B7wHwAfEB8gHzAQ==",
          "dtype": "i2"
         },
         "xaxis": "x3",
         "y": {
          "bdata": "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",
          "dtype": "f8"
         },
         "yaxis": "y3"
        }
       ],
       "layout": {
        "annotations": [
         {
          "font": {
           "size": 16
          },
          "showarrow": false,
          "text": "Dimension 1",
          "x": 0.5,
          "xanchor": "center",
          "xref": "paper",
          "y": 1,
          "yanchor": "bottom",
          "yref": "paper"
         },
         {
          "font": {
           "size": 16
          },
          "showarrow": false,
          "text": "Dimension 2",
          "x": 0.5,
          "xanchor": "center",
          "xref": "paper",
          "y": 0.6111111111111112,
          "yanchor": "bottom",
          "yref": "paper"
         },
         {
          "font": {
           "size": 16
          },
          "showarrow": false,
          "text": "Regressors X_t",
          "x": 0.5,
          "xanchor": "center",
          "xref": "paper",
          "y": 0.22222222222222224,
          "yanchor": "bottom",
          "yref": "paper"
         }
        ],
        "height": 900,
        "showlegend": true,
        "template": {
         "data": {
          "bar": [
           {
            "error_x": {
             "color": "#2a3f5f"
            },
            "error_y": {
             "color": "#2a3f5f"
            },
            "marker": {
             "line": {
              "color": "white",
              "width": 0.5
             },
             "pattern": {
              "fillmode": "overlay",
              "size": 10,
              "solidity": 0.2
             }
            },
            "type": "bar"
           }
          ],
          "barpolar": [
           {
            "marker": {
             "line": {
              "color": "white",
              "width": 0.5
             },
             "pattern": {
              "fillmode": "overlay",
              "size": 10,
              "solidity": 0.2
             }
            },
            "type": "barpolar"
           }
          ],
          "carpet": [
           {
            "aaxis": {
             "endlinecolor": "#2a3f5f",
             "gridcolor": "#C8D4E3",
             "linecolor": "#C8D4E3",
             "minorgridcolor": "#C8D4E3",
             "startlinecolor": "#2a3f5f"
            },
            "baxis": {
             "endlinecolor": "#2a3f5f",
             "gridcolor": "#C8D4E3",
             "linecolor": "#C8D4E3",
             "minorgridcolor": "#C8D4E3",
             "startlinecolor": "#2a3f5f"
            },
            "type": "carpet"
           }
          ],
          "choropleth": [
           {
            "colorbar": {
             "outlinewidth": 0,
             "ticks": ""
            },
            "type": "choropleth"
           }
          ],
          "contour": [
           {
            "colorbar": {
             "outlinewidth": 0,
             "ticks": ""
            },
            "colorscale": [
             [
              0,
              "#0d0887"
             ],
             [
              0.1111111111111111,
              "#46039f"
             ],
             [
              0.2222222222222222,
              "#7201a8"
             ],
             [
              0.3333333333333333,
              "#9c179e"
             ],
             [
              0.4444444444444444,
              "#bd3786"
             ],
             [
              0.5555555555555556,
              "#d8576b"
             ],
             [
              0.6666666666666666,
              "#ed7953"
             ],
             [
              0.7777777777777778,
              "#fb9f3a"
             ],
             [
              0.8888888888888888,
              "#fdca26"
             ],
             [
              1,
              "#f0f921"
             ]
            ],
            "type": "contour"
           }
          ],
          "contourcarpet": [
           {
            "colorbar": {
             "outlinewidth": 0,
             "ticks": ""
            },
            "type": "contourcarpet"
           }
          ],
          "heatmap": [
           {
            "colorbar": {
             "outlinewidth": 0,
             "ticks": ""
            },
            "colorscale": [
             [
              0,
              "#0d0887"
             ],
             [
              0.1111111111111111,
              "#46039f"
             ],
             [
              0.2222222222222222,
              "#7201a8"
             ],
             [
              0.3333333333333333,
              "#9c179e"
             ],
             [
              0.4444444444444444,
              "#bd3786"
             ],
             [
              0.5555555555555556,
              "#d8576b"
             ],
             [
              0.6666666666666666,
              "#ed7953"
             ],
             [
              0.7777777777777778,
              "#fb9f3a"
             ],
             [
              0.8888888888888888,
              "#fdca26"
             ],
             [
              1,
              "#f0f921"
             ]
            ],
            "type": "heatmap"
           }
          ],
          "histogram": [
           {
            "marker": {
             "pattern": {
              "fillmode": "overlay",
              "size": 10,
              "solidity": 0.2
             }
            },
            "type": "histogram"
           }
          ],
          "histogram2d": [
           {
            "colorbar": {
             "outlinewidth": 0,
             "ticks": ""
            },
            "colorscale": [
             [
              0,
              "#0d0887"
             ],
             [
              0.1111111111111111,
              "#46039f"
             ],
             [
              0.2222222222222222,
              "#7201a8"
             ],
             [
              0.3333333333333333,
              "#9c179e"
             ],
             [
              0.4444444444444444,
              "#bd3786"
             ],
             [
              0.5555555555555556,
              "#d8576b"
             ],
             [
              0.6666666666666666,
              "#ed7953"
             ],
             [
              0.7777777777777778,
              "#fb9f3a"
             ],
             [
              0.8888888888888888,
              "#fdca26"
             ],
             [
              1,
              "#f0f921"
             ]
            ],
            "type": "histogram2d"
           }
          ],
          "histogram2dcontour": [
           {
            "colorbar": {
             "outlinewidth": 0,
             "ticks": ""
            },
            "colorscale": [
             [
              0,
              "#0d0887"
             ],
             [
              0.1111111111111111,
              "#46039f"
             ],
             [
              0.2222222222222222,
              "#7201a8"
             ],
             [
              0.3333333333333333,
              "#9c179e"
             ],
             [
              0.4444444444444444,
              "#bd3786"
             ],
             [
              0.5555555555555556,
              "#d8576b"
             ],
             [
              0.6666666666666666,
              "#ed7953"
             ],
             [
              0.7777777777777778,
              "#fb9f3a"
             ],
             [
              0.8888888888888888,
              "#fdca26"
             ],
             [
              1,
              "#f0f921"
             ]
            ],
            "type": "histogram2dcontour"
           }
          ],
          "mesh3d": [
           {
            "colorbar": {
             "outlinewidth": 0,
             "ticks": ""
            },
            "type": "mesh3d"
           }
          ],
          "parcoords": [
           {
            "line": {
             "colorbar": {
              "outlinewidth": 0,
              "ticks": ""
             }
            },
            "type": "parcoords"
           }
          ],
          "pie": [
           {
            "automargin": true,
            "type": "pie"
           }
          ],
          "scatter": [
           {
            "fillpattern": {
             "fillmode": "overlay",
             "size": 10,
             "solidity": 0.2
            },
            "type": "scatter"
           }
          ],
          "scatter3d": [
           {
            "line": {
             "colorbar": {
              "outlinewidth": 0,
              "ticks": ""
             }
            },
            "marker": {
             "colorbar": {
              "outlinewidth": 0,
              "ticks": ""
             }
            },
            "type": "scatter3d"
           }
          ],
          "scattercarpet": [
           {
            "marker": {
             "colorbar": {
              "outlinewidth": 0,
              "ticks": ""
             }
            },
            "type": "scattercarpet"
           }
          ],
          "scattergeo": [
           {
            "marker": {
             "colorbar": {
              "outlinewidth": 0,
              "ticks": ""
             }
            },
            "type": "scattergeo"
           }
          ],
          "scattergl": [
           {
            "marker": {
             "colorbar": {
              "outlinewidth": 0,
              "ticks": ""
             }
            },
            "type": "scattergl"
           }
          ],
          "scattermap": [
           {
            "marker": {
             "colorbar": {
              "outlinewidth": 0,
              "ticks": ""
             }
            },
            "type": "scattermap"
           }
          ],
          "scattermapbox": [
           {
            "marker": {
             "colorbar": {
              "outlinewidth": 0,
              "ticks": ""
             }
            },
            "type": "scattermapbox"
           }
          ],
          "scatterpolar": [
           {
            "marker": {
             "colorbar": {
              "outlinewidth": 0,
              "ticks": ""
             }
            },
            "type": "scatterpolar"
           }
          ],
          "scatterpolargl": [
           {
            "marker": {
             "colorbar": {
              "outlinewidth": 0,
              "ticks": ""
             }
            },
            "type": "scatterpolargl"
           }
          ],
          "scatterternary": [
           {
            "marker": {
             "colorbar": {
              "outlinewidth": 0,
              "ticks": ""
             }
            },
            "type": "scatterternary"
           }
          ],
          "surface": [
           {
            "colorbar": {
             "outlinewidth": 0,
             "ticks": ""
            },
            "colorscale": [
             [
              0,
              "#0d0887"
             ],
             [
              0.1111111111111111,
              "#46039f"
             ],
             [
              0.2222222222222222,
              "#7201a8"
             ],
             [
              0.3333333333333333,
              "#9c179e"
             ],
             [
              0.4444444444444444,
              "#bd3786"
             ],
             [
              0.5555555555555556,
              "#d8576b"
             ],
             [
              0.6666666666666666,
              "#ed7953"
             ],
             [
              0.7777777777777778,
              "#fb9f3a"
             ],
             [
              0.8888888888888888,
              "#fdca26"
             ],
             [
              1,
              "#f0f921"
             ]
            ],
            "type": "surface"
           }
          ],
          "table": [
           {
            "cells": {
             "fill": {
              "color": "#EBF0F8"
             },
             "line": {
              "color": "white"
             }
            },
            "header": {
             "fill": {
              "color": "#C8D4E3"
             },
             "line": {
              "color": "white"
             }
            },
            "type": "table"
           }
          ]
         },
         "layout": {
          "annotationdefaults": {
           "arrowcolor": "#2a3f5f",
           "arrowhead": 0,
           "arrowwidth": 1
          },
          "autotypenumbers": "strict",
          "coloraxis": {
           "colorbar": {
            "outlinewidth": 0,
            "ticks": ""
           }
          },
          "colorscale": {
           "diverging": [
            [
             0,
             "#8e0152"
            ],
            [
             0.1,
             "#c51b7d"
            ],
            [
             0.2,
             "#de77ae"
            ],
            [
             0.3,
             "#f1b6da"
            ],
            [
             0.4,
             "#fde0ef"
            ],
            [
             0.5,
             "#f7f7f7"
            ],
            [
             0.6,
             "#e6f5d0"
            ],
            [
             0.7,
             "#b8e186"
            ],
            [
             0.8,
             "#7fbc41"
            ],
            [
             0.9,
             "#4d9221"
            ],
            [
             1,
             "#276419"
            ]
           ],
           "sequential": [
            [
             0,
             "#0d0887"
            ],
            [
             0.1111111111111111,
             "#46039f"
            ],
            [
             0.2222222222222222,
             "#7201a8"
            ],
            [
             0.3333333333333333,
             "#9c179e"
            ],
            [
             0.4444444444444444,
             "#bd3786"
            ],
            [
             0.5555555555555556,
             "#d8576b"
            ],
            [
             0.6666666666666666,
             "#ed7953"
            ],
            [
             0.7777777777777778,
             "#fb9f3a"
            ],
            [
             0.8888888888888888,
             "#fdca26"
            ],
            [
             1,
             "#f0f921"
            ]
           ],
           "sequentialminus": [
            [
             0,
             "#0d0887"
            ],
            [
             0.1111111111111111,
             "#46039f"
            ],
            [
             0.2222222222222222,
             "#7201a8"
            ],
            [
             0.3333333333333333,
             "#9c179e"
            ],
            [
             0.4444444444444444,
             "#bd3786"
            ],
            [
             0.5555555555555556,
             "#d8576b"
            ],
            [
             0.6666666666666666,
             "#ed7953"
            ],
            [
             0.7777777777777778,
             "#fb9f3a"
            ],
            [
             0.8888888888888888,
             "#fdca26"
            ],
            [
             1,
             "#f0f921"
            ]
           ]
          },
          "colorway": [
           "#636efa",
           "#EF553B",
           "#00cc96",
           "#ab63fa",
           "#FFA15A",
           "#19d3f3",
           "#FF6692",
           "#B6E880",
           "#FF97FF",
           "#FECB52"
          ],
          "font": {
           "color": "#2a3f5f"
          },
          "geo": {
           "bgcolor": "white",
           "lakecolor": "white",
           "landcolor": "white",
           "showlakes": true,
           "showland": true,
           "subunitcolor": "#C8D4E3"
          },
          "hoverlabel": {
           "align": "left"
          },
          "hovermode": "closest",
          "mapbox": {
           "style": "light"
          },
          "paper_bgcolor": "white",
          "plot_bgcolor": "white",
          "polar": {
           "angularaxis": {
            "gridcolor": "#EBF0F8",
            "linecolor": "#EBF0F8",
            "ticks": ""
           },
           "bgcolor": "white",
           "radialaxis": {
            "gridcolor": "#EBF0F8",
            "linecolor": "#EBF0F8",
            "ticks": ""
           }
          },
          "scene": {
           "xaxis": {
            "backgroundcolor": "white",
            "gridcolor": "#DFE8F3",
            "gridwidth": 2,
            "linecolor": "#EBF0F8",
            "showbackground": true,
            "ticks": "",
            "zerolinecolor": "#EBF0F8"
           },
           "yaxis": {
            "backgroundcolor": "white",
            "gridcolor": "#DFE8F3",
            "gridwidth": 2,
            "linecolor": "#EBF0F8",
            "showbackground": true,
            "ticks": "",
            "zerolinecolor": "#EBF0F8"
           },
           "zaxis": {
            "backgroundcolor": "white",
            "gridcolor": "#DFE8F3",
            "gridwidth": 2,
            "linecolor": "#EBF0F8",
            "showbackground": true,
            "ticks": "",
            "zerolinecolor": "#EBF0F8"
           }
          },
          "shapedefaults": {
           "line": {
            "color": "#2a3f5f"
           }
          },
          "ternary": {
           "aaxis": {
            "gridcolor": "#DFE8F3",
            "linecolor": "#A2B1C6",
            "ticks": ""
           },
           "baxis": {
            "gridcolor": "#DFE8F3",
            "linecolor": "#A2B1C6",
            "ticks": ""
           },
           "bgcolor": "white",
           "caxis": {
            "gridcolor": "#DFE8F3",
            "linecolor": "#A2B1C6",
            "ticks": ""
           }
          },
          "title": {
           "x": 0.05
          },
          "xaxis": {
           "automargin": true,
           "gridcolor": "#EBF0F8",
           "linecolor": "#EBF0F8",
           "ticks": "",
           "title": {
            "standoff": 15
           },
           "zerolinecolor": "#EBF0F8",
           "zerolinewidth": 2
          },
          "yaxis": {
           "automargin": true,
           "gridcolor": "#EBF0F8",
           "linecolor": "#EBF0F8",
           "ticks": "",
           "title": {
            "standoff": 15
           },
           "zerolinecolor": "#EBF0F8",
           "zerolinewidth": 2
          }
         }
        },
        "title": {
         "text": "Multivariate t-GAS Simulation: Observations, Latent States, and Regressors"
        },
        "width": 950,
        "xaxis": {
         "anchor": "y",
         "domain": [
          0,
          1
         ],
         "matches": "x3",
         "showticklabels": false
        },
        "xaxis2": {
         "anchor": "y2",
         "domain": [
          0,
          1
         ],
         "matches": "x3",
         "showticklabels": false
        },
        "xaxis3": {
         "anchor": "y3",
         "domain": [
          0,
          1
         ],
         "title": {
          "text": "Time"
         }
        },
        "yaxis": {
         "anchor": "x",
         "domain": [
          0.7777777777777778,
          1
         ],
         "title": {
          "text": "Value"
         }
        },
        "yaxis2": {
         "anchor": "x2",
         "domain": [
          0.3888888888888889,
          0.6111111111111112
         ],
         "title": {
          "text": "Value"
         }
        },
        "yaxis3": {
         "anchor": "x3",
         "domain": [
          0,
          0.22222222222222224
         ],
         "title": {
          "text": "Value"
         }
        }
       }
      }
     },
     "metadata": {},
     "output_type": "display_data"
    }
   ],
   "source": [
    "# # Assuming you've run the simulation:\n",
    "# # y_sim, mu_sim, X_sim = simulate_multivariate_gas(...)\n",
    "\n",
    "# T, N = y_sim.shape\n",
    "# time_axis = np.arange(T)\n",
    "\n",
    "# fig = go.Figure()\n",
    "\n",
    "# # Explicitly plot observations (y)\n",
    "# for dim in range(N):\n",
    "#     fig.add_trace(go.Scatter(\n",
    "#         x=time_axis,\n",
    "#         y=y_sim[:, dim],\n",
    "#         mode='lines',\n",
    "#         name=f'Observation y[{dim+1}]',\n",
    "#         line=dict(width=1.5),\n",
    "#         opacity=0.7\n",
    "#     ))\n",
    "\n",
    "# # Explicitly plot latent states (mu)\n",
    "# for dim in range(N):\n",
    "#     fig.add_trace(go.Scatter(\n",
    "#         x=time_axis,\n",
    "#         y=mu_sim[:, dim],\n",
    "#         mode='lines',\n",
    "#         name=f'Latent state μ[{dim+1}]',\n",
    "#         line=dict(width=2, dash='dash')\n",
    "#     ))\n",
    "\n",
    "# # Explicit layout configuration\n",
    "# fig.update_layout(\n",
    "#     title=\"Multivariate GAS Simulated Data and Latent States\",\n",
    "#     xaxis_title=\"Time\",\n",
    "#     yaxis_title=\"Value\",\n",
    "#     legend=dict(x=1.05, y=1),\n",
    "#     width=950,\n",
    "#     height=600,\n",
    "#     template=\"plotly_white\"\n",
    "# )\n",
    "\n",
    "# fig.show()\n",
    "\n",
    "time_axis = np.arange(T)\n",
    "K = X_mtg.shape[1]\n",
    "\n",
    "# Create subplots: N rows for dimensions + 1 for regressors\n",
    "fig = make_subplots(\n",
    "    rows=N + 1, cols=1, shared_xaxes=True,\n",
    "    subplot_titles=[f\"Dimension {i+1}\" for i in range(N)] + [\"Regressors X_t\"]\n",
    ")\n",
    "\n",
    "# --- Add y and mu plots per dimension ---\n",
    "for dim in range(N):\n",
    "    fig.add_trace(go.Scatter(\n",
    "        x=time_axis, y=y_mtg[:, dim],\n",
    "        mode='lines', name=f'Observation y[{dim+1}]',\n",
    "        line=dict(width=1.5), opacity=0.7\n",
    "    ), row=dim+1, col=1)\n",
    "\n",
    "    fig.add_trace(go.Scatter(\n",
    "        x=time_axis, y=mu_mtg[:, dim],\n",
    "        mode='lines', name=f'Latent state μ[{dim+1}]',\n",
    "        line=dict(width=2, dash='dash')\n",
    "    ), row=dim+1, col=1)\n",
    "\n",
    "# --- Plot each regressor in final subplot row ---\n",
    "for k in range(K):\n",
    "    fig.add_trace(go.Scatter(\n",
    "        x=time_axis, y=X_mtg[:, k],\n",
    "        mode='lines', name=f'Regressor X[{k+1}]',\n",
    "        line=dict(width=1)\n",
    "    ), row=N+1, col=1)\n",
    "\n",
    "# --- Layout styling ---\n",
    "fig.update_layout(\n",
    "    height=300 * (N + 1),\n",
    "    width=950,\n",
    "    title_text=\"Multivariate t-GAS Simulation: Observations, Latent States, and Regressors\",\n",
    "    template=\"plotly_white\",\n",
    "    showlegend=True\n",
    ")\n",
    "\n",
    "fig.update_xaxes(title_text=\"Time\", row=N+1, col=1)\n",
    "fig.update_yaxes(title_text=\"Value\")\n",
    "\n",
    "fig.show()\n",
    "\n"
   ]
  },
  {
   "cell_type": "code",
   "execution_count": 42,
   "id": "0816c593",
   "metadata": {},
   "outputs": [],
   "source": [
    "# # Explicitly create subplots\n",
    "# fig = make_subplots(rows=N, cols=1, shared_xaxes=True,\n",
    "#                     subplot_titles=[f\"Dimension {i+1}\" for i in range(N)])\n",
    "\n",
    "# for dim in range(N):\n",
    "#     # Plot observations explicitly\n",
    "#     fig.add_trace(go.Scatter(\n",
    "#         x=time_axis, y=y_sim[:, dim],\n",
    "#         mode='lines', name=f'Observation y[{dim+1}]',\n",
    "#         line=dict(width=1.5), opacity=0.7\n",
    "#     ), row=dim+1, col=1)\n",
    "\n",
    "#     # Plot latent states explicitly\n",
    "#     fig.add_trace(go.Scatter(\n",
    "#         x=time_axis, y=mu_sim[:, dim],\n",
    "#         mode='lines', name=f'Latent state μ[{dim+1}]',\n",
    "#         line=dict(width=2, dash='dash')\n",
    "#     ), row=dim+1, col=1)\n",
    "\n",
    "# fig.update_layout(\n",
    "#     height=300*N, width=950,\n",
    "#     title_text=\"Explicit Multivariate GAS Data: Observations vs. Latent States\",\n",
    "#     template=\"plotly_white\"\n",
    "# )\n",
    "\n",
    "# fig.update_xaxes(title_text=\"Time\", row=N, col=1)\n",
    "# fig.update_yaxes(title_text=\"Value\")\n",
    "\n",
    "# fig.show()\n"
   ]
  },
  {
   "cell_type": "code",
   "execution_count": null,
   "id": "ee222e01",
   "metadata": {},
   "outputs": [],
   "source": []
  }
 ],
 "metadata": {
  "kernelspec": {
   "display_name": ".venv",
   "language": "python",
   "name": "python3"
  },
  "language_info": {
   "codemirror_mode": {
    "name": "ipython",
    "version": 3
   },
   "file_extension": ".py",
   "mimetype": "text/x-python",
   "name": "python",
   "nbconvert_exporter": "python",
   "pygments_lexer": "ipython3",
   "version": "3.11.9"
  }
 },
 "nbformat": 4,
 "nbformat_minor": 5
}
